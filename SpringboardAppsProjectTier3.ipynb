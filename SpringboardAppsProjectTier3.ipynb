{
 "cells": [
  {
   "cell_type": "markdown",
   "metadata": {
    "colab_type": "text",
    "id": "i2RUFW7TFcuh"
   },
   "source": [
    "# Springboard Apps project - Tier 3 - Complete\n",
    "\n",
    "Welcome to the Apps project! To give you a taste of your future career, we're going to walk through exactly the kind of notebook that you'd write as a data scientist. In the process, we'll be sure to signpost the general framework for our investigation - the Data Science Pipeline - as well as give reasons for why we're doing what we're doing. We're also going to apply some of the skills and knowledge you've built up in the previous unit when reading Professor Spiegelhalter's *The Art of Statistics* (hereinafter *AoS*). \n",
    "\n",
    "So let's get cracking!\n",
    "\n",
    "**Brief**\n",
    "\n",
    "Did Apple Store apps receive better reviews than Google Play apps?\n",
    "\n",
    "## Stages of the project\n",
    "\n",
    "1. Sourcing and loading \n",
    "    * Load the two datasets\n",
    "    * Pick the columns that we are going to work with \n",
    "    * Subsetting the data on this basis \n",
    " \n",
    " \n",
    "2. Cleaning, transforming and visualizing\n",
    "    * Check the data types and fix them\n",
    "    * Add a `platform` column to both the `Apple` and the `Google` dataframes\n",
    "    * Changing the column names to prepare for a join \n",
    "    * Join the two data sets\n",
    "    * Eliminate the `NaN` values\n",
    "    * Filter only those apps that have been reviewed at least once\n",
    "    * Summarize the data visually and analytically (by the column `platform`)  \n",
    "  \n",
    "  \n",
    "3. Modelling \n",
    "    * Hypothesis formulation\n",
    "    * Getting the distribution of the data\n",
    "    * Permutation test \n",
    "\n",
    "\n",
    "4. Evaluating and concluding \n",
    "    * What is our conclusion?\n",
    "    * What is our decision?\n",
    "    * Other models we could have used. \n",
    "    "
   ]
  },
  {
   "cell_type": "markdown",
   "metadata": {
    "colab_type": "text",
    "id": "QLUAXtl1Fcuk"
   },
   "source": [
    "## Importing the libraries\n",
    "\n",
    "In this case we are going to import pandas, numpy, scipy, random and matplotlib.pyplot"
   ]
  },
  {
   "cell_type": "code",
   "execution_count": 1,
   "metadata": {
    "colab": {},
    "colab_type": "code",
    "id": "XeXJOlGiFcum"
   },
   "outputs": [],
   "source": [
    "import pandas as pd\n",
    "import numpy as np\n",
    "import matplotlib.pyplot as plt\n",
    "# scipi is a library for statistical tests and visualizations \n",
    "from scipy import stats\n",
    "# random enables us to generate random numbers\n",
    "import random"
   ]
  },
  {
   "cell_type": "markdown",
   "metadata": {
    "colab_type": "text",
    "id": "zVD7NlPAFcup"
   },
   "source": [
    "## Stage 1 -  Sourcing and loading data"
   ]
  },
  {
   "cell_type": "markdown",
   "metadata": {
    "colab_type": "text",
    "id": "KU8bdbImFcuq"
   },
   "source": [
    "### 1a. Source and load the data\n",
    "Let's download the data from Kaggle. Kaggle is a fantastic resource: a kind of social medium for data scientists, it boasts projects, datasets and news on the freshest libraries and technologies all in one place. The data from the Apple Store can be found [here](https://www.kaggle.com/ramamet4/app-store-apple-data-set-10k-apps) and the data from Google Store can be found [here](https://www.kaggle.com/lava18/google-play-store-apps).\n",
    "Download the datasets and save them in your working directory."
   ]
  },
  {
   "cell_type": "code",
   "execution_count": 10,
   "metadata": {
    "colab": {},
    "colab_type": "code",
    "id": "laM1PB76Fcur"
   },
   "outputs": [
    {
     "data": {
      "text/html": [
       "<div>\n",
       "<style scoped>\n",
       "    .dataframe tbody tr th:only-of-type {\n",
       "        vertical-align: middle;\n",
       "    }\n",
       "\n",
       "    .dataframe tbody tr th {\n",
       "        vertical-align: top;\n",
       "    }\n",
       "\n",
       "    .dataframe thead th {\n",
       "        text-align: right;\n",
       "    }\n",
       "</style>\n",
       "<table border=\"1\" class=\"dataframe\">\n",
       "  <thead>\n",
       "    <tr style=\"text-align: right;\">\n",
       "      <th></th>\n",
       "      <th>App</th>\n",
       "      <th>Category</th>\n",
       "      <th>Rating</th>\n",
       "      <th>Reviews</th>\n",
       "      <th>Size</th>\n",
       "      <th>Installs</th>\n",
       "      <th>Type</th>\n",
       "      <th>Price</th>\n",
       "      <th>Content Rating</th>\n",
       "      <th>Genres</th>\n",
       "      <th>Last Updated</th>\n",
       "      <th>Current Ver</th>\n",
       "      <th>Android Ver</th>\n",
       "    </tr>\n",
       "  </thead>\n",
       "  <tbody>\n",
       "    <tr>\n",
       "      <th>0</th>\n",
       "      <td>Photo Editor &amp; Candy Camera &amp; Grid &amp; ScrapBook</td>\n",
       "      <td>ART_AND_DESIGN</td>\n",
       "      <td>4.1</td>\n",
       "      <td>159</td>\n",
       "      <td>19M</td>\n",
       "      <td>10,000+</td>\n",
       "      <td>Free</td>\n",
       "      <td>0</td>\n",
       "      <td>Everyone</td>\n",
       "      <td>Art &amp; Design</td>\n",
       "      <td>January 7, 2018</td>\n",
       "      <td>1.0.0</td>\n",
       "      <td>4.0.3 and up</td>\n",
       "    </tr>\n",
       "    <tr>\n",
       "      <th>1</th>\n",
       "      <td>Coloring book moana</td>\n",
       "      <td>ART_AND_DESIGN</td>\n",
       "      <td>3.9</td>\n",
       "      <td>967</td>\n",
       "      <td>14M</td>\n",
       "      <td>500,000+</td>\n",
       "      <td>Free</td>\n",
       "      <td>0</td>\n",
       "      <td>Everyone</td>\n",
       "      <td>Art &amp; Design;Pretend Play</td>\n",
       "      <td>January 15, 2018</td>\n",
       "      <td>2.0.0</td>\n",
       "      <td>4.0.3 and up</td>\n",
       "    </tr>\n",
       "    <tr>\n",
       "      <th>2</th>\n",
       "      <td>U Launcher Lite – FREE Live Cool Themes, Hide ...</td>\n",
       "      <td>ART_AND_DESIGN</td>\n",
       "      <td>4.7</td>\n",
       "      <td>87510</td>\n",
       "      <td>8.7M</td>\n",
       "      <td>5,000,000+</td>\n",
       "      <td>Free</td>\n",
       "      <td>0</td>\n",
       "      <td>Everyone</td>\n",
       "      <td>Art &amp; Design</td>\n",
       "      <td>August 1, 2018</td>\n",
       "      <td>1.2.4</td>\n",
       "      <td>4.0.3 and up</td>\n",
       "    </tr>\n",
       "  </tbody>\n",
       "</table>\n",
       "</div>"
      ],
      "text/plain": [
       "                                                 App        Category  Rating  \\\n",
       "0     Photo Editor & Candy Camera & Grid & ScrapBook  ART_AND_DESIGN     4.1   \n",
       "1                                Coloring book moana  ART_AND_DESIGN     3.9   \n",
       "2  U Launcher Lite – FREE Live Cool Themes, Hide ...  ART_AND_DESIGN     4.7   \n",
       "\n",
       "  Reviews  Size    Installs  Type Price Content Rating  \\\n",
       "0     159   19M     10,000+  Free     0       Everyone   \n",
       "1     967   14M    500,000+  Free     0       Everyone   \n",
       "2   87510  8.7M  5,000,000+  Free     0       Everyone   \n",
       "\n",
       "                      Genres      Last Updated Current Ver   Android Ver  \n",
       "0               Art & Design   January 7, 2018       1.0.0  4.0.3 and up  \n",
       "1  Art & Design;Pretend Play  January 15, 2018       2.0.0  4.0.3 and up  \n",
       "2               Art & Design    August 1, 2018       1.2.4  4.0.3 and up  "
      ]
     },
     "execution_count": 10,
     "metadata": {},
     "output_type": "execute_result"
    }
   ],
   "source": [
    "# Now that the files are saved, we want to load them into Python using read_csv and pandas.\n",
    "\n",
    "# Create a variable called google, and store in it the path of the csv file that contains your google dataset. \n",
    "# If your dataset is in the same folder as this notebook, the path will simply be the name of the file. \n",
    "google = 'googleplaystore.csv'\n",
    "\n",
    "# Read the csv file into a data frame called Google using the read_csv() pandas method.\n",
    "Google = pd.read_csv(google)\n",
    "\n",
    "# Using the head() pandas method, observe the first three entries.\n",
    "Google.head(3)"
   ]
  },
  {
   "cell_type": "code",
   "execution_count": 11,
   "metadata": {
    "colab": {},
    "colab_type": "code",
    "id": "3AW8EA1wFcuu"
   },
   "outputs": [
    {
     "data": {
      "text/html": [
       "<div>\n",
       "<style scoped>\n",
       "    .dataframe tbody tr th:only-of-type {\n",
       "        vertical-align: middle;\n",
       "    }\n",
       "\n",
       "    .dataframe tbody tr th {\n",
       "        vertical-align: top;\n",
       "    }\n",
       "\n",
       "    .dataframe thead th {\n",
       "        text-align: right;\n",
       "    }\n",
       "</style>\n",
       "<table border=\"1\" class=\"dataframe\">\n",
       "  <thead>\n",
       "    <tr style=\"text-align: right;\">\n",
       "      <th></th>\n",
       "      <th>Unnamed: 0</th>\n",
       "      <th>id</th>\n",
       "      <th>track_name</th>\n",
       "      <th>size_bytes</th>\n",
       "      <th>currency</th>\n",
       "      <th>price</th>\n",
       "      <th>rating_count_tot</th>\n",
       "      <th>rating_count_ver</th>\n",
       "      <th>user_rating</th>\n",
       "      <th>user_rating_ver</th>\n",
       "      <th>ver</th>\n",
       "      <th>cont_rating</th>\n",
       "      <th>prime_genre</th>\n",
       "      <th>sup_devices.num</th>\n",
       "      <th>ipadSc_urls.num</th>\n",
       "      <th>lang.num</th>\n",
       "      <th>vpp_lic</th>\n",
       "    </tr>\n",
       "  </thead>\n",
       "  <tbody>\n",
       "    <tr>\n",
       "      <th>0</th>\n",
       "      <td>1</td>\n",
       "      <td>281656475</td>\n",
       "      <td>PAC-MAN Premium</td>\n",
       "      <td>100788224</td>\n",
       "      <td>USD</td>\n",
       "      <td>3.99</td>\n",
       "      <td>21292</td>\n",
       "      <td>26</td>\n",
       "      <td>4.0</td>\n",
       "      <td>4.5</td>\n",
       "      <td>6.3.5</td>\n",
       "      <td>4+</td>\n",
       "      <td>Games</td>\n",
       "      <td>38</td>\n",
       "      <td>5</td>\n",
       "      <td>10</td>\n",
       "      <td>1</td>\n",
       "    </tr>\n",
       "    <tr>\n",
       "      <th>1</th>\n",
       "      <td>2</td>\n",
       "      <td>281796108</td>\n",
       "      <td>Evernote - stay organized</td>\n",
       "      <td>158578688</td>\n",
       "      <td>USD</td>\n",
       "      <td>0.00</td>\n",
       "      <td>161065</td>\n",
       "      <td>26</td>\n",
       "      <td>4.0</td>\n",
       "      <td>3.5</td>\n",
       "      <td>8.2.2</td>\n",
       "      <td>4+</td>\n",
       "      <td>Productivity</td>\n",
       "      <td>37</td>\n",
       "      <td>5</td>\n",
       "      <td>23</td>\n",
       "      <td>1</td>\n",
       "    </tr>\n",
       "    <tr>\n",
       "      <th>2</th>\n",
       "      <td>3</td>\n",
       "      <td>281940292</td>\n",
       "      <td>WeatherBug - Local Weather, Radar, Maps, Alerts</td>\n",
       "      <td>100524032</td>\n",
       "      <td>USD</td>\n",
       "      <td>0.00</td>\n",
       "      <td>188583</td>\n",
       "      <td>2822</td>\n",
       "      <td>3.5</td>\n",
       "      <td>4.5</td>\n",
       "      <td>5.0.0</td>\n",
       "      <td>4+</td>\n",
       "      <td>Weather</td>\n",
       "      <td>37</td>\n",
       "      <td>5</td>\n",
       "      <td>3</td>\n",
       "      <td>1</td>\n",
       "    </tr>\n",
       "  </tbody>\n",
       "</table>\n",
       "</div>"
      ],
      "text/plain": [
       "   Unnamed: 0         id                                       track_name  \\\n",
       "0           1  281656475                                  PAC-MAN Premium   \n",
       "1           2  281796108                        Evernote - stay organized   \n",
       "2           3  281940292  WeatherBug - Local Weather, Radar, Maps, Alerts   \n",
       "\n",
       "   size_bytes currency  price  rating_count_tot  rating_count_ver  \\\n",
       "0   100788224      USD   3.99             21292                26   \n",
       "1   158578688      USD   0.00            161065                26   \n",
       "2   100524032      USD   0.00            188583              2822   \n",
       "\n",
       "   user_rating  user_rating_ver    ver cont_rating   prime_genre  \\\n",
       "0          4.0              4.5  6.3.5          4+         Games   \n",
       "1          4.0              3.5  8.2.2          4+  Productivity   \n",
       "2          3.5              4.5  5.0.0          4+       Weather   \n",
       "\n",
       "   sup_devices.num  ipadSc_urls.num  lang.num  vpp_lic  \n",
       "0               38                5        10        1  \n",
       "1               37                5        23        1  \n",
       "2               37                5         3        1  "
      ]
     },
     "execution_count": 11,
     "metadata": {},
     "output_type": "execute_result"
    }
   ],
   "source": [
    "# Create a variable called apple, and store in it the path of the csv file that contains your apple dataset. \n",
    "apple = 'AppleStore.csv'\n",
    "\n",
    "# Read the csv file into a pandas DataFrame object called Apple.\n",
    "Apple = pd.read_csv(apple)\n",
    "\n",
    "# Observe the first three entries like you did with your other data. \n",
    "Apple.head(3)"
   ]
  },
  {
   "cell_type": "markdown",
   "metadata": {
    "colab_type": "text",
    "id": "vljOHKNTFcuw"
   },
   "source": [
    "### 1b. Pick the columns we'll work with\n",
    "\n",
    "From the documentation of these datasets, we can infer that the most appropriate columns to answer the brief are:\n",
    "\n",
    "1. Google:\n",
    "    * `Category` # Do we need this?\n",
    "    * `Rating`\n",
    "    * `Reviews`\n",
    "    * `Price` (maybe)\n",
    "2. Apple:    \n",
    "    * `prime_genre` # Do we need this?\n",
    "    * `user_rating` \n",
    "    * `rating_count_tot`\n",
    "    * `price` (maybe)"
   ]
  },
  {
   "cell_type": "markdown",
   "metadata": {
    "colab_type": "text",
    "id": "uf69AeTvFcux"
   },
   "source": [
    "### 1c. Subsetting accordingly\n",
    "\n",
    "Let's select only those columns that we want to work with from both datasets. We'll overwrite the subsets in the original variables."
   ]
  },
  {
   "cell_type": "code",
   "execution_count": 12,
   "metadata": {
    "colab": {},
    "colab_type": "code",
    "id": "LNSDXyjdFcuy"
   },
   "outputs": [
    {
     "data": {
      "text/html": [
       "<div>\n",
       "<style scoped>\n",
       "    .dataframe tbody tr th:only-of-type {\n",
       "        vertical-align: middle;\n",
       "    }\n",
       "\n",
       "    .dataframe tbody tr th {\n",
       "        vertical-align: top;\n",
       "    }\n",
       "\n",
       "    .dataframe thead th {\n",
       "        text-align: right;\n",
       "    }\n",
       "</style>\n",
       "<table border=\"1\" class=\"dataframe\">\n",
       "  <thead>\n",
       "    <tr style=\"text-align: right;\">\n",
       "      <th></th>\n",
       "      <th>Category</th>\n",
       "      <th>Rating</th>\n",
       "      <th>Reviews</th>\n",
       "      <th>Price</th>\n",
       "    </tr>\n",
       "  </thead>\n",
       "  <tbody>\n",
       "    <tr>\n",
       "      <th>0</th>\n",
       "      <td>ART_AND_DESIGN</td>\n",
       "      <td>4.1</td>\n",
       "      <td>159</td>\n",
       "      <td>0</td>\n",
       "    </tr>\n",
       "    <tr>\n",
       "      <th>1</th>\n",
       "      <td>ART_AND_DESIGN</td>\n",
       "      <td>3.9</td>\n",
       "      <td>967</td>\n",
       "      <td>0</td>\n",
       "    </tr>\n",
       "    <tr>\n",
       "      <th>2</th>\n",
       "      <td>ART_AND_DESIGN</td>\n",
       "      <td>4.7</td>\n",
       "      <td>87510</td>\n",
       "      <td>0</td>\n",
       "    </tr>\n",
       "  </tbody>\n",
       "</table>\n",
       "</div>"
      ],
      "text/plain": [
       "         Category  Rating Reviews Price\n",
       "0  ART_AND_DESIGN     4.1     159     0\n",
       "1  ART_AND_DESIGN     3.9     967     0\n",
       "2  ART_AND_DESIGN     4.7   87510     0"
      ]
     },
     "execution_count": 12,
     "metadata": {},
     "output_type": "execute_result"
    }
   ],
   "source": [
    "# Subset our DataFrame object Google by selecting just the variables ['Category', 'Rating', 'Reviews', 'Price']\n",
    "Google = Google[['Category', 'Rating', 'Reviews', 'Price']]\n",
    "\n",
    "# Check the first three entries\n",
    "Google.head(3) "
   ]
  },
  {
   "cell_type": "code",
   "execution_count": 13,
   "metadata": {
    "colab": {},
    "colab_type": "code",
    "id": "AVCtENPtFcu0"
   },
   "outputs": [
    {
     "data": {
      "text/html": [
       "<div>\n",
       "<style scoped>\n",
       "    .dataframe tbody tr th:only-of-type {\n",
       "        vertical-align: middle;\n",
       "    }\n",
       "\n",
       "    .dataframe tbody tr th {\n",
       "        vertical-align: top;\n",
       "    }\n",
       "\n",
       "    .dataframe thead th {\n",
       "        text-align: right;\n",
       "    }\n",
       "</style>\n",
       "<table border=\"1\" class=\"dataframe\">\n",
       "  <thead>\n",
       "    <tr style=\"text-align: right;\">\n",
       "      <th></th>\n",
       "      <th>prime_genre</th>\n",
       "      <th>user_rating</th>\n",
       "      <th>rating_count_tot</th>\n",
       "      <th>price</th>\n",
       "    </tr>\n",
       "  </thead>\n",
       "  <tbody>\n",
       "    <tr>\n",
       "      <th>0</th>\n",
       "      <td>Games</td>\n",
       "      <td>4.0</td>\n",
       "      <td>21292</td>\n",
       "      <td>3.99</td>\n",
       "    </tr>\n",
       "    <tr>\n",
       "      <th>1</th>\n",
       "      <td>Productivity</td>\n",
       "      <td>4.0</td>\n",
       "      <td>161065</td>\n",
       "      <td>0.00</td>\n",
       "    </tr>\n",
       "    <tr>\n",
       "      <th>2</th>\n",
       "      <td>Weather</td>\n",
       "      <td>3.5</td>\n",
       "      <td>188583</td>\n",
       "      <td>0.00</td>\n",
       "    </tr>\n",
       "  </tbody>\n",
       "</table>\n",
       "</div>"
      ],
      "text/plain": [
       "    prime_genre  user_rating  rating_count_tot  price\n",
       "0         Games          4.0             21292   3.99\n",
       "1  Productivity          4.0            161065   0.00\n",
       "2       Weather          3.5            188583   0.00"
      ]
     },
     "execution_count": 13,
     "metadata": {},
     "output_type": "execute_result"
    }
   ],
   "source": [
    "# Do the same with our Apple object, selecting just the variables ['prime_genre', 'user_rating', 'rating_count_tot', 'price']\n",
    "Apple = Apple[['prime_genre', 'user_rating', 'rating_count_tot', 'price']]\n",
    "\n",
    "# Let's check the first three entries\n",
    "Apple.head(3)"
   ]
  },
  {
   "cell_type": "markdown",
   "metadata": {
    "colab_type": "text",
    "id": "wwK2wH-rFcu2"
   },
   "source": [
    "## Stage 2 -  Cleaning, transforming and visualizing"
   ]
  },
  {
   "cell_type": "markdown",
   "metadata": {
    "colab_type": "text",
    "id": "NsoE5x0JFcu3"
   },
   "source": [
    "### 2a. Check the data types for both Apple and Google, and fix them\n",
    "\n",
    "Types are crucial for data science in Python. Let's determine whether the variables we selected in the previous section belong to the types they should do, or whether there are any errors here. "
   ]
  },
  {
   "cell_type": "code",
   "execution_count": 15,
   "metadata": {
    "colab": {},
    "colab_type": "code",
    "id": "ymw10SaWFcu4"
   },
   "outputs": [
    {
     "data": {
      "text/plain": [
       "prime_genre          object\n",
       "user_rating         float64\n",
       "rating_count_tot      int64\n",
       "price               float64\n",
       "dtype: object"
      ]
     },
     "execution_count": 15,
     "metadata": {},
     "output_type": "execute_result"
    }
   ],
   "source": [
    "# Using the dtypes feature of pandas DataFrame objects, check out the data types within our Apple dataframe.\n",
    "# Are they what you expect?\n",
    "Apple.dtypes"
   ]
  },
  {
   "cell_type": "markdown",
   "metadata": {
    "colab_type": "text",
    "id": "VAiM6jIxFcu6"
   },
   "source": [
    "This is looking healthy. But what about our Google data frame?"
   ]
  },
  {
   "cell_type": "code",
   "execution_count": 16,
   "metadata": {
    "colab": {},
    "colab_type": "code",
    "id": "kmP8MhqyFcu7"
   },
   "outputs": [
    {
     "data": {
      "text/plain": [
       "Category     object\n",
       "Rating      float64\n",
       "Reviews      object\n",
       "Price        object\n",
       "dtype: object"
      ]
     },
     "execution_count": 16,
     "metadata": {},
     "output_type": "execute_result"
    }
   ],
   "source": [
    "# Using the same dtypes feature, check out the data types of our Google dataframe. \n",
    "Google.dtypes"
   ]
  },
  {
   "cell_type": "markdown",
   "metadata": {
    "colab_type": "text",
    "id": "O-dxAy0WFcu9"
   },
   "source": [
    "Weird. The data type for the column 'Price' is 'object', not a numeric data type like a float or an integer. Let's investigate the unique values of this column. "
   ]
  },
  {
   "cell_type": "code",
   "execution_count": 18,
   "metadata": {
    "colab": {},
    "colab_type": "code",
    "id": "Hu08K9y7Fcu9"
   },
   "outputs": [
    {
     "data": {
      "text/plain": [
       "array(['0', '$4.99', '$3.99', '$6.99', '$1.49', '$2.99', '$7.99', '$5.99',\n",
       "       '$3.49', '$1.99', '$9.99', '$7.49', '$0.99', '$9.00', '$5.49',\n",
       "       '$10.00', '$24.99', '$11.99', '$79.99', '$16.99', '$14.99',\n",
       "       '$1.00', '$29.99', '$12.99', '$2.49', '$10.99', '$1.50', '$19.99',\n",
       "       '$15.99', '$33.99', '$74.99', '$39.99', '$3.95', '$4.49', '$1.70',\n",
       "       '$8.99', '$2.00', '$3.88', '$25.99', '$399.99', '$17.99',\n",
       "       '$400.00', '$3.02', '$1.76', '$4.84', '$4.77', '$1.61', '$2.50',\n",
       "       '$1.59', '$6.49', '$1.29', '$5.00', '$13.99', '$299.99', '$379.99',\n",
       "       '$37.99', '$18.99', '$389.99', '$19.90', '$8.49', '$1.75',\n",
       "       '$14.00', '$4.85', '$46.99', '$109.99', '$154.99', '$3.08',\n",
       "       '$2.59', '$4.80', '$1.96', '$19.40', '$3.90', '$4.59', '$15.46',\n",
       "       '$3.04', '$4.29', '$2.60', '$3.28', '$4.60', '$28.99', '$2.95',\n",
       "       '$2.90', '$1.97', '$200.00', '$89.99', '$2.56', '$30.99', '$3.61',\n",
       "       '$394.99', '$1.26', 'Everyone', '$1.20', '$1.04'], dtype=object)"
      ]
     },
     "execution_count": 18,
     "metadata": {},
     "output_type": "execute_result"
    }
   ],
   "source": [
    "# Use the unique() pandas method on the Price column to check its unique values. \n",
    "Google['Price'].unique()"
   ]
  },
  {
   "cell_type": "markdown",
   "metadata": {
    "colab_type": "text",
    "id": "w_7nkogFFcu_"
   },
   "source": [
    "Aha! Fascinating. There are actually two issues here. \n",
    "\n",
    "- Firstly, there's a price called `Everyone`. That is a massive mistake! \n",
    "- Secondly, there are dollar symbols everywhere! \n",
    "\n",
    "\n",
    "Let's address the first issue first. Let's check the datapoints that have the price value `Everyone`"
   ]
  },
  {
   "cell_type": "code",
   "execution_count": 20,
   "metadata": {
    "colab": {},
    "colab_type": "code",
    "id": "E75WWmhdFcvA"
   },
   "outputs": [
    {
     "data": {
      "text/html": [
       "<div>\n",
       "<style scoped>\n",
       "    .dataframe tbody tr th:only-of-type {\n",
       "        vertical-align: middle;\n",
       "    }\n",
       "\n",
       "    .dataframe tbody tr th {\n",
       "        vertical-align: top;\n",
       "    }\n",
       "\n",
       "    .dataframe thead th {\n",
       "        text-align: right;\n",
       "    }\n",
       "</style>\n",
       "<table border=\"1\" class=\"dataframe\">\n",
       "  <thead>\n",
       "    <tr style=\"text-align: right;\">\n",
       "      <th></th>\n",
       "      <th>Category</th>\n",
       "      <th>Rating</th>\n",
       "      <th>Reviews</th>\n",
       "      <th>Price</th>\n",
       "    </tr>\n",
       "  </thead>\n",
       "  <tbody>\n",
       "    <tr>\n",
       "      <th>10472</th>\n",
       "      <td>1.9</td>\n",
       "      <td>19.0</td>\n",
       "      <td>3.0M</td>\n",
       "      <td>Everyone</td>\n",
       "    </tr>\n",
       "  </tbody>\n",
       "</table>\n",
       "</div>"
      ],
      "text/plain": [
       "      Category  Rating Reviews     Price\n",
       "10472      1.9    19.0    3.0M  Everyone"
      ]
     },
     "execution_count": 20,
     "metadata": {},
     "output_type": "execute_result"
    }
   ],
   "source": [
    "# Let's check which data points have the value 'Everyone' for the 'Price' column by subsetting our Google dataframe.\n",
    "\n",
    "# Subset the Google dataframe on the price column. \n",
    "# To be sure: you want to pick out just those rows whose value for the 'Price' column is just 'Everyone'. \n",
    "Google[Google['Price']=='Everyone']"
   ]
  },
  {
   "cell_type": "markdown",
   "metadata": {
    "colab_type": "text",
    "id": "ezfLshdRFcvC"
   },
   "source": [
    "Thankfully, it's just one row. We've gotta get rid of it. "
   ]
  },
  {
   "cell_type": "code",
   "execution_count": 21,
   "metadata": {
    "colab": {},
    "colab_type": "code",
    "id": "DBmjUQUkFcvD"
   },
   "outputs": [
    {
     "data": {
      "text/plain": [
       "array(['0', '$4.99', '$3.99', '$6.99', '$1.49', '$2.99', '$7.99', '$5.99',\n",
       "       '$3.49', '$1.99', '$9.99', '$7.49', '$0.99', '$9.00', '$5.49',\n",
       "       '$10.00', '$24.99', '$11.99', '$79.99', '$16.99', '$14.99',\n",
       "       '$1.00', '$29.99', '$12.99', '$2.49', '$10.99', '$1.50', '$19.99',\n",
       "       '$15.99', '$33.99', '$74.99', '$39.99', '$3.95', '$4.49', '$1.70',\n",
       "       '$8.99', '$2.00', '$3.88', '$25.99', '$399.99', '$17.99',\n",
       "       '$400.00', '$3.02', '$1.76', '$4.84', '$4.77', '$1.61', '$2.50',\n",
       "       '$1.59', '$6.49', '$1.29', '$5.00', '$13.99', '$299.99', '$379.99',\n",
       "       '$37.99', '$18.99', '$389.99', '$19.90', '$8.49', '$1.75',\n",
       "       '$14.00', '$4.85', '$46.99', '$109.99', '$154.99', '$3.08',\n",
       "       '$2.59', '$4.80', '$1.96', '$19.40', '$3.90', '$4.59', '$15.46',\n",
       "       '$3.04', '$4.29', '$2.60', '$3.28', '$4.60', '$28.99', '$2.95',\n",
       "       '$2.90', '$1.97', '$200.00', '$89.99', '$2.56', '$30.99', '$3.61',\n",
       "       '$394.99', '$1.26', '$1.20', '$1.04'], dtype=object)"
      ]
     },
     "execution_count": 21,
     "metadata": {},
     "output_type": "execute_result"
    }
   ],
   "source": [
    "# Let's eliminate that row. \n",
    "\n",
    "# Subset our Google dataframe to pick out just those rows whose value for the 'Price' column is NOT 'Everyone'. \n",
    "# Reassign that subset to the Google variable. \n",
    "# You can do this in two lines or one. Your choice! \n",
    "Google = Google[Google['Price']!='Everyone']\n",
    "# Check again the unique values of Google\n",
    "Google['Price'].unique()"
   ]
  },
  {
   "cell_type": "markdown",
   "metadata": {
    "colab_type": "text",
    "id": "T43TB4qFFcvF"
   },
   "source": [
    "Our second problem remains: I'm seeing dollar symbols when I close my eyes! (And not in a good way). \n",
    "\n",
    "This is a problem because Python actually considers these values strings. So we can't do mathematical and statistical operations on them until we've made them into numbers. "
   ]
  },
  {
   "cell_type": "code",
   "execution_count": 22,
   "metadata": {
    "colab": {},
    "colab_type": "code",
    "id": "W87gVS9BFcvG"
   },
   "outputs": [
    {
     "name": "stderr",
     "output_type": "stream",
     "text": [
      "<ipython-input-22-68a35fcee188>:9: SettingWithCopyWarning: \n",
      "A value is trying to be set on a copy of a slice from a DataFrame.\n",
      "Try using .loc[row_indexer,col_indexer] = value instead\n",
      "\n",
      "See the caveats in the documentation: https://pandas.pydata.org/pandas-docs/stable/user_guide/indexing.html#returning-a-view-versus-a-copy\n",
      "  Google['Price'] = pd.to_numeric(nosymb)\n"
     ]
    }
   ],
   "source": [
    "# Let's create a variable called nosymb.\n",
    "# This variable will take the Price column of Google and apply the str.replace() method. \n",
    "nosymb = Google['Price'].str.replace('$','')\n",
    "\n",
    "# Now we need to do two things:\n",
    "# i. Make the values in the nosymb variable numeric using the to_numeric() pandas method.\n",
    "# ii. Assign this new set of numeric, dollar-sign-less values to Google['Price']. \n",
    "# You can do this in one line if you wish.\n",
    "Google['Price'] = pd.to_numeric(nosymb)"
   ]
  },
  {
   "cell_type": "markdown",
   "metadata": {
    "colab_type": "text",
    "id": "LxpJQ9yyFcvI"
   },
   "source": [
    "Now let's check the data types for our Google dataframe again, to verify that the 'Price' column really is numeric now."
   ]
  },
  {
   "cell_type": "code",
   "execution_count": 24,
   "metadata": {
    "colab": {},
    "colab_type": "code",
    "id": "Fn5Gt-QbFcvI"
   },
   "outputs": [
    {
     "data": {
      "text/plain": [
       "Category     object\n",
       "Rating      float64\n",
       "Reviews      object\n",
       "Price       float64\n",
       "dtype: object"
      ]
     },
     "execution_count": 24,
     "metadata": {},
     "output_type": "execute_result"
    }
   ],
   "source": [
    "# Use the function dtypes. \n",
    "Google.dtypes"
   ]
  },
  {
   "cell_type": "markdown",
   "metadata": {
    "colab_type": "text",
    "id": "FgfuiVo0FcvK"
   },
   "source": [
    "Notice that the column `Reviews` is still an object column. We actually need this column to be a numeric column, too. "
   ]
  },
  {
   "cell_type": "code",
   "execution_count": 25,
   "metadata": {
    "colab": {},
    "colab_type": "code",
    "id": "MiVEWsWBFcvL"
   },
   "outputs": [],
   "source": [
    "# Convert the 'Reviews' column to a numeric data type. \n",
    "Google['Reviews'] = pd.to_numeric(Google['Reviews']) "
   ]
  },
  {
   "cell_type": "code",
   "execution_count": 26,
   "metadata": {
    "colab": {},
    "colab_type": "code",
    "id": "wWJdXXTTFcvN"
   },
   "outputs": [
    {
     "data": {
      "text/plain": [
       "Category     object\n",
       "Rating      float64\n",
       "Reviews       int64\n",
       "Price       float64\n",
       "dtype: object"
      ]
     },
     "execution_count": 26,
     "metadata": {},
     "output_type": "execute_result"
    }
   ],
   "source": [
    "# Let's check the data types of Google again\n",
    "Google.dtypes"
   ]
  },
  {
   "cell_type": "markdown",
   "metadata": {
    "colab_type": "text",
    "id": "OiLm2GEKFcvP"
   },
   "source": [
    "### 2b. Add a `platform` column to both the `Apple` and the `Google` dataframes\n",
    "Let's add a new column to both dataframe objects called `platform`: all of its values in the Google dataframe will be just 'google', and all of its values for the Apple dataframe will be just 'apple'. \n",
    "\n",
    "The reason we're making this column is so that we can ultimately join our Apple and Google data together, and actually test out some hypotheses to solve the problem in our brief. "
   ]
  },
  {
   "cell_type": "code",
   "execution_count": 44,
   "metadata": {
    "colab": {},
    "colab_type": "code",
    "id": "mF-sOcx2FcvQ"
   },
   "outputs": [
    {
     "data": {
      "text/plain": [
       "0       apple\n",
       "1       apple\n",
       "2       apple\n",
       "3       apple\n",
       "4       apple\n",
       "        ...  \n",
       "7192    apple\n",
       "7193    apple\n",
       "7194    apple\n",
       "7195    apple\n",
       "7196    apple\n",
       "Name: platform, Length: 7197, dtype: object"
      ]
     },
     "execution_count": 44,
     "metadata": {},
     "output_type": "execute_result"
    }
   ],
   "source": [
    "# Create a column called 'platform' in both the Apple and Google dataframes. \n",
    "# Add the value 'apple' and the value 'google' as appropriate. \n",
    "Apple['platform'] = 'apple'\n",
    "Google['platform'] = 'google'\n",
    "Apple['platform']"
   ]
  },
  {
   "cell_type": "markdown",
   "metadata": {
    "colab_type": "text",
    "id": "EJcry17IFcvS"
   },
   "source": [
    "### 2c. Changing the column names to prepare for our join of the two datasets \n",
    "Since the easiest way to join two datasets is if they have both:\n",
    "- the same number of columns\n",
    "- the same column names\n",
    "we need to rename the columns of `Apple` so that they're the same as the ones of `Google`, or vice versa.\n",
    "\n",
    "In this case, we're going to change the `Apple` columns names to the names of the `Google` columns. \n",
    "\n",
    "This is an important step to unify the two datasets!"
   ]
  },
  {
   "cell_type": "code",
   "execution_count": 45,
   "metadata": {
    "colab": {},
    "colab_type": "code",
    "id": "bdt9XH2KFcvT"
   },
   "outputs": [
    {
     "data": {
      "text/html": [
       "<div>\n",
       "<style scoped>\n",
       "    .dataframe tbody tr th:only-of-type {\n",
       "        vertical-align: middle;\n",
       "    }\n",
       "\n",
       "    .dataframe tbody tr th {\n",
       "        vertical-align: top;\n",
       "    }\n",
       "\n",
       "    .dataframe thead th {\n",
       "        text-align: right;\n",
       "    }\n",
       "</style>\n",
       "<table border=\"1\" class=\"dataframe\">\n",
       "  <thead>\n",
       "    <tr style=\"text-align: right;\">\n",
       "      <th></th>\n",
       "      <th>Category</th>\n",
       "      <th>Rating</th>\n",
       "      <th>Reviews</th>\n",
       "      <th>Price</th>\n",
       "      <th>platform</th>\n",
       "    </tr>\n",
       "  </thead>\n",
       "  <tbody>\n",
       "    <tr>\n",
       "      <th>0</th>\n",
       "      <td>Games</td>\n",
       "      <td>4.0</td>\n",
       "      <td>21292</td>\n",
       "      <td>3.99</td>\n",
       "      <td>apple</td>\n",
       "    </tr>\n",
       "    <tr>\n",
       "      <th>1</th>\n",
       "      <td>Productivity</td>\n",
       "      <td>4.0</td>\n",
       "      <td>161065</td>\n",
       "      <td>0.00</td>\n",
       "      <td>apple</td>\n",
       "    </tr>\n",
       "    <tr>\n",
       "      <th>2</th>\n",
       "      <td>Weather</td>\n",
       "      <td>3.5</td>\n",
       "      <td>188583</td>\n",
       "      <td>0.00</td>\n",
       "      <td>apple</td>\n",
       "    </tr>\n",
       "    <tr>\n",
       "      <th>3</th>\n",
       "      <td>Shopping</td>\n",
       "      <td>4.0</td>\n",
       "      <td>262241</td>\n",
       "      <td>0.00</td>\n",
       "      <td>apple</td>\n",
       "    </tr>\n",
       "    <tr>\n",
       "      <th>4</th>\n",
       "      <td>Reference</td>\n",
       "      <td>4.5</td>\n",
       "      <td>985920</td>\n",
       "      <td>0.00</td>\n",
       "      <td>apple</td>\n",
       "    </tr>\n",
       "  </tbody>\n",
       "</table>\n",
       "</div>"
      ],
      "text/plain": [
       "       Category  Rating  Reviews  Price platform\n",
       "0         Games     4.0    21292   3.99    apple\n",
       "1  Productivity     4.0   161065   0.00    apple\n",
       "2       Weather     3.5   188583   0.00    apple\n",
       "3      Shopping     4.0   262241   0.00    apple\n",
       "4     Reference     4.5   985920   0.00    apple"
      ]
     },
     "execution_count": 45,
     "metadata": {},
     "output_type": "execute_result"
    }
   ],
   "source": [
    "# Create a variable called old_names where you'll store the column names of the Apple dataframe. \n",
    "# Use the feature .columns.\n",
    "old_names = Apple.columns\n",
    "\n",
    "# Create a variable called new_names where you'll store the column names of the Google dataframe. \n",
    "new_names = Google.columns\n",
    "\n",
    "# Use the rename() DataFrame method to change the columns names. \n",
    "Apple = Apple.rename(columns = dict(zip(old_names,new_names)))\n",
    "Apple.head()"
   ]
  },
  {
   "cell_type": "markdown",
   "metadata": {
    "colab_type": "text",
    "id": "qewPiLrRFcvX"
   },
   "source": [
    "### 2d. Join the two datasets \n",
    "Let's combine the two datasets into a single data frame called `df`."
   ]
  },
  {
   "cell_type": "code",
   "execution_count": 48,
   "metadata": {
    "colab": {},
    "colab_type": "code",
    "id": "jq6fGfvyFcvY"
   },
   "outputs": [
    {
     "data": {
      "text/html": [
       "<div>\n",
       "<style scoped>\n",
       "    .dataframe tbody tr th:only-of-type {\n",
       "        vertical-align: middle;\n",
       "    }\n",
       "\n",
       "    .dataframe tbody tr th {\n",
       "        vertical-align: top;\n",
       "    }\n",
       "\n",
       "    .dataframe thead th {\n",
       "        text-align: right;\n",
       "    }\n",
       "</style>\n",
       "<table border=\"1\" class=\"dataframe\">\n",
       "  <thead>\n",
       "    <tr style=\"text-align: right;\">\n",
       "      <th></th>\n",
       "      <th>Category</th>\n",
       "      <th>Rating</th>\n",
       "      <th>Reviews</th>\n",
       "      <th>Price</th>\n",
       "      <th>platform</th>\n",
       "    </tr>\n",
       "  </thead>\n",
       "  <tbody>\n",
       "    <tr>\n",
       "      <th>10845</th>\n",
       "      <td>Games</td>\n",
       "      <td>4.0</td>\n",
       "      <td>8253</td>\n",
       "      <td>0.99</td>\n",
       "      <td>apple</td>\n",
       "    </tr>\n",
       "    <tr>\n",
       "      <th>12113</th>\n",
       "      <td>Photo &amp; Video</td>\n",
       "      <td>4.5</td>\n",
       "      <td>8520</td>\n",
       "      <td>0.00</td>\n",
       "      <td>apple</td>\n",
       "    </tr>\n",
       "    <tr>\n",
       "      <th>7251</th>\n",
       "      <td>FINANCE</td>\n",
       "      <td>NaN</td>\n",
       "      <td>4</td>\n",
       "      <td>0.00</td>\n",
       "      <td>google</td>\n",
       "    </tr>\n",
       "    <tr>\n",
       "      <th>4370</th>\n",
       "      <td>TOOLS</td>\n",
       "      <td>4.2</td>\n",
       "      <td>2803</td>\n",
       "      <td>0.00</td>\n",
       "      <td>google</td>\n",
       "    </tr>\n",
       "    <tr>\n",
       "      <th>8065</th>\n",
       "      <td>FAMILY</td>\n",
       "      <td>NaN</td>\n",
       "      <td>0</td>\n",
       "      <td>0.00</td>\n",
       "      <td>google</td>\n",
       "    </tr>\n",
       "    <tr>\n",
       "      <th>10546</th>\n",
       "      <td>SPORTS</td>\n",
       "      <td>NaN</td>\n",
       "      <td>0</td>\n",
       "      <td>0.00</td>\n",
       "      <td>google</td>\n",
       "    </tr>\n",
       "    <tr>\n",
       "      <th>1957</th>\n",
       "      <td>GAME</td>\n",
       "      <td>4.1</td>\n",
       "      <td>753043</td>\n",
       "      <td>0.00</td>\n",
       "      <td>google</td>\n",
       "    </tr>\n",
       "    <tr>\n",
       "      <th>8377</th>\n",
       "      <td>TOOLS</td>\n",
       "      <td>2.8</td>\n",
       "      <td>27</td>\n",
       "      <td>0.00</td>\n",
       "      <td>google</td>\n",
       "    </tr>\n",
       "    <tr>\n",
       "      <th>6366</th>\n",
       "      <td>PERSONALIZATION</td>\n",
       "      <td>NaN</td>\n",
       "      <td>1</td>\n",
       "      <td>4.85</td>\n",
       "      <td>google</td>\n",
       "    </tr>\n",
       "    <tr>\n",
       "      <th>5796</th>\n",
       "      <td>PRODUCTIVITY</td>\n",
       "      <td>NaN</td>\n",
       "      <td>1</td>\n",
       "      <td>0.00</td>\n",
       "      <td>google</td>\n",
       "    </tr>\n",
       "    <tr>\n",
       "      <th>668</th>\n",
       "      <td>DATING</td>\n",
       "      <td>3.9</td>\n",
       "      <td>105</td>\n",
       "      <td>0.00</td>\n",
       "      <td>google</td>\n",
       "    </tr>\n",
       "    <tr>\n",
       "      <th>14387</th>\n",
       "      <td>Games</td>\n",
       "      <td>4.5</td>\n",
       "      <td>9876</td>\n",
       "      <td>2.99</td>\n",
       "      <td>apple</td>\n",
       "    </tr>\n",
       "  </tbody>\n",
       "</table>\n",
       "</div>"
      ],
      "text/plain": [
       "              Category  Rating  Reviews  Price platform\n",
       "10845            Games     4.0     8253   0.99    apple\n",
       "12113    Photo & Video     4.5     8520   0.00    apple\n",
       "7251           FINANCE     NaN        4   0.00   google\n",
       "4370             TOOLS     4.2     2803   0.00   google\n",
       "8065            FAMILY     NaN        0   0.00   google\n",
       "10546           SPORTS     NaN        0   0.00   google\n",
       "1957              GAME     4.1   753043   0.00   google\n",
       "8377             TOOLS     2.8       27   0.00   google\n",
       "6366   PERSONALIZATION     NaN        1   4.85   google\n",
       "5796      PRODUCTIVITY     NaN        1   0.00   google\n",
       "668             DATING     3.9      105   0.00   google\n",
       "14387            Games     4.5     9876   2.99    apple"
      ]
     },
     "execution_count": 48,
     "metadata": {},
     "output_type": "execute_result"
    }
   ],
   "source": [
    "# Let's use the append() method to append Apple to Google. \n",
    "df = Google.append(Apple, ignore_index = True)\n",
    "\n",
    "# Using the sample() method with the number 12 passed to it, check 12 random points of your dataset.\n",
    "df.sample(12)"
   ]
  },
  {
   "cell_type": "markdown",
   "metadata": {
    "colab_type": "text",
    "id": "FjqsHugWFcvb"
   },
   "source": [
    "### 2e. Eliminate the NaN values\n",
    "\n",
    "As you can see there are some `NaN` values. We want to eliminate all these `NaN` values from the table."
   ]
  },
  {
   "cell_type": "code",
   "execution_count": 54,
   "metadata": {
    "colab": {},
    "colab_type": "code",
    "id": "Gp2q6GLyFcvb"
   },
   "outputs": [
    {
     "name": "stdout",
     "output_type": "stream",
     "text": [
      "(18037, 5)\n",
      "(16563, 5)\n"
     ]
    }
   ],
   "source": [
    "# Lets check first the dimesions of df before droping `NaN` values. Use the .shape feature. \n",
    "print(df.shape)\n",
    "\n",
    "# Use the dropna() method to eliminate all the NaN values, and overwrite the same dataframe with the result. \n",
    "df = df.dropna()\n",
    "\n",
    "# Check the new dimesions of our dataframe. \n",
    "print(df.shape)"
   ]
  },
  {
   "cell_type": "markdown",
   "metadata": {
    "colab_type": "text",
    "id": "qtfeQKtAFcvd"
   },
   "source": [
    "### 2f. Filter the data so that we only see whose apps that have been reviewed at least once\n",
    "\n",
    "Apps that haven't been reviewed yet can't help us solve our brief. \n",
    "\n",
    "So let's check to see if any apps have no reviews at all. "
   ]
  },
  {
   "cell_type": "code",
   "execution_count": 55,
   "metadata": {
    "colab": {},
    "colab_type": "code",
    "id": "Ge9OKXLNFcvd"
   },
   "outputs": [
    {
     "data": {
      "text/plain": [
       "Category    929\n",
       "Rating      929\n",
       "Reviews     929\n",
       "Price       929\n",
       "platform    929\n",
       "dtype: int64"
      ]
     },
     "execution_count": 55,
     "metadata": {},
     "output_type": "execute_result"
    }
   ],
   "source": [
    "# Subset your df to pick out just those rows whose value for 'Reviews' is equal to 0. \n",
    "# Do a count() on the result. \n",
    "df[df['Reviews']==0].count()"
   ]
  },
  {
   "cell_type": "markdown",
   "metadata": {
    "colab_type": "text",
    "id": "05f7H0kAFcvg"
   },
   "source": [
    "929 apps do not have reviews, we need to eliminate these points!"
   ]
  },
  {
   "cell_type": "code",
   "execution_count": 56,
   "metadata": {
    "colab": {},
    "colab_type": "code",
    "id": "pD8vmPjkFcvg"
   },
   "outputs": [],
   "source": [
    "# Eliminate the points that have 0 reviews.\n",
    "df = df[df['Reviews'] != 0]"
   ]
  },
  {
   "cell_type": "markdown",
   "metadata": {
    "colab_type": "text",
    "id": "ApnKES_bFcvi"
   },
   "source": [
    "### 2g. Summarize the data visually and analytically (by the column `platform`)"
   ]
  },
  {
   "cell_type": "markdown",
   "metadata": {
    "colab_type": "text",
    "id": "2smt9UocFcvj"
   },
   "source": [
    "What we need to solve our brief is a summary of the `Rating` column, but separated by the different platforms."
   ]
  },
  {
   "cell_type": "code",
   "execution_count": 57,
   "metadata": {
    "colab": {},
    "colab_type": "code",
    "id": "Vqckt347Fcvj"
   },
   "outputs": [
    {
     "data": {
      "text/html": [
       "<div>\n",
       "<style scoped>\n",
       "    .dataframe tbody tr th:only-of-type {\n",
       "        vertical-align: middle;\n",
       "    }\n",
       "\n",
       "    .dataframe tbody tr th {\n",
       "        vertical-align: top;\n",
       "    }\n",
       "\n",
       "    .dataframe thead th {\n",
       "        text-align: right;\n",
       "    }\n",
       "</style>\n",
       "<table border=\"1\" class=\"dataframe\">\n",
       "  <thead>\n",
       "    <tr style=\"text-align: right;\">\n",
       "      <th></th>\n",
       "      <th>count</th>\n",
       "      <th>mean</th>\n",
       "      <th>std</th>\n",
       "      <th>min</th>\n",
       "      <th>25%</th>\n",
       "      <th>50%</th>\n",
       "      <th>75%</th>\n",
       "      <th>max</th>\n",
       "    </tr>\n",
       "    <tr>\n",
       "      <th>platform</th>\n",
       "      <th></th>\n",
       "      <th></th>\n",
       "      <th></th>\n",
       "      <th></th>\n",
       "      <th></th>\n",
       "      <th></th>\n",
       "      <th></th>\n",
       "      <th></th>\n",
       "    </tr>\n",
       "  </thead>\n",
       "  <tbody>\n",
       "    <tr>\n",
       "      <th>apple</th>\n",
       "      <td>6268.0</td>\n",
       "      <td>4.049697</td>\n",
       "      <td>0.726943</td>\n",
       "      <td>1.0</td>\n",
       "      <td>4.0</td>\n",
       "      <td>4.5</td>\n",
       "      <td>4.5</td>\n",
       "      <td>5.0</td>\n",
       "    </tr>\n",
       "    <tr>\n",
       "      <th>google</th>\n",
       "      <td>9366.0</td>\n",
       "      <td>4.191757</td>\n",
       "      <td>0.515219</td>\n",
       "      <td>1.0</td>\n",
       "      <td>4.0</td>\n",
       "      <td>4.3</td>\n",
       "      <td>4.5</td>\n",
       "      <td>5.0</td>\n",
       "    </tr>\n",
       "  </tbody>\n",
       "</table>\n",
       "</div>"
      ],
      "text/plain": [
       "           count      mean       std  min  25%  50%  75%  max\n",
       "platform                                                     \n",
       "apple     6268.0  4.049697  0.726943  1.0  4.0  4.5  4.5  5.0\n",
       "google    9366.0  4.191757  0.515219  1.0  4.0  4.3  4.5  5.0"
      ]
     },
     "execution_count": 57,
     "metadata": {},
     "output_type": "execute_result"
    }
   ],
   "source": [
    "# To summarize analytically, let's use the groupby() method on our df.\n",
    "df.groupby(by='platform')['Rating'].describe()"
   ]
  },
  {
   "cell_type": "markdown",
   "metadata": {
    "colab_type": "text",
    "id": "8f9TqMtKFcvl"
   },
   "source": [
    "Interesting! Our means of 4.049697 and 4.191757 don't **seem** all that different! Perhaps we've solved our brief already: there's no significant difference between Google Play app reviews and Apple Store app reviews. We have an ***observed difference*** here: which is simply (4.191757 - 4.049697) = 0.14206. This is just the actual difference that we observed between the mean rating for apps from Google Play, and the mean rating for apps from the Apple Store. Let's look at how we're going to use this observed difference to solve our problem using a statistical test. \n",
    "\n",
    "**Outline of our method:**\n",
    "1. We'll assume that platform (i.e, whether the app was Google or Apple) really doesn’t impact on ratings. \n",
    "\n",
    "\n",
    "2. Given this assumption, we should actually be able to get a difference in mean rating for Apple apps and mean rating for Google apps that's pretty similar to the one we actually got (0.14206) just by: \n",
    "a. shuffling the ratings column, \n",
    "b. keeping the platform column the same,\n",
    "c. calculating the difference between the mean rating for Apple and the mean rating for Google. \n",
    "\n",
    "\n",
    "3. We can make the shuffle more useful by doing it many times, each time calculating the mean rating for Apple apps and the mean rating for Google apps, and the difference between these means. \n",
    "\n",
    "\n",
    "4. We can then take the mean of all these differences, and this will be called our permutation difference. This permutation difference will be great indicator of what the difference would be if our initial assumption were true and platform really doesn’t impact on ratings. \n",
    "\n",
    "\n",
    "5. Now we do a comparison. If the observed difference looks just like the permutation difference, then we stick with the claim that actually, platform doesn’t impact on ratings. If instead, however, the permutation difference differs significantly from the observed difference, we'll conclude: something's going on; the platform does in fact impact on ratings. \n",
    "\n",
    "\n",
    "6. As for what the definition of *significantly* is, we'll get to that. But there’s a brief summary of what we're going to do. Exciting!\n",
    "\n",
    "If you want to look more deeply at the statistics behind this project, check out [this resource](https://www.springboard.com/archeio/download/4ea4d453b0b84014bcef287c50f47f00/)."
   ]
  },
  {
   "cell_type": "markdown",
   "metadata": {
    "colab_type": "text",
    "id": "d6EhTxArFcvm"
   },
   "source": [
    "Let's also get a **visual summary** of the `Rating` column, separated by the different platforms. \n",
    "\n",
    "A good tool to use here is the boxplot!"
   ]
  },
  {
   "cell_type": "code",
   "execution_count": 63,
   "metadata": {
    "colab": {},
    "colab_type": "code",
    "id": "hFKjrlWgFcvm"
   },
   "outputs": [
    {
     "data": {
      "text/plain": [
       "<AxesSubplot:title={'center':'Rating'}, xlabel='platform'>"
      ]
     },
     "execution_count": 63,
     "metadata": {},
     "output_type": "execute_result"
    },
    {
     "data": {
      "image/png": "[encoded data removed]",
      "text/plain": [
       "<Figure size 432x288 with 1 Axes>"
      ]
     },
     "metadata": {
      "needs_background": "light"
     },
     "output_type": "display_data"
    }
   ],
   "source": [
    "# Call the boxplot() method on our df.\n",
    "df.boxplot(by='platform', column='Rating', grid=True, rot=45, fontsize=10)"
   ]
  },
  {
   "cell_type": "markdown",
   "metadata": {
    "colab_type": "text",
    "id": "FqTlAjnmFcvo"
   },
   "source": [
    "Here we see the same information as in the analytical summary, but with a boxplot. Can you see how the boxplot is working here? If you need to revise your boxplots, check out this this [link](https://www.kaggle.com/ramamet4/app-store-apple-data-set-10k-apps). "
   ]
  },
  {
   "cell_type": "markdown",
   "metadata": {
    "colab_type": "text",
    "id": "O8L-s1fgFcvp"
   },
   "source": [
    "## Stage 3 - Modelling"
   ]
  },
  {
   "cell_type": "markdown",
   "metadata": {
    "colab_type": "text",
    "id": "5fbRq2MZFcvq"
   },
   "source": [
    "### 3a. Hypothesis formulation\n",
    "\n",
    "Our **Null hypothesis** is just:\n",
    "\n",
    "**H<sub>null</sub>**: the observed difference in the mean rating of Apple Store and Google Play apps is due to chance (and thus not due to the platform).\n",
    "\n",
    "The more interesting hypothesis is called the **Alternate hypothesis**:\n",
    "\n",
    "**H<sub>alternative</sub>**: the observed difference in the average ratings of apple and google users is not due to chance (and is actually due to platform)\n",
    "\n",
    "We're also going to pick a **significance level** of 0.05. "
   ]
  },
  {
   "cell_type": "markdown",
   "metadata": {
    "colab_type": "text",
    "id": "TjBqkabaFcvq"
   },
   "source": [
    "### 3b. Getting the distribution of the data\n",
    "Now that the hypotheses and significance level are defined, we can select a statistical test to determine which hypothesis to accept. \n",
    "\n",
    "There are many different statistical tests, all with different assumptions. You'll generate an excellent judgement about when to use which statistical tests over the Data Science Career Track course. But in general, one of the most important things to determine is the **distribution of the data**.   "
   ]
  },
  {
   "cell_type": "code",
   "execution_count": 64,
   "metadata": {
    "colab": {},
    "colab_type": "code",
    "id": "bFwVhkeWFcvr"
   },
   "outputs": [],
   "source": [
    "# Create a subset of the column 'Rating' by the different platforms.\n",
    "# Call the subsets 'apple' and 'google' \n",
    "apple = df[df['platform'] == 'apple']['Rating']\n",
    "google = df[df['platform'] == 'google']['Rating']"
   ]
  },
  {
   "cell_type": "code",
   "execution_count": 65,
   "metadata": {
    "colab": {},
    "colab_type": "code",
    "id": "oPPFpwPvFcvu"
   },
   "outputs": [
    {
     "name": "stdout",
     "output_type": "stream",
     "text": [
      "NormaltestResult(statistic=1778.9974234584017, pvalue=0.0)\n"
     ]
    }
   ],
   "source": [
    "# Using the stats.normaltest() method, get an indication of whether the apple data are normally distributed\n",
    "# Save the result in a variable called apple_normal, and print it out\n",
    "apple_normal = stats.normaltest(apple)\n",
    "print(apple_normal)"
   ]
  },
  {
   "cell_type": "code",
   "execution_count": 66,
   "metadata": {
    "colab": {},
    "colab_type": "code",
    "id": "rCdh8a8KFcvw"
   },
   "outputs": [
    {
     "name": "stdout",
     "output_type": "stream",
     "text": [
      "NormaltestResult(statistic=3678.6157187516856, pvalue=0.0)\n"
     ]
    }
   ],
   "source": [
    "# Do the same with the google data. \n",
    "google_normal = stats.normaltest(google)\n",
    "print(google_normal)"
   ]
  },
  {
   "cell_type": "markdown",
   "metadata": {
    "colab_type": "text",
    "id": "9gDqu21yFcv0"
   },
   "source": [
    "Since the null hypothesis of the normaltest() is that the data are normally distributed, the lower the p-value in the result of this test, the more likely the data are to be non-normal. \n",
    "\n",
    "Since the p-values is 0 for both tests, regardless of what we pick for the significance level, our conclusion is that the data are not normally distributed. \n",
    "\n",
    "We can actually also check out the distribution of the data visually with a histogram. A normal distribution has the following visual characteristics:\n",
    "    - symmetric\n",
    "    - unimodal (one hump)\n",
    "As well as a roughly identical mean, median and mode. "
   ]
  },
  {
   "cell_type": "code",
   "execution_count": 78,
   "metadata": {
    "colab": {},
    "colab_type": "code",
    "id": "P9tT9RjNFcv1"
   },
   "outputs": [
    {
     "data": {
      "image/png": "[encoded data removed]",
      "text/plain": [
       "<Figure size 432x288 with 1 Axes>"
      ]
     },
     "metadata": {
      "needs_background": "light"
     },
     "output_type": "display_data"
    }
   ],
   "source": [
    "# Create a histogram of the apple reviews distribution\n",
    "plt.hist(apple, bins=10, color='orange')\n",
    "plt.title('Apple reviews')\n",
    "plt.xlabel('Ratings')\n",
    "plt.ylabel('Count')\n",
    "plt.show()"
   ]
  },
  {
   "cell_type": "code",
   "execution_count": 81,
   "metadata": {
    "colab": {},
    "colab_type": "code",
    "id": "8dE1uC5iFcv2"
   },
   "outputs": [
    {
     "data": {
      "image/png": "[encoded data removed]",
      "text/plain": [
       "<Figure size 432x288 with 1 Axes>"
      ]
     },
     "metadata": {
      "needs_background": "light"
     },
     "output_type": "display_data"
    }
   ],
   "source": [
    "# Create a histogram of the google data\n",
    "plt.hist(google, bins=10)\n",
    "plt.title('Google reviews')\n",
    "plt.xlabel('Ratings')\n",
    "plt.ylabel('Count')\n",
    "plt.show()"
   ]
  },
  {
   "cell_type": "markdown",
   "metadata": {
    "colab_type": "text",
    "id": "QhZV89FzFcv5"
   },
   "source": [
    "### 3c. Permutation test\n",
    "Since the data aren't normally distributed, we're using a *non-parametric* test here. This is simply a label for statistical tests used when the data aren't normally distributed. These tests are extraordinarily powerful due to how few assumptions we need to make.  \n",
    "\n",
    "Check out more about permutations [here.](http://rasbt.github.io/mlxtend/user_guide/evaluate/permutation_test/)"
   ]
  },
  {
   "cell_type": "code",
   "execution_count": 82,
   "metadata": {
    "colab": {},
    "colab_type": "code",
    "id": "bxNhQgpqFcv6"
   },
   "outputs": [
    {
     "data": {
      "text/html": [
       "<div>\n",
       "<style scoped>\n",
       "    .dataframe tbody tr th:only-of-type {\n",
       "        vertical-align: middle;\n",
       "    }\n",
       "\n",
       "    .dataframe tbody tr th {\n",
       "        vertical-align: top;\n",
       "    }\n",
       "\n",
       "    .dataframe thead th {\n",
       "        text-align: right;\n",
       "    }\n",
       "</style>\n",
       "<table border=\"1\" class=\"dataframe\">\n",
       "  <thead>\n",
       "    <tr style=\"text-align: right;\">\n",
       "      <th></th>\n",
       "      <th>count</th>\n",
       "      <th>mean</th>\n",
       "      <th>std</th>\n",
       "      <th>min</th>\n",
       "      <th>25%</th>\n",
       "      <th>50%</th>\n",
       "      <th>75%</th>\n",
       "      <th>max</th>\n",
       "    </tr>\n",
       "    <tr>\n",
       "      <th>platform</th>\n",
       "      <th></th>\n",
       "      <th></th>\n",
       "      <th></th>\n",
       "      <th></th>\n",
       "      <th></th>\n",
       "      <th></th>\n",
       "      <th></th>\n",
       "      <th></th>\n",
       "    </tr>\n",
       "  </thead>\n",
       "  <tbody>\n",
       "    <tr>\n",
       "      <th>apple</th>\n",
       "      <td>6268.0</td>\n",
       "      <td>4.132770</td>\n",
       "      <td>0.616986</td>\n",
       "      <td>1.0</td>\n",
       "      <td>4.0</td>\n",
       "      <td>4.3</td>\n",
       "      <td>4.5</td>\n",
       "      <td>5.0</td>\n",
       "    </tr>\n",
       "    <tr>\n",
       "      <th>google</th>\n",
       "      <td>9366.0</td>\n",
       "      <td>4.136163</td>\n",
       "      <td>0.610268</td>\n",
       "      <td>1.0</td>\n",
       "      <td>4.0</td>\n",
       "      <td>4.3</td>\n",
       "      <td>4.5</td>\n",
       "      <td>5.0</td>\n",
       "    </tr>\n",
       "  </tbody>\n",
       "</table>\n",
       "</div>"
      ],
      "text/plain": [
       "           count      mean       std  min  25%  50%  75%  max\n",
       "platform                                                     \n",
       "apple     6268.0  4.132770  0.616986  1.0  4.0  4.3  4.5  5.0\n",
       "google    9366.0  4.136163  0.610268  1.0  4.0  4.3  4.5  5.0"
      ]
     },
     "execution_count": 82,
     "metadata": {},
     "output_type": "execute_result"
    }
   ],
   "source": [
    "# Create a column called `Permutation1`, and assign to it the result of permuting (shuffling) the Rating column\n",
    "# This assignment will use our numpy object's random.permutation() method\n",
    "df['Permutation1'] = np.random.permutation(df['Rating'])\n",
    "\n",
    "# Call the describe() method on our permutation grouped by 'platform'. \n",
    "df.groupby(by='platform')['Permutation1'].describe()"
   ]
  },
  {
   "cell_type": "code",
   "execution_count": 83,
   "metadata": {
    "colab": {},
    "colab_type": "code",
    "id": "AaGNfPGTFcv7"
   },
   "outputs": [
    {
     "data": {
      "text/html": [
       "<div>\n",
       "<style scoped>\n",
       "    .dataframe tbody tr th:only-of-type {\n",
       "        vertical-align: middle;\n",
       "    }\n",
       "\n",
       "    .dataframe tbody tr th {\n",
       "        vertical-align: top;\n",
       "    }\n",
       "\n",
       "    .dataframe thead th {\n",
       "        text-align: right;\n",
       "    }\n",
       "</style>\n",
       "<table border=\"1\" class=\"dataframe\">\n",
       "  <thead>\n",
       "    <tr style=\"text-align: right;\">\n",
       "      <th></th>\n",
       "      <th>count</th>\n",
       "      <th>mean</th>\n",
       "      <th>std</th>\n",
       "      <th>min</th>\n",
       "      <th>25%</th>\n",
       "      <th>50%</th>\n",
       "      <th>75%</th>\n",
       "      <th>max</th>\n",
       "    </tr>\n",
       "    <tr>\n",
       "      <th>platform</th>\n",
       "      <th></th>\n",
       "      <th></th>\n",
       "      <th></th>\n",
       "      <th></th>\n",
       "      <th></th>\n",
       "      <th></th>\n",
       "      <th></th>\n",
       "      <th></th>\n",
       "    </tr>\n",
       "  </thead>\n",
       "  <tbody>\n",
       "    <tr>\n",
       "      <th>apple</th>\n",
       "      <td>6268.0</td>\n",
       "      <td>4.049697</td>\n",
       "      <td>0.726943</td>\n",
       "      <td>1.0</td>\n",
       "      <td>4.0</td>\n",
       "      <td>4.5</td>\n",
       "      <td>4.5</td>\n",
       "      <td>5.0</td>\n",
       "    </tr>\n",
       "    <tr>\n",
       "      <th>google</th>\n",
       "      <td>9366.0</td>\n",
       "      <td>4.191757</td>\n",
       "      <td>0.515219</td>\n",
       "      <td>1.0</td>\n",
       "      <td>4.0</td>\n",
       "      <td>4.3</td>\n",
       "      <td>4.5</td>\n",
       "      <td>5.0</td>\n",
       "    </tr>\n",
       "  </tbody>\n",
       "</table>\n",
       "</div>"
      ],
      "text/plain": [
       "           count      mean       std  min  25%  50%  75%  max\n",
       "platform                                                     \n",
       "apple     6268.0  4.049697  0.726943  1.0  4.0  4.5  4.5  5.0\n",
       "google    9366.0  4.191757  0.515219  1.0  4.0  4.3  4.5  5.0"
      ]
     },
     "execution_count": 83,
     "metadata": {},
     "output_type": "execute_result"
    }
   ],
   "source": [
    "# Lets compare with the previous analytical summary:\n",
    "df.groupby(by='platform')['Rating'].describe()"
   ]
  },
  {
   "cell_type": "code",
   "execution_count": 89,
   "metadata": {
    "colab": {},
    "colab_type": "code",
    "id": "aJPNpX0JFcv-"
   },
   "outputs": [],
   "source": [
    "# The difference in the means for Permutation1 (0.001103) now looks hugely different to our observed difference of 0.14206. \n",
    "# It's sure starting to look like our observed difference is significant, and that the Null is false; platform does impact on ratings\n",
    "# But to be sure, let's create 10,000 permutations, calculate the mean ratings for Google and Apple apps and the difference between these for each one, and then take the average of all of these differences.\n",
    "# Let's create a vector with the differences - that will be the distibution of the Null.\n",
    "\n",
    "# First, make a list called difference.\n",
    "difference = []\n",
    "\n",
    "# Now make a for loop that does the following 10,000 times:\n",
    "# 1. makes a permutation of the 'Rating' as you did above\n",
    "# 2. calculates the difference in the mean rating for apple and the mean rating for google. \n",
    "for i in range(10000):\n",
    "    permutation = np.random.permutation(df['Rating'])\n",
    "    difference.append(np.mean(permutation[df['platform']=='apple'])- np.mean(permutation[df['platform']=='google']))"
   ]
  },
  {
   "cell_type": "code",
   "execution_count": 91,
   "metadata": {
    "colab": {},
    "colab_type": "code",
    "id": "VlzpYTkYFcv_"
   },
   "outputs": [
    {
     "data": {
      "image/png": "[encoded data removed]",
      "text/plain": [
       "<Figure size 432x288 with 1 Axes>"
      ]
     },
     "metadata": {
      "needs_background": "light"
     },
     "output_type": "display_data"
    }
   ],
   "source": [
    "# Make a variable called 'histo', and assign to it the result of plotting a histogram of the difference list. \n",
    "histo = plt.hist(difference)"
   ]
  },
  {
   "cell_type": "code",
   "execution_count": 86,
   "metadata": {
    "colab": {},
    "colab_type": "code",
    "id": "KhqgDFd3FcwB"
   },
   "outputs": [
    {
     "name": "stdout",
     "output_type": "stream",
     "text": [
      "0.14206054745123442\n"
     ]
    }
   ],
   "source": [
    "# Now make a variable called obs_difference, and assign it the result of the mean of our 'apple' variable and the mean of our 'google variable'\n",
    "obs_difference = np.mean(apple) - np.mean(google)\n",
    "\n",
    "# Make this difference absolute with the built-in abs() function. \n",
    "abs(obs_difference)\n",
    "\n",
    "# Print out this value; it should be 0.1420605474512291. \n",
    "print(abs(obs_difference))"
   ]
  },
  {
   "cell_type": "markdown",
   "metadata": {
    "colab_type": "text",
    "id": "QUNuuSgDFcwE"
   },
   "source": [
    "## Stage 4 -  Evaluating and concluding\n",
    "### 4a. What is our conclusion?"
   ]
  },
  {
   "cell_type": "code",
   "execution_count": 93,
   "metadata": {
    "colab": {},
    "colab_type": "code",
    "id": "XMQHnqx1FcwF"
   },
   "outputs": [
    {
     "name": "stdout",
     "output_type": "stream",
     "text": [
      "[0.011333833043006614, -0.010503561402353867, -0.012660669878052921, 0.002332565576502965, -0.013512860880800837, -0.003579509505044598, -0.018013494614049996, -0.006908380609520037, -0.005017581822178485, -0.004724641164983723, -0.001635448780030302, 0.005421757961458162, 0.0023591965453402253, 0.01231917888993106, 0.01189308338855799, 0.01719264618688321, -0.0021946991255825665, -0.012554146002710986, 0.0083777955022315, 0.001746684262116105, 0.015674680963241094, -0.009864418150294263, 0.00965608200634982, -0.0012626152163290882, 0.007419080624143426, 0.0008678622905353706, 0.009735974912858048, -0.0031534140036724168, -0.010610085277697578, -0.009891049119130635, 0.0025988752648613556, -0.0022479610632544222, 0.0020129939504744954, 0.0019331010439662677, -0.013166658285935107, -0.0015289249046874787, 0.0026787681713695832, -0.0006234719642694841, 0.0026521372025332113, -0.0104502994646829, -0.006615439952327051, 0.01000228460121555, 0.0027320301090396626, 0.009842498788199983, 0.0031314946415772482, -0.007227952235550283, 0.003158125610412732, -0.009864418150294263, 0.007392449655306166, -0.007547523861579641, 0.0005482906645051244, 0.008697367128260858, 0.018204623002644027, 0.0003618738826540735, -0.011169335623248955, 0.010747951728617977, -0.0004370551824202096, 0.0005482906645060126, -0.006322499295132289, -0.01873253077261694, -0.0015555558735229624, -0.008346452926653924, 0.002199410732324658, 0.0036374830494585453, -0.007440999986236818, -0.0033131998166862076, -0.0015289249046874787, 0.009735974912858048, -0.005417046354716071, -0.0008631506837923908, -0.004937688915671146, -0.005949665731431963, -0.000836519714956907, -0.0009696745591343259, -0.01958472177536308, 0.001240695854235696, -0.019904293401394213, 0.0002287190384748783, -0.006935011578355521, 0.007845176125515607, -0.025177225230882172, -0.002461008813940957, 0.009416403286827801, 0.005741329587486632, -0.0002240074317327867, -0.012527515033874614, 0.01687307456085385, 0.0055282818368000974, -0.004271914694774281, -0.005443677323550666, -0.015057457073276659, -0.024191879383956838, -0.022114663814765123, 0.0012140648854002123, -0.019291781118170093, -0.008905703272206189, -0.007733940643429804, 0.00038850485149044545, 0.017405693937568856, 0.009709343944021676, 0.008484319377575211, -0.010397037527011044, -0.005869772824922848, 0.01026859428957394, 0.007232663842292375, 0.014529549303302858, 0.008990307785456508, 0.00922998650497675, 0.010694689790946121, 0.006726675434411078, 0.013624096362884863, -0.006269237357461321, -0.006935011578355521, 0.00795170000085843, -0.0047779031026555785, -0.008000250331788195, 0.004409781145696456, 0.02302482836192432, -0.02182172315757125, -0.003978974037582184, 0.01154688079369226, -0.00017074549406270734, -0.010823133028383225, -0.005390415385878811, -0.0038191882245666164, -0.0033398307855216913, -0.008932334241041673, 0.011147416261154675, 0.008857152941276425, 0.004542935989875652, -0.005896403793760108, 0.008004961938530286, -0.00198165137489692, 0.007978330969694802, -0.010610085277697578, 0.0019863629816390116, 0.010801213666289833, -0.0060561896067738985, 0.024675948429742967, -0.005203998604028648, -0.011542169186950169, -0.021129317967840677, -0.014764516416082785, 0.024329745834879013, -0.025709844607598065, 0.017299170062226032, -0.005789879918416396, 0.017006229405033046, -0.005443677323550666, -0.00557683216773075, -0.009917680087966119, 0.012798536328974208, -0.006242606388625838, 0.012585488578288562, -0.001635448780030302, 0.002705399140205067, -0.007680678705758837, -0.0006501029331058561, 0.015168692555361574, 0.018151361064971283, 0.001427112636086747, -0.008666024552683282, 0.0033978043299356386, 0.0014537436049222308, -0.012634038909218326, -0.001662079748867562, -6.42216187189959e-05, -0.006322499295133177, 0.008404426471066984, 0.0006015526021752038, -0.0005169480889266609, 0.02600749687153492, 0.001240695854235696, -0.008852441334534333, -0.0020082823437324038, 0.008084854845036737, -0.006295868326296805, -0.01598954098252925, 0.005421757961457274, 0.006939723185098501, 0.003530959174114834, -0.0057366179807445405, -0.016122695826708444, -0.001022936496807958, 0.006859830278590273, -0.014231897039366004, 0.00315812561041362, 0.013757251207062282, 0.0022526726699956257, 0.01181319048205065, 0.0019863629816390116, 0.007099508998112292, -0.013113396348262363, 0.0003352429138194779, -0.012740562784562037, -0.006429023170476, 0.003850530800144192, -0.0097845252437887, 0.005448388930293646, 0.012878429235482436, 0.004010316613159759, 0.005075555366591544, 0.020042159852313723, 0.01855082559750887, -0.007440999986236818, 0.0047293527717267025, 0.0032380185169209597, -0.00419202178826783, -0.003446354660866291, 0.010241963320739345, -0.01207478856366695, 0.004010316613159759, 0.018364408815657818, -0.0020349133125687757, -0.0033930927231953234, 0.00992239169470821, -0.004884426978000178, 0.004063578550831615, -0.007813833549938032, 0.007791914187842863, 0.02084108891738712, -0.005230629572865908, 0.017645372657090874, 0.00582122249399486, 0.0032380185169209597, -0.012687300846888405, -0.012820455691069377, -0.0009696745591369904, -0.01002420396330983, -0.018466221084259438, 0.001746684262116105, -0.008000250331788195, -0.006056189606774787, -0.000836519714956907, -0.013512860880800837, -0.001795234593045869, 0.0004950287268332687, 0.003024970766235313, -0.0009164126214642465, -0.006562178014654307, -0.018626006897275005, -0.013379706036620753, 0.0011341719788910964, 0.01745895587524071, 0.0031847565792482158, -0.0020349133125678875, 0.0044630430833692, -0.0007566268084504557, -0.01260740794038373, -0.009518215555428533, 0.0061674250888597015, -0.016815101016439904, 1.567128778923177e-05, -0.000676733901942228, -0.011781847906472187, 0.006247317995367041, -0.021981508970585928, 0.004649459865218475, 9.556419429657126e-05, 0.003957054675487903, 0.004223364363846294, -0.012634038909218326, 0.002359196545339337, 6.893322546108749e-05, -0.009225274898236435, -0.0016887107177030458, -0.00017074549406181916, 0.0019863629816381234, 0.008537581315247067, 0.01413008477076616, 0.013118107955004454, 0.015940990651600373, 0.001427112636086747, 0.006646782527904627, 0.012345809858766543, 0.012026238232736297, -0.004271914694776058, -0.005843141856088252, -0.004937688915672034, 0.0005482906645051244, -0.005390415385878811, 0.004010316613159759, 0.01727253909339055, 0.002998339797398053, 0.0005749216333414964, -0.013006872472920428, -0.011941633719486866, -0.00038379324474835386, 0.0063538418707107525, -0.009411691680086598, -0.011462276280441941, -0.004378438570119769, 0.00033524291381858973, 0.0037173759559649966, 0.007498973530648989, -0.008186667113638357, -0.01641563648390232, 0.009203355536140378, -0.012740562784561149, 0.007951700000859319, 0.01881713528586726, 0.004622828896383879, 0.001693422324443361, -0.011781847906473075, 0.0047826147093994464, -0.008985596178711752, 0.00041513582032504104, 0.015248585461868913, -0.008026881300623678, -0.008532869708505864, 0.009016938754291104, -0.0009164126214642465, -0.012554146002711875, -0.004431700507789849, 0.0051288173042634, 0.011387094980675805, 0.007898438063186575, -0.009225274898235547, 0.0004950287268341569, -0.005976296700266559, -0.004112128881761379, -0.005417046354716071, 0.007046247060441324, -0.023259795474704248, -0.0027006875334629754, -0.012367729220859935, -0.015829755169515458, 0.02009542178998469, 0.005901115400501311, -0.004671379227312755, 0.001107541010057389, -0.0015821868423593344, 0.013064846017333487, -0.0015555558735238506, -0.0056034631365662335, -0.004298545663610653, -0.004990950853343001, -0.0005968409954357767, 0.00701961609160584, -0.012527515033874614, -0.006828487703014474, 0.0028119230155487784, -0.016575422296916997, -0.022221187690108835, 0.008777260034769085, 0.017565479750584423, -0.008053512269460938, -0.0036327714427155655, 0.001720053293279733, -0.0035262475673727423, -0.013299813130114302, 0.001427112636086747, 0.01761874168825539, 0.003184756579249104, -0.00797361936295271, -0.00685511867184907, -0.008905703272205301, 0.007632128374829961, -0.0005435790577630328, -0.014098742195186809, -0.004378438570118881, -0.008825810365697961, 0.009150093598468523, -0.017827077832199834, -0.012207943407846145, 0.00057492163333972, -0.017347720393155797, -0.008426345833161264, -0.003126783034836045, 0.006247317995367041, 0.006566889621398175, -0.009624739430773133, -0.011089442716741615, -0.013406337005457125, -0.00043705518242198593, -0.00357950950504371, -0.02437829616580789, 4.230225662471554e-05, -0.008532869708504975, -0.01505745707327577, 0.018071468158463944, -0.001022936496807958, -0.007387738048564962, 0.007046247060441324, -0.006828487703012698, -0.002594163658120152, 0.006700044465575594, 0.0019597320128026396, -0.017747184925692494, -0.0036594024115528256, -0.008666024552683282, -0.008026881300625455, -0.007520892892744158, -0.0034996165985372585, -0.012021526625994206, 0.0022793036388319976, -0.00549693926122341, 0.013943667988914221, 0.0108544756039608, -0.001475662967015623, -0.008346452926653924, -0.00650891607698334, 0.01032185622724402, 0.00922998650497675, -0.008000250331788195, 0.0005749216333406082, 0.009682712975185304, 0.00616742508886059, 0.006886461247425757, -0.003712664349223793, 0.003291280454591927, 0.005608174743307437, 0.007818545156680123, 0.020388362447178565, 0.012319178889930171, 0.004143471457338066, -0.014498206727724394, -0.010130727838652653, -0.002807211408807575, 0.0019331010439662677, 0.00014882613196842698, -0.007014904484863749, 0.003983685644323387, -0.005337153448208731, 0.003158125610412732, -0.009518215555429421, -0.003739295318059277, -0.0010495674656434417, 0.0025722442960249836, -0.007946988394118115, 0.013917037020078737, -0.006535547045818824, 0.0025189823583549042, 0.012692012453631385, 0.004809245678234042, -0.012341098252024452, -0.004937688915671146, 0.009336510380320462, -0.003233306910178868, 0.011626773700198711, -0.01404548025751673, -0.011515538218114685, -0.012021526625995094, -0.008932334241041673, -0.0023544849385981337, -0.005789879918416396, -0.004032235975253151, 0.0005749216333414964, -0.005656725074237201, -0.0011294603721507812, 0.0005482906645060126, 0.015435002243719964, -0.0028871043153140263, -0.006642070921162535, -0.0033398307855225795, -0.005230629572865908, 0.008564212284081663, 0.0006548145398488359, -0.0046181172896408995, 0.007605497405993589, 0.007525604499484473, -0.002487639782777329, -0.009251905867071919, -0.002194699125584343, 0.0028918159220552297, -0.0002772693694055306, 0.00744571159297891, -0.0029936281906577378, -0.017321089424319425, -0.0003039003382401262, 0.014289870583779951, 0.011253940136497498, -0.019797769526048725, 0.00033524291381858973, -0.01625585067088764, 0.009682712975186192, 0.012132762108080009, -0.0056034631365662335, -0.00677522576534173, 0.016633395841331833, -0.0026474255957911197, 0.01751221781291168, 0.006913092216261241, 0.00478261470939767, 0.009176724567304895, 0.0023591965453402253, 0.013837144113572286, 0.002572244296025872, -0.011941633719488642, -0.011435645311606457, 0.008084854845037626, 0.0074723425618143935, -0.016149326795544816, -0.0011294603721516694, -0.008639393583847799, 0.010721320759782493, -0.009278536835907403, 0.003957054675487015, 0.002439089451848453, 0.011600142731363228, 0.019003552067717422, 0.00582122249399486, -0.007600785799251497, 0.006273948964202525, 0.0033978043299356386, -0.011622062093457508, -0.0017419726553749015, -0.011755216937636703, -0.006562178014655196, 0.01154688079369226, 0.00443641211453194, 0.009576189099843369, 0.00829790259572416, 0.008004961938530286, -0.0013957700605091716, -0.008532869708504087, 0.0036108520806221733, -0.003073521097164189, 0.010375118164916763, 0.006966354153933096, -0.010157358807488137, 0.0011341719788910964, -0.004724641164984611, -0.008852441334534333, 0.015594788056734643, 0.0018265771686234444, -0.015137349979784887, -0.0017686036242103853, -0.003233306910178868, 0.010934368510469028, -0.013566122818471804, 0.005341865054949935, -0.025550058794584274, -0.0001973764628981911, -0.006029558637938415, 0.0017200532932806212, -0.008692655521520543, 0.005315234086113563, 0.009496296193334253, -0.009731263306115068, 0.008537581315247067, 0.009336510380320462, -0.004458331476625332, -0.019478197900020255, 0.0018265771686234444, -0.01865263786611049, 0.0027320301090396626, 0.008723998097096342, 0.016207300339958763, -0.002594163658120152, 0.0023059346076674814, 0.0016401603867732817, -0.004990950853343001, -0.0097845252437887, 0.00315812561041362, 0.0018798391062961883, -0.0013957700605091716, 0.002252672669996514, -0.007494261923908674, -0.028878929899059713, -0.0012892461851663484, 0.0029983397973998294, -0.025177225230882172, -0.0036860333803883094, -0.009305167804742887, -0.0038458191934021, -0.0037925572557311327, -0.00017074549406093098, -0.007121428360206572, -0.006801856734176326, -0.0024876397827764407, 0.007925069032022058, 0.01626056227762973, -0.0096780013684441, -0.013752539600321967, -0.010823133028384113, 0.007392449655306166, 0.014343132521451807, -0.01764066105034967, 0.003797268862471448, -0.0008098887461214233, 0.001746684262116105, -0.0036594024115519375, -0.013406337005457125, 0.011759928544377907, -0.02432503422813692, 0.009895760725871838, -0.0024077468762691012, 0.004835876647068638, -0.016495529390409658, 0.03271850101815765, 0.003317911423428299, 0.0039037927378169357, -0.010077465900981686, -0.0015821868423584462, 0.013224631830348166, 0.00880389100360457, -0.017134672642468374, 0.016047514526944084, -0.02096953215482511, 0.0025988752648613556, 0.012612119547124045, 0.0008944932593717425, 0.001400481667250375, 0.02592760396502669, 0.010401749133752247, -0.01223457437668074, 0.002172779763488286, 0.0013205887607421474, -0.007254583204386655, 0.017405693937568856, 0.0019863629816381234, -0.016042802920201105, -0.007600785799250609, -0.0014224010293446554, -0.01353949184963632, 0.015967621620435857, -0.0025409017204482964, -0.025310380075062255, 0.0007613384151916591, -0.005763248949580024, -0.0033131998166862076, 0.012026238232737185, -0.007813833549937144, -1.0959681045363823e-05, 0.003024970766235313, -0.0044849624454625925, 0.023983543240012395, 0.00880389100360457, 0.01258548857828945, -0.008346452926653924, 0.0036641140182949172, -0.007387738048565851, -0.01678847004760442, -0.006642070921162535, 0.0007879693840262547, 0.000281980976146734, 0.004569566958711135, 0.00417010242617355, 0.0019863629816381234, 0.005288603117278079, 0.00922998650497675, 0.022731887704730447, 0.00675330640324745, 0.0015070055425940865, -0.0022479610632544222, -0.00959810846193676, -0.009172012960563691, 0.016367086152972554, 0.007072878029276808, -0.004964319884505741, 0.01642034809064441, 0.0018798391062961883, 0.011094154323483707, -0.013459598943128093, 0.008004961938530286, -0.01335307506778527, -0.006402392201640517, -0.008532869708504087, 0.004782614709398558, 0.00451630502103928, 0.002865184953219746, 0.01359746539404938, 0.0013205887607421474, 0.004356519208024601, -0.006988273516027377, 0.012532226640616706, -0.0019017584683895805, -0.014950933197933836, 0.005741329587486632, -0.0008897816526278746, -0.009651370399607728, -0.00025063840056915865, -0.0045914863208045276, 0.010641427853275154, 0.020628041166701472, -0.008026881300624567, -0.004245283725940574, -0.024005462602105787, -0.018865685616797023, 0.02688631884311654, -0.009784525243787812, -0.0012093532786572325, 0.0037706378936368523, -0.008053512269460938, 0.0021461487946536906, 0.02345092386329739, 0.0018265771686234444, 0.006966354153933096, -0.008346452926653036, -0.01026388268283096, 0.009043569723127476, -0.003393092723193547, -0.013006872472920428, -0.0021946991255834547, -0.0012892461851672365, -0.001821865561882241, 0.01061479688443967, -0.003126783034836045, -0.014711254478411817, 0.005794591525159376, 0.014023560895422449, -0.009385060711251114, -0.027360964675418487, -0.007281214173222139, 0.009762605881693531, -0.010743240121875886, 0.007552235468320845, 0.01061479688443967, -0.00038379324474835386, -0.018945578523304363, -0.0005968409954348886, -0.002594163658120152, -0.01242099115853268, -0.010290513651667332, -0.0038724501622393603, 0.019456278537925087, 0.005981008307009539, 0.0061940560576960735, 0.006966354153933985, 0.018311146877985962, -0.004112128881761379, 0.01828451590915048, 0.005954377338174055, 0.010801213666289833, -0.003712664349223793, -0.009864418150294263, -0.011994895657158722, 0.0027320301090396626, -0.011835109844144043, -0.009145381991728208, 0.018657349472851692, 0.019988897914642756, -0.0044849624454625925, -0.011781847906472187, -0.009358429742413854, 0.0068065683409184174, 0.0008678622905344824, -0.006402392201639628, -0.011781847906473963, 0.002412458483011193, -0.002274592032089906, -0.007148059329042056, 0.010028915570051034, 0.010747951728617089, -0.0009164126214642465, 0.019189968849567585, 0.016633395841331833, -0.0028604733464776544, 0.00046839775799689676, -0.007680678705758837, -0.0015821868423593344, -0.026828345298702594, -0.00488442697799929, 0.00701961609160584, 0.010455011071424103, 0.00949629619333514, 0.008697367128261746, 0.009123462629633927, 0.010641427853275154, 0.006087532182352362, 0.0016135294179369097, 0.003371173361100155, -0.008879072303370705, 0.011493618856021293, -0.01164869306229388, 0.02102750569923728, 0.005581543774472841, 0.0006814455086843196, 0.0037173759559649966, -0.0010761984344789255, -0.00038379324474835386, 0.0021727797634891743, -0.007068166422534716, -0.0022213300944189385, 0.008910414878947392, 0.005235341179605335, -0.0028604733464785426, -0.01385906347566479, 0.0027586610778769227, 0.0008412313216981104, -0.01806675655172274, -0.0016088178111948181, -0.012420991158531791, -0.002274592032089906, -0.01231446728318808, 0.0031048636727417644, 0.007126139966947775, 0.0010542790723846451, 0.019882374039297268, -0.022727176097989243, 0.009096831660796667, 0.013624096362884863, 0.007978330969693914, -0.008479607770834008, 0.010907737541634432, 0.0004950287268332687, 0.019136706911896617, 0.0023059346076683696, -0.008080143238296422, -0.014045480257514953, -0.001342508122838204, -0.007680678705759725, -0.0038458191934021, -0.009944311056801602, -0.014657992540739073, -0.024404927134643373, 0.011280571105334758, 0.009150093598469411, -0.011888371781816787, -0.010769871090712257, 0.0027320301090405508, -0.0035262475673727423, 0.004542935989875652, 0.019110075943061133, -0.013619384756142772, -0.0028338423776412824, 0.008084854845037626, 0.018657349472850804, 0.001240695854235696, 0.003477697236442978, 0.016047514526944084, -0.003712664349223793, -0.005949665731431075, -0.018093387520558224, -0.002434377845104585, 0.007072878029276808, -0.005017581822179373, -0.025044070386702977, 0.0012140648854002123, -0.012154681470174289, -0.006349130263968661, 0.010614796884438782, -0.007760571612266176, 0.0026521372025332113, -0.013699277662651888, -0.018013494614050884, -0.013912325413336646, 0.006433734777217204, 0.01588772871392763, -0.011648693062292992, 0.017245908124554177, 0.011600142731364116, 0.0033179114234300755, 0.005102186335427916, -0.0006234719642721487, -0.0009164126214642465, -0.0029669972218204776, -0.0031800449725079005, -0.005550201198894378, 0.014076822833092528, 0.01359746539404938, -0.0001441145252263354, -0.0046447482584772715, -0.005124105697521308, -0.025496796856912418, 0.009443034255664173, -0.0012359842474927163, 0.005954377338174055, 0.010135439445393857, 0.01349094151870478, -0.008106774207131018, -0.0044583314766262205, -0.0022213300944189385, 0.004569566958711135, 0.001240695854235696, -0.00038379324474835386, -0.005203998604028648, 0.006087532182351474, 0.0039037927378160475, 0.013118107955004454, -0.004058866944088635, 0.0023059346076683696, -0.0037392953180583888, -0.004245283725939686, -0.0035262475673736304, 0.0122925479210938, -0.00975789427495144, 0.011333833043005725, -0.0201972340585872, 0.009922391694707322, -0.0028604733464785426, -0.00959810846193676, -0.0030468901283287053, 0.004303257270352745, -0.012367729220859047, -0.012048157594830577, -0.01780044686336346, 0.005102186335427916, 0.008670736159425374, 0.01532847836837714, 0.01154688079369226, 0.0006548145398488359, -0.011169335623248955, -0.0027273185022993474, 0.0036108520806221733, 0.008058223876201254, 0.011866452419722506, 0.008244640658051416, -0.00357950950504371, -0.013379706036620753, 0.01780515847010733, -0.0038191882245666164, 0.012452333734109367, 0.004356519208024601, -0.009997572994474346, -0.010423668495846528, 0.0008944932593699662, 0.003823899831309596, -0.011781847906472187, -0.003100152066000561, 0.002705399140204179, -0.0065888089834915675, 0.011999607263900813, -0.01907873336748267, -0.0041653908194332345, 0.005288603117278079, 0.004782614709398558, 0.008910414878946504, -0.0036860333803874212, 0.005075555366590656, 0.004489674052204684, 0.005847853462829455, 0.010641427853275154, -0.012128050501338805, -0.009065489085220868, -0.0004104242135838376, -0.0003571622759128701, 0.008058223876201254, -0.0095714774930995, -0.0003305313070773863, -0.014871040291426496, 0.006646782527904627, 0.01564804999440561, 0.003051601735071685, 0.007791914187842863, -0.015377028699306017, -0.02011734115207986, 0.0025988752648622437, 0.012851798266646064, 0.015781204838584806, 0.006620151559068255, 0.00768539031250004, 0.003797268862472336, 0.008564212284081663, -0.02158204443804923, 0.007685390312500928, -0.006322499295133177, -0.001182722309822637, 0.0009743861658773056, 0.013890406051243254, 0.005182079241935256, 0.004596197927547507, 0.0005482906645051244, 0.01197297629506533, 0.007951700000859319, -0.005523570230058894, 0.011759928544378795, -0.009704632337279584, 0.004249995332681777, 0.009735974912858048, -0.003286568847851612, -0.004351807601283397, -0.002620794626955636, -0.006295868326297693, 0.007126139966948664, -0.010903025934891453, -0.0070947973913702, 0.0012939577919075518, 0.010934368510469028, 0.010508273009095959, 0.0026787681713695832, 0.013730620238227687, -0.002887104315313138, 0.003664114018294029, 0.0040635785508307265, 0.025634663307832817, -0.019052102398646298, -0.006322499295133177, 0.007685390312499152, -0.01524387385512771, 0.004835876647070414, -0.005656725074237201, -0.0029936281906568496, -0.022407604471958997, -0.008160036144803762, -0.004538224383134448, -0.0011560913409871532, -0.006748594796505358, 0.002971708828561681, 0.0023059346076683696, -0.01026388268283096, 0.010934368510469028, -0.011142704654412583, -0.005976296700266559, -0.005630094105400829, 0.005395126992620902, 0.006220687026531557, -0.0015821868423593344, 0.005634805712143809, 0.003504328205278462, -0.00909212005405724, -0.004990950853342113, 0.0025456133271895, 0.009469665224498769, -0.009464953617758454, -0.016655315203424337, 0.0005749216333406082, 0.005874484431665827, 0.006407103808382608, -0.0004104242135838376, -0.00017074549406181916, 0.008963676816619248, -0.009358429742413854, 0.011094154323482819, 0.016367086152972554, 0.023717233551654893, -0.011329121436262746, -0.010903025934891453, 0.03245219132979926, 0.00949629619333514, 0.0031314946415772482, -0.008293190988982069, -0.009172012960563691, -0.00941169168008571, -0.02317990256819691, -9.085258755536785e-05, -0.002461008813941845, 0.010028915570051034, 0.00419673339501081, 0.007818545156679235, 0.019855743070462673, 0.001906470075130784, 0.010934368510469028, 0.0026521372025340995, 0.003371173361100155, -0.011808478875308559, 0.011227309167661126, -0.004218652757104202, -0.012447622127368163, -0.015217242886291338, 0.013490941518705668, -0.0013158771540018321, -0.006056189606775675, -0.004698010196148239, 0.004915769553575977, 0.006779937372082934, -0.00959810846193676, 0.0013472197295785193, 0.013570834425213896, -0.008266560020145697, 0.0002819809761476222, 0.01642034809064441, -0.008053512269460938, -0.014711254478411817, -0.010450299464682011, -0.003446354660866291, 0.012212655014587348, 0.01058816591560241, 0.013331155705690989, -0.00941169168008571, 0.007845176125515607, -0.008026881300624567, -0.005044212791014857, -0.004964319884504853, -0.009784525243787812, 0.006913092216263905, 0.0029717088285625692, -0.02371252194491369, 0.004276626301518149, 0.0016135294179369097, 0.01317136989267631, -0.003552878536208226, -0.021129317967840677, 0.006566889621397287, -0.008026881300624567, -0.006668701889998019, 0.007552235468322621, 0.0007613384151916591, -0.002780580439970315, -0.005550201198895266, 0.015248585461868913, 0.0045429359898747634, -0.003206675941342496, -0.006935011578356409, 0.003211387548085476, 0.0039037927378160475, 0.010188701383064824, -0.004831165040326546, 0.010481642040260475, 0.009336510380320462, -0.00917201296056458, -0.011009549810235164, -0.002647425595792008, 0.019136706911896617, -0.011675324031129364, -0.00038379324474835386, 0.00046839775799689676, -0.0016088178111948181, -0.023206533537032392, 0.006433734777217204, -0.007174690297878428, -0.010130727838652653, -0.01865263786611049, -0.0009696745591361022, 0.0007879693840262547, -0.01505745707327577, -0.01053019237118935, -0.013326444098948897, -0.0014224010293437672, 0.005741329587486632, -0.009225274898234659, 0.006380472839547124, 0.001267326823072068, 0.009150093598469411, 0.004010316613159759, 0.014396394459122774, -0.00909212005405724, 0.0016667913556078773, 0.018657349472851692, -0.006828487703014474, -0.014231897039366892, 0.007898438063186575, 0.019376385631419524, -0.009251905867071919, -0.003100152065999673, -0.017054779735961922, 0.0037972688624732243, -0.013299813130113414, -0.0006767339019413399, -0.0070681664225356045, 0.006087532182351474, 0.0053684960237854185, -0.0043518076012842855, -0.020250495996258167, 0.011493618856021293, -0.006908380609520037, 0.015967621620435857, 0.01053490397793233, 0.00038850485148955727, -0.010929656903726048, -0.00025063840056915865, -0.0035528785362100024, 0.0014803745737577145, -6.42216187189959e-05, -0.004245283725939686, 0.0021195178258173186, -0.00038379324474835386, 0.016793181654346512, 0.011946345326229846, 0.0018265771686234444, -0.008239929051311101, -0.01524387385512771, -0.008879072303371593, 0.0032912804545937036, -0.004271914694776058, -0.010343775589339188, -0.00581651088725188, 0.004063578550831615, -0.008106774207131018, -0.0005968409954357767, -0.0016887107177030458, -0.017693922988021527, -0.00831982195781844, 0.008164747751544965, 0.007126139966947775, 0.014742597053987616, -0.02610930914013565, -0.010583454308861207, -0.010556823340025723, 0.0031314946415781364, -0.0013957700605082834, -0.004564855351969044, -0.008666024552683282, 0.004090209519667987, 0.011014261416976368, 0.012532226640617594, 0.006992985122769468, -0.009305167804742887, 0.015461633212555448, -0.008133405175968278, -0.0013691390916727997, 0.004036947581996131, 0.0006548145398479477, 0.0007879693840271429, 0.010295225258409424, 0.018444301722165157, 0.01777852750127007, -0.002141437187910711, 0.007206032873456891, 0.00699298512276858, 0.01908344497422476, -0.0013691390916736879, 0.01032185622724402, -0.011462276280442829, -0.011382383373936378, 0.008537581315247067, 0.003557590142952094, 0.004489674052203796, 0.002865184953220634, 0.0001488261319675388, -0.011195966592085327, -0.009278536835907403, -0.01327318216127793, -0.0008098887461205351, -0.003233306910178868, -0.003872450162238472, 0.0050489243977560605, 0.002039624919309091, -0.004378438570118881, 0.02134707732526664, -0.009145381991729096, -0.004857796009163806, -0.013912325413336646, 0.007126139966947775, -0.0013957700605091716, -0.011861740812981303, 0.0019331010439671559, 0.005714698618651148, -0.006562178014654307, 0.0018265771686234444, -0.017321089424319425, 0.0040902095196670984, -0.008586131646175943, 0.004702721802891219, 0.0036374830494585453, 0.008058223876202142, -0.00325993787901524, -0.005443677323550666, -0.0031534140036724168, 0.006327210901875269, -0.007813833549937144, 0.0008678622905353706, -0.017480875237334104, 0.025474877494818138, 0.001720053293279733, 0.0014004816672512632, -0.003978974037582184, 0.009176724567304895, 0.006460365746053576, 0.003637483049457657, 0.0050489243977560605, 0.0020928868569809467, 0.008937045847782876, 0.015514895150227304, 0.00038850485148955727, 0.0018798391062953002, -0.005070843759850341, -0.004112128881761379, -0.003978974037582184, -0.010370406558174672, -0.01489767126026198, 0.015195323524197946, -0.013166658285935995, 0.005954377338173167, -0.021262472812019872, -0.009811156212624184, -0.0005702100265985166, 0.0007879693840271429, -0.004058866944089523, -0.0013158771540018321, 0.010827844635125317, -0.0004903171200911771, -0.014924302229098352, -0.01319328925477059, -0.006295868326296805, 0.0006015526021752038, 0.0018798391062953002, -0.00488442697799929, -0.0172145655489766, -0.008772548428026994, -0.004964319884507518, 0.008723998097095453, -0.004112128881761379, -0.012048157594831466, 0.018231253971478623, -0.009198643929399175, -0.0073344761108922185, -0.007281214173222139, -0.013219920223605186, -0.00392571209990944, 0.0069929851227703566, -0.014444944790053427, 0.013464310549870184, -0.0036860333803883094, -0.007787202581100772, -0.002780580439970315, -0.027707167270283328, -0.012527515033874614, 0.024196590990699818, 0.001586898449101426, -0.012953610535247684, -0.006322499295133177, 0.007392449655306166, -0.024591343916495312, 0.0055282818368000974, 0.0008412313216989986, -0.008772548428026994, -0.006189344450953982, 0.00409020951966621, 0.005688067649816553, 0.005714698618651148, 0.0007879693840271429, -3.759064988351213e-05, 0.012079500170409041, -0.015030826104440287, 0.0013205887607421474, 0.020281838571835742, -0.008426345833161264, 0.017512217812912567, -0.0001441145252254472, -0.006881749640683665, 0.013970298957749705, 0.0027586610778760345, 0.011174047229991935, 0.0024923513895194205, 0.0039304237066524195, 0.0036641140182949172, 0.0027852920467124065, 0.00038850485148955727, -0.0012359842474944926, 0.006646782527904627, -0.015163980948619482, -0.023392950318883443, -0.014231897039366892, 0.0011608029477274684, -0.008506238739668603, -0.00847960777083312, -0.010849763997218709, -0.004138759850596863, 0.012745274391304129, 0.002865184953219746, 0.014902382867003183, -0.0169482558606191, -0.008772548428026994, -0.01156880015578654, -0.002114806219076115, -0.005310522479372359, 0.007765283219009156, -0.0030468901283287053, 0.0037440069248013685, -0.00025063840056915865, -0.01854611399076589, 0.021533494107119466, 0.015861097745092145, 0.0035842211117866896, -0.011009549810233388, -0.00581651088725188, -0.0022213300944198267, 0.00012219516313205503, -0.004032235975252263, 0.00701961609160584, 0.015035537711183267, 1.567128778834359e-05, 0.014902382867004071, 0.01069468979094701, 0.0042233643638454055, -0.013432967974292609, 0.010987630448140884, -0.008825810365697073, -0.021102686999004305, -0.021368996687362696, -0.013060134410590507, 0.0032912804545937036, -0.0038191882245666164, -0.013965587351008502, -0.0021680681567470828, 0.0010010171347127894, -0.001981651374897808, -0.011888371781816787, -0.016122695826709332, 0.005048924397756949, -0.004005605006417667, -0.009731263306115068, 0.00829790259572416, 0.01815136106497217, -0.004724641164984611, 0.0005482906645051244, -0.015829755169516346, 0.018098099127300316, -0.006295868326296805, -0.0022479610632544222, 0.004622828896383879, -0.0023278539697617617, 0.0028385539843851504, 0.00965608200634982, -0.003286568847851612, 0.011387094980677581, 0.0025722442960249836, -0.009891049119129747, -0.0015821868423584462, 0.00880389100360457, 0.019695957257447994, -0.0030468901283287053, -0.01037040655817556, 0.014689335116316649, 0.02616728268454871, -0.010743240121875886, 0.011759928544377907, 0.01942964756909049, 0.014769228022823988, 0.005315234086113563, -0.00592303476259648, -0.0020349133125687757, -0.004112128881761379, 0.011520249824855888, -0.003100152066000561, -0.02270054512915287, 0.01154688079369226, -0.013938956382173018, 0.011706666606707827, 0.008510950346410695, 0.00768539031250004, -0.006961642547191893, 0.01681981262318022, 0.003983685644324275, 0.00606090121351599, 0.0007347074463552872, 1.567128778923177e-05, -0.008905703272205301, 0.005981008307010427, 0.0026521372025332113, -0.0068817496406845535, 0.0007613384151907709, -0.007281214173221251, -0.008160036144802874, -0.006482285108148744, -0.016149326795543928, 0.0033978043299356386, 0.011493618856020404, 0.0018798391062953002, -0.00685511867184907, 0.006833199309754789, 0.012692012453632273, 0.008990307785453844, -0.010237251713995477, 0.01711275328037498, -0.0016887107177030458, 0.010295225258408536, -0.015643338387664407, 0.007206032873455115, 0.014130084770765272, 0.024169960021863446, 0.0053418650549490465, -0.003712664349223793, -0.0012359842474927163, -0.01566996935650078, 0.0038771617689805637, -0.010130727838652653, -0.013965587351008502, 0.0011874339165647285, 0.004702721802889442, -0.0057898799184172844, 0.0016401603867732817, 0.004596197927547507, 0.004303257270353633, -0.01353949184963632, 0.0064869967148890595, -0.008053512269460938, 0.00933651038032135, 0.0031314946415781364, -0.012447622127368163, 0.004915769553576865, 0.01309147698616897, -0.0008098887461223114, 0.013703989269392203, -0.0021680681567461946, 0.004223364363846294, 0.0011075410100565009, 0.002971708828561681, 0.017672003625928134, -0.020942901185989626, -0.010929656903726048, 0.009096831660798443, 0.008164747751544965, -0.005523570230058006, -0.003712664349222905, -0.006961642547191005, 0.001906470075130784, -0.01284708665990486, 0.0007879693840271429, -0.009970942025637974, -0.01606943388903659, -0.007813833549938032, 0.0027852920467124065, -0.004165390819432346, 0.0005749216333406082, -0.00230122300092539, 0.003637483049456769, -0.00831982195781844, 0.00222604170116103, 0.007712021281336412, -0.0010229364968070698, 0.0021195178258173186, -0.01053019237118935, 0.01008217750772289, -0.004058866944089523, 0.004835876647068638, 0.002732030109041439, 0.005927746369335907, 0.0030782327039062807, -0.003259937879014352, 0.002572244296025872, -0.004378438570118881, 0.008191378720380449, 0.00614079412002333, 0.017139384249211354, -0.010556823340025723, -0.0011560913409871532, 0.007419080624142538, 0.0050222934289196886, 0.01514206158652609, 0.0013472197295785193, 0.00864410519058989, 0.010721320759782493, -0.007867095487608111, 0.010188701383065712, -0.009172012960563691, 0.011413725949513065, -0.023233164505868764, 0.00907020069196296, -0.0021680681567470828, -0.001795234593044981, -0.008026881300624567, -0.004964319884506629, -0.000996305527971586, -0.0007299958396131956, 0.0029450778597270855, -0.005683356043072685, -0.024671236823001763, -0.011009549810235164, -0.012101419532502433, 0.004542935989875652, 0.0040635785508307265, -0.01756076814384233, -0.0068817496406845535, -0.0135927537873064, 0.022651994798223107, 0.006380472839546236, 0.007259294811127859, -0.01353949184963632, -0.006136082513283014, -0.00813340517596739, -0.018892316585632507, -0.01071660915304129, 0.004569566958711135, -0.015110719010948515, 0.016446979059480782, -0.002620794626955636, -0.016069433889037477, -0.017480875237334104, -0.011861740812979527, 0.02350418580096747, 0.008697367128260858, -0.007893726456445371, 0.013251262799182761, -0.002461008813940957, -0.004058866944089523, -0.009278536835907403, -0.009385060711250226, 0.006247317995367041, -0.003206675941342496, 0.004036947581995243, 0.016899705529690223, 0.01658013390365909, -0.010183989776325397, 0.014875751898168588, -0.0016088178111948181, -0.012820455691069377, 0.009016938754290216, -0.008506238739668603, -0.01907873336748267, -0.005337153448207843, -0.018865685616797023, -0.009757894274950552, 0.013118107955004454, -0.0015022939358519949, -0.008958965209877157, -0.012128050501337917, -0.011089442716741615, 0.006060901213516878, 0.00614079412002333, -0.0046447482584772715, -0.0010761984344798137, -0.011462276280441941, -0.013699277662651, 0.02302482836192432, 0.008777260034769974, 0.010561534946766926, 0.0008146003528626267, -0.007387738048564074, 0.0029717088285634574, -0.005976296700266559, 0.00922998650497675, -0.006136082513282126, 0.021000874730402685, 0.004036947581996131, 0.0017200532932806212, 0.0010276481035482732, 0.006966354153933096, -0.01327318216127793, 0.03468919271200743, -0.0004903171200911771, -0.0020082823437324038, -0.012021526625995094, -0.004831165040327434, 0.0005749216333406082, -0.01652216035924603, -0.002274592032090794, 0.0027852920467115183, 0.003238018516921848, -0.0241119864774495, -0.015696600325335375, -0.024884284573688298, -0.002753949471134831, 0.004329888239188229, 0.01042838010258862, 0.0008146003528626267, -0.010077465900981686, 0.013144738923840826, -0.00198165137489692, -0.015696600325335375, -0.01239436018969542, 0.006566889621397287, 0.01796494428312112, 0.00606090121351599, 0.006700044465575594, -0.012234574376681628, -0.007148059329042944, 0.0039304237066524195, 0.0010542790723846451, 0.009602820068677964, 0.02254547092287762, 0.008004961938530286, -0.01156880015578654, 0.01759211071941902, 0.007898438063186575, 0.009522927162170625, 0.004649459865218475, -0.006375761232804145, 0.002385827514174821, -0.004431700507790737, 0.007259294811128747, -0.009997572994473458, 0.014289870583779951, -0.0004903171200911771, 0.009815867819365387, -0.002594163658120152, 0.005341865054949935, -0.007387738048564962, -0.004857796009163806, 0.006540258652560915, 0.030774440293143357, 0.006247317995367041, 0.0006548145398488359, 0.013996929926586077, 0.002998339797398941, -0.0031800449725079005, 0.027392307250996062, -0.007068166422534716, 0.01506216868001875, -0.0129269795664122, 4.230225662471554e-05, -0.0033930927231953234, 0.013544203456377524, 0.0019863629816381234, -0.03284694425559387, -0.009837787181459667, 0.008564212284081663, 0.012958322141989775, -0.0017686036242094971, 0.0017200532932806212, -0.0065888089834915675, 0.012718643422467757, -0.018785792710289684, 0.004409781145696456, -0.015243873855126822, -0.01598954098252925, 0.003238018516921848, -0.0129269795664122, -0.005550201198894378, 6.893322546019931e-05, -0.005203998604028648, 0.005581543774471953, 0.01444965639679463, -0.007387738048564962, 0.000281980976146734, -0.014072111226352213, -0.014098742195186809, -0.010423668495846528, 0.0032912804545928154, -0.009118751022892724, 0.026779794967771053, -0.0036594024115519375, -0.0017686036242103853, -0.017081410704798294, -1.095968104714018e-05, -0.0019283894372250643, -0.023313057412376992, 0.00382389983130782, -0.01918525724282727, -0.013699277662651, 0.016446979059479894, 0.019376385631418636, -0.011968264688324126, 0.011786559513214279, -0.014871040291426496, -0.006029558637938415, 0.023797126458161344, -0.0017952345930467573, -0.029251763462760927, -0.007867095487610776, 0.018311146877985962, -0.006908380609520037, -0.0007832577772868277, 0.0052087102107707395, -0.001342508122838204, -0.0012093532786581207, 0.008031592907364882, -0.0059230347625955915, -0.02347284322539167, -0.009571477493100389, 0.01471596608515302, 0.007738652250172784, -0.017693922988021527, -0.004964319884506629, -0.0034996165985372585, 0.005581543774471953, 0.01479585899166036, 0.004196733395008145, 0.010668058822110638, -0.0007566268084504557, -0.0024610088139400688, 0.018364408815657818, -0.011222597560921699, 0.018417670753329674, -0.02171519928222665, 0.014236608646108984, -0.011781847906473963, -0.016495529390410546, 0.0007080764775198034, 0.004516305021040168, 0.016446979059479894, -0.004511593414298076, -0.015430290636977873, -0.0104502994646829, -0.011142704654412583, -0.008586131646175943, -0.009385060711249338, 0.013038215048498003, 0.008191378720380449, 0.0010542790723855333, 0.003557590142952094, -0.007334476110893995, -0.0012359842474936045, -0.017507506206171364, -0.004245283725938798, 0.017991575251956604, -0.0030202591594932215, 0.010108808476558373, -0.004857796009163806, -0.001156091340986265, 0.008857152941275537, 0.016899705529688447, -0.010210620745159993, 0.006220687026530669, 0.004516305021040168, -0.007121428360206572, 0.022545470922878508, -0.0008098887461214233, 0.0016667913556078773, -0.0011560913409871532, -0.011169335623248955, -0.009385060711250226, 0.0033978043299356386, 0.004649459865218475, 0.014769228022825764, 0.008723998097096342, 0.006220687026531557, 0.0025988752648613556, 0.012798536328974208, 0.0013472197295776311, -0.012021526625994206, 0.0050222934289188, 0.012638750515960417, 0.01753884878174805, 0.02017531469649292, -0.01814664945822919, 0.008830521972440053, 0.012931691173154292, -0.0008631506837915026, 0.00038850485149044545, -0.0012093532786572325, 0.005448388930293646, 0.009150093598470299, -0.012793824722233893, 0.012532226640616706, -0.0069083806095209255, -0.009757894274952328, -0.01098291884139968, -0.006242606388625838, 0.027924926627711955, -0.006082820575611159, 0.0155415261190619, -0.00515073666635768, 0.004542935989875652, -0.0234462122565553, 0.023184614174939, -0.014844409322590124, -0.012207943407845256, -6.422161871810772e-05, -0.008932334241041673, -0.003286568847850724, -0.015030826104440287, -0.01204815759482969, 0.006913092216262129, -0.012367729220859935, 0.009336510380320462, -0.00855950067734046, -0.005203998604028648, 0.005847853462830344, -0.003978974037583072, -0.008080143238295534, -0.011542169186951057, 0.011680035637870567, -0.001022936496807958, 0.008883783910111909, 0.01580783580742029, -0.0004104242135838376, 0.01695296746736119, 0.005395126992620014, -0.0008897816526287627, 0.006833199309753901, 0.0014537436049213426, 0.001773315230952477, 0.012825167297809692, -0.004964319884506629, -0.019611352744198562, 0.035381597901737116, -0.011622062093457508, -0.0005968409954357767, -0.002434377845104585, -0.005496939261221634, -0.00030390033824101437, 0.008058223876201254, 0.0016667913556078773, -0.010556823340025723, 0.012771905360138724, -0.015856386138350942, 0.0031314946415781364, 0.023184614174938112, 0.007898438063186575, -0.0010495674656425535, -0.02150215153154189, -0.004298545663610653, 0.00811148581387311, 0.00701961609160584, 0.005981008307008651, 0.008830521972439165, -0.0008098887461214233, -0.002114806219075227, -0.008080143238295534, 0.004862507615905898, 0.0011341719788919846, 0.012159393076915492, 0.012798536328974208, 0.011253940136497498, -0.008879072303370705, -0.0020615442814033713, -0.004138759850595974, -0.016921624891782727, 0.007712021281335524, 0.004969031491246945, -0.0030735210971650773, 0.015328478368375364, 0.016819812623181107, 0.008004961938530286, -0.007361107079730367, 0.009309879411484978, -0.00421865275710509, -0.005550201198894378, -0.005044212791013969, -0.015456921605814244, -0.012128050501338805, -0.019824400494885985, 0.02406343614652151, 0.0012140648854002123, -0.01849285205309581, 0.001746684262116105, 0.011839821450886134, -0.021928247032913184, -0.006295868326296805, -0.004671379227312755, 0.00957618909984248, 0.011866452419721618, 0.003291280454591927, 0.0005482906645051244, -0.01385906347566479, 0.008031592907364882, -0.009118751022893612, -0.020783115372974947, 0.008750629065931825, -0.014684623509574557, 0.008058223876201254, 0.004010316613159759, 0.0015336365114295702, 0.004356519208024601, -0.012181312439009773, -0.002114806219075227, 0.003770637893635964, -0.0010229364968088461, -0.00198165137489692, -0.0008897816526287627, -0.003632771442717342, 0.005182079241935256, -0.007494261923907786, 0.005182079241935256, 0.010827844635125317, -0.0008631506837923908, -0.003419723692029031, 0.0027852920467132947, -0.0004104242135847258, 0.004542935989875652, 0.011786559513214279, -0.00392571209990944, 0.00419673339501081, 0.0005216596956705288, -0.007893726456445371, -0.0012892461851654602, -0.006189344450953982, -0.019131995305155414, -0.0032066759413442725, -0.005869772824923736, -0.007467630955071414, -0.0021946991255834547, 0.009815867819365387, -0.005949665731431075, 0.002385827514175709, 0.01194634532622807, 0.004542935989875652, 0.007578866437157217, -0.011941633719488642, -0.008186667113639245, -0.003899081131074844, 0.005608174743308325, 0.01793831331428475, 0.008777260034769085, 0.010375118164916763, -0.01910536433631993, -0.00025063840056915865, -0.0032066759413433843, -0.008426345833161264, -0.002434377845104585, 0.015967621620435857, 0.003557590142951206, -0.0017419726553740134, -0.008772548428026994, 0.0033711733610992667, -0.001182722309822637, -0.00230122300092539, 0.014955644804675039, -0.005363784417043327, -0.002594163658120152, -0.015696600325335375, -0.0036860333803874212, -0.013459598943128093, 0.008058223876202142, -0.0066154399523279395, 0.013703989269391315, 0.010401749133753135, -0.013432967974293497, 0.0031314946415772482, -0.022221187690108835, 0.001746684262116105, -0.001821865561882241, 0.008670736159425374, 0.008351164533395128, 0.006939723185098501, -0.011781847906473075, -0.006429023170476, -0.005337153448206955, 0.0074457115929780215, 0.004596197927547507, 0.011147416261156451, -0.006295868326297693, 0.00022871903847576647, -0.0012892461851663484, -0.008666024552683282, 9.556419429568308e-05, 0.005155448273099772, -0.007414369017400446, 0.004116840488502582, -0.011488907249279201, 0.008883783910111909, 0.0064603657460526875, 0.02291830448657972, -0.005283891510535987, 0.008004961938530286, -0.0068817496406845535, -0.015403659668143277, -0.0017686036242094971, 0.0027586610778760345, -0.004218652757103314, -0.005443677323550666, 0.026327068497564277, 0.016047514526944084, 0.022865042548908754, 0.013597465394050268, 0.005901115400502199, -0.010769871090712257, -0.02507070135553846, 0.0025988752648613556, 0.012452333734109367, 0.012878429235482436, -0.008026881300624567, 0.003344542392264671, -0.0007832577772859395, 0.006087532182351474, -0.002194699125584343, -0.007946988394116339, -0.0015289249046883668, -0.01087639496605508, -0.0005169480889266609, -0.005363784417043327, 0.0025456133271895, 0.007791914187842863, -0.0026474255957902315, 0.005581543774472841, 0.004622828896383879, -0.006961642547191893, 0.002012993950473607, 0.0057945915251576, 0.00992239169470821, -0.0009430435903006185, -0.002594163658120152, 0.008191378720381337, 0.010188701383064824, -0.0070149044848628606, -0.00746763095507319, -0.003419723692029919, -0.014391682852381571, -0.002114806219075227, -0.0007299958396140838, 0.006859830278590273, 0.0037440069248013685, 0.010747951728617977, 0.008830521972440053, -0.0012359842474936045, -0.0049376889156702575, -0.009464953617758454, -0.013219920223606074, 0.007738652250171896, -0.01380580153799471, -0.023579367100734494, 0.00046839775799778494, 0.004969031491246945, -0.007440999986236818, 0.024356376803714497, 0.007126139966948664, 0.0010010171347127894, 0.014076822833093416, -0.0006767339019413399, -0.0025675326892846684, 0.0041967333950090335, 0.022438947047535684, 0.0031048636727417644, -0.0021946991255834547, 0.015355109337212625, -0.019318412087006465, 0.0022793036388319976, -0.007893726456444483, -0.001635448780030302, -0.011675324031129364, 0.00219941073232377, -0.0021680681567461946, -0.0036327714427164537, 0.015355109337211736, -0.007574154830415125, 0.003211387548085476, -0.014578099634231734, -0.006801856734177214, -0.0038191882245675046, 0.0055282818368000974, -0.003765926286895649, -0.0005435790577630328, 0.014742597053988504, -0.0016088178111957063, -0.005550201198894378, 0.008324533564559644, 0.0023591965453402253, -0.0036594024115519375, 0.014289870583779951, 0.006433734777218092, 0.007498973530649877, 0.011680035637871455, 0.0016667913556087655, 0.009070200691962071, 0.025474877494819026, 0.0036641140182949172, 0.0019863629816381234, -0.002274592032089906, 0.01317136989267631, 0.003957054675487903, -0.007387738048564962, 0.004676090834053959, -0.00650891607698334, -0.002434377845105473, -0.0025142707516128127, 0.012239285983422832, -0.008000250331789083, -0.010503561402354755, -0.015643338387665295, 0.003690744987130401, -0.006429023170476, 0.012984953110824371, -0.0017686036242094971, -0.004831165040326546, -0.0021680681567470828, 0.01556815708789916, 0.0009477551970418219, -0.010796502059547741, 0.007152770935784147, 0.022438947047535684, -0.011009549810235164, 0.009629451037513448, -0.004591486320805416, -0.0010495674656434417, 0.010135439445394745, 0.008963676816619248, 0.004409781145696456, 0.013198000861510906, -0.013166658285935107, -0.007094797391371088, -0.016389005515066835, -0.015270504823963194, 0.0033179114234291873, -0.013619384756142772, 0.01120067819882653, 0.012798536328974208, -0.000543579057763921, -0.020090710183244376, -0.011275859498592666, 0.002359196545339337, 0.004010316613159759, 0.00701961609160584, -0.004405069538955253, 0.01351757248754204, 0.00922998650497675, 0.00891041487894828, -0.008080143238295534, -0.006242606388626726, -0.0015821868423593344, -0.013779170569158339, 0.01436976349028729, -0.009678001368443212, -0.009944311056801602, 0.0069929851227703566, -0.015030826104440287, 0.009949022663544582, 0.009895760725872726, 0.0050489243977560605, 0.010534903977931442, 0.022119375421508103, -0.0011560913409871532, 0.00811148581387311, -0.002940366252984994, -0.008080143238295534, -0.004671379227311867, -0.018705899803782344, -0.010476930433518383, 0.0010542790723855333, 0.01743232490640434, -0.009544846524264017, -0.00025063840056915865, -0.0004903171200911771, -0.008666024552683282, 0.0008412313216998868, -0.014285158977036971, 0.0116267737001996, 0.009496296193336029, 0.01058816591560241, -0.0005169480889266609, 0.004090209519667987, 0.001427112636086747, 0.012345809858766543, 0.0063538418707107525, 0.012159393076915492, 0.013677358300556719, -0.024404927134643373, -0.004032235975253151, -0.0016088178111965945, -0.00650891607698334, -0.003552878536208226, -0.008106774207131018, 0.014476287365631002, 0.013863775082406882, -0.01204815759482969, 0.010162070414231117, -0.003446354660866291, 0.0011075410100565009, 0.008564212284081663, 0.011014261416976368, 0.009629451037513448, 0.0023591965453402253, -0.006668701889998907, 0.006540258652560915, -0.00975789427495144, -0.006455654139311484, -0.013432967974292609, -0.005070843759850341, -0.005496939261221634, 0.0018265771686234444, 0.014289870583779951, 0.00012219516313205503, -0.008239929051311101, 0.01109415432348193, -0.01660205326575337, -0.0064556541393132605, 0.001773315230952477, 0.0053418650549490465, -0.004990950853343001, -0.002594163658120152, 0.007019616091604952, -0.005390415385880587, -0.008452976801996748, 0.004196733395011698, -0.005949665731431963, -0.0077073096745952085, -0.0018218655618804647, -0.015616707418828923, 0.012692012453631385, -0.004964319884507518, 0.005102186335427028, 0.006566889621397287, 0.004862507615904121, -0.0004370551824202096, 0.003983685644323387, -0.017427613299663136, -0.010663347215368546, 0.010108808476558373, 0.0036374830494594335, -0.004591486320805416, 0.01231917888993106, 0.003823899831309596, 0.004356519208024601, 0.007099508998112292, -0.003126783034836933, 0.0039037927378169357, -0.0023544849385972455, 0.007845176125515607, 0.006353841870709864, 0.012212655014587348, -0.020596698591123896, -0.010716609153040402, 0.014982275773509635, -0.007414369017400446, 0.003051601735071685, -0.01641563648390143, 0.014742597053989392, 0.011253940136498386, -0.010157358807488137, 0.002865184953220634, 0.00922998650497675, 0.012612119547124934, 0.018071468158464832, 0.002865184953219746, 0.006247317995367041, -0.006482285108147856, 0.011147416261155563, 0.006593520590232771, 0.011253940136497498, 0.004622828896383879, -0.005949665731431963, 0.012372440827602915, 0.0029184468908916017, 0.0045695669587120236, -0.018359697208915726, 0.0021195178258173186, 0.010774582697454349, 0.0039304237066524195, -0.015776493231843602, -0.005310522479372359, 0.0013738506984148913, -0.007334476110893107, 0.0069929851227703566, 0.013650727331720347, 0.003024970766235313, 0.0001488261319675388, -0.0005435790577621447, 0.003211387548085476, -0.0016887107177030458, -0.00991768008796523, 0.001746684262116105, -6.422161871810772e-05, 0.006407103808382608, 0.000281980976146734, -0.000676733901942228, 0.009895760725871838, -0.00925190586707103, 0.010455011071424991, -0.004192021788268718, -0.009012227147549012, 0.0071527709357850355, 0.005847853462830344, -0.0006501029331067443, -0.0025142707516128127, 0.006673413496739222, 0.010641427853275154, -0.0006501029331058561, -0.0004370551824202096, 0.007605497405993589, -0.0031800449725079005, 0.010215332351902084, -0.006455654139311484, 0.009895760725871838, -0.014418313821217055, -0.014418313821217055, 0.004143471457338066, 0.029016796349981888, 0.0006814455086843196, 0.02017531469649292, -0.0038724501622393603, -0.018173280427065563, -0.00022400743173367488, -0.005203998604028648, -0.01218131243901066, 0.0061674250888597015, 0.0034510662676074944, -0.007467630955072302, 0.0048891385847413815, 0.011759928544377907, -0.003073521097164189, 0.01181319048205065, 0.0063005799330380086, -0.016628684234588853, 0.010801213666289833, -0.011835109844144043, 0.019110075943060245, 0.010401749133752247, -0.0039523430687467, 0.0050222934289196886, -0.006082820575611159, 0.01626056227762973, -0.0011028294033144093, 0.00454293598987654, 0.0056614366809784045, -0.0015022939358511067, -0.0021680681567470828, -0.001156091340986265, 0.013384417643361957, -0.009118751022892724, 0.00896367681661836, 0.001746684262116105, 0.013996929926586077, 0.005581543774471953, -0.0006501029331067443, 0.007285925779964231, -0.011808478875309447, -0.0019550204060614362, -0.00650891607698334, -0.00043705518242109775, -0.003100152066001449, 0.008271271626887788, -0.0010761984344798137, 0.00965608200634982, -0.0005169480889257727, 0.0028119230155487784, -0.011861740812980415, -0.014258528008201488, -0.013832432506829306, 0.0037440069248013685, -0.015616707418828035, 0.01026859428957394, 0.010694689790946121, 0.011946345326229846, 0.0048891385847413815, 0.005981008307007762, -0.00898559617871264, 0.002998339797398053, 0.0029983397973998294, 0.01101426141697548, 0.0023325655765047415, -0.007733940643430692, -0.0013957700605091716, -0.003419723692029919, -0.01977113855721324, 0.02062804116670236, 0.005235341179606223, 0.006726675434411078, -0.005843141856088252, -0.004591486320805416, 0.0055282818368000974, -0.010849763997219597, -0.010530192371190239, 0.002518982358354016, -0.0073344761108922185, -0.003899081131073956, -0.0023811159074336175, 0.012692012453631385, -0.003126783034836045, -0.0038458191934021, 0.002705399140205067, 0.004356519208025489, 0.0006548145398470595, -0.00847960777083312, 0.009229986504977639, 0.009842498788199983, -0.010503561402353867, 0.020228576634164774, 0.0012406958542365842, -0.012953610535247684, 0.014582811240972937, -0.0012892461851663484, -0.0036594024115519375, 0.010028915570051922, 0.004942400522412349, -0.00829319098898118, -0.00906548908521998, 0.009043569723127476, -0.007680678705759725, 0.005581543774471065, -0.009624739430772244, 0.00488913858474227, 0.012212655014588236, 0.01666002681016643, -0.01284708665990486, 0.010428380102587731, 0.0004950287268332687, -0.007094797391371088, -0.010689978184204918, 0.0012140648854011005, 0.005128817304262512, -0.007760571612266176, 0.004383150176860973, -0.006695332858833503, -0.006588808983490679, 0.014929013835838667, -0.009944311056801602, 0.007259294811128747, -0.0002772693694046424, -0.012980241504084056, -0.017187934580141118, 0.011626773700198711, 0.005741329587486632, 0.0191633378807321, 0.00030861194498310596, -0.006562178014654307, 0.003158125610412732, -0.005417046354715183, 0.009363141349155946, -0.012287836314352596, 0.00020208806963761816, 0.003957054675487903, 0.006380472839548013, -0.013113396348263251, -0.006748594796505358, 0.002252672669996514, 0.01325126279918365, -0.011568800155785652, -0.009544846524264905, 0.021160660543418253, 0.003184756579249104, 0.02094761279273083, -0.0039257120999085515, 0.004942400522412349, -0.017933601707544433, 0.0036108520806221733, 0.00041513582032504104, 0.010055546538887405, 0.004409781145696456, -0.008266560020146585, 0.0027320301090405508, 0.0022793036388328858, -0.006908380609520037, 0.0006814455086843196, 0.0028119230155487784, 0.0060076392758450226, -0.012074788563666061, -0.0008897816526287627, 0.0029450778597270855, -0.00898559617871264, -0.00975789427495144, -0.012314467283188968, 0.003797268862472336, -0.013406337005456237, 0.001080910041221017, 0.012692012453632273, 0.017006229405033046, -0.003286568847850724, 0.014209977677271723, 0.01149361885602218, 0.0068065683409184174, 0.012798536328974208, 0.0021195178258173186, -0.004857796009162918, 0.010055546538887405, -0.012314467283188968, 0.009176724567305783, -0.0018484965307168366, -0.010476930433517495, 0.002385827514175709, 0.013064846017333487, -0.0040056050064185555, 0.004329888239189117, -0.011169335623248955, -0.017587399112678703, 0.0001488261319675388, 0.0003618738826549617, -0.004618117289641788, 0.016739919716673768, -0.016229219702051267, 0.021826434764312452, 0.008058223876201254, -0.015696600325336263, 0.005315234086114451, 0.009469665224498769, -0.007920357425280855, -0.032234431972371524, -0.0033930927231944352, -0.006588808983490679, 0.008644105190590778, -0.005683356043073573, 0.0061674250888597015, -0.006455654139311484, -0.010183989776325397, 0.011440356918348549, -0.007227952235550283, -0.02017060308974994, 0.01583446677625666, -0.0062159754197885775, 0.00017545710080391075, -0.003925712099910328, -0.014551468665397138, 0.0066201515590673665, -0.010397037527010156, -0.004990950853342113, -0.00933179877357837, 0.018071468158464832, -0.008532869708503199, -0.008239929051311101, -0.009092120054056352, 0.01101426141697548, 0.012106131139243637, 0.00012219516313116685, -0.01721456554897749, -0.018120018489393708, -0.0028871043153149145, 0.006593520590231883, 0.00033524291381858973, 0.000441766789161413, 0.0039304237066524195, 0.003344542392264671, -0.0096780013684441, 0.003690744987130401, 0.010561534946766038, -0.009651370399608616, 0.00033524291381770155, -0.0009164126214642465, -0.0032066759413442725, 0.00547501989912913, -0.006482285108148744, -0.0044849624454625925, -0.017347720393155797, 0.005954377338172279, -0.007014904484864637, 0.013544203456378412, -0.0028072114088057987, 0.002332565576502965, -0.0038458191934021, -0.006988273516027377, 0.002359196545339337, -0.0057366179807445405, 0.01900355206771831, 0.003477697236442978, -0.0007566268084504557, 0.0023325655765038533, 0.011786559513215167, 0.008404426471066984, 0.019110075943060245, 0.013224631830349054, -0.006908380609520037, -0.004032235975254039, -0.011009549810235164, 0.014103453801930677, 0.0018532081374589282, -0.014711254478411817, -0.0104502994646829, 0.010162070414231117, 0.007498973530648989, 0.011333833043005725, -0.0047779031026555785, -0.0015821868423593344, -0.0020615442814033713, -0.0018218655618813528, 0.008990307785454732, -0.00419202178826783, -0.0007832577772859395, 0.001906470075131672, -0.004138759850596863, 0.005421757961457274, 0.0022793036388319976, 0.008537581315247067, 0.0016401603867732817, 0.008244640658052305, -0.0009164126214651347, 0.0031314946415772482, 0.002838553984384262, -0.005496939261221634, 0.016287193246466103, 0.001267326823072068, 0.011280571105334758, -0.002940366252985882, -0.0025675326892846684, 0.018151361064971283, 0.0037173759559658848, 0.0005216596956696407, -0.0075208928927432694, -0.00925190586707103, 0.00899030778545562, 0.016793181654345624, 0.0024390894518466766, 0.018098099127300316, -0.004751272133820095, 0.00038850485149044545, 0.009123462629633039, 0.0188970281923746, 0.009416403286827801, 0.016979598436197563, -0.005709987011909945, -0.004192021788268718, 0.018657349472851692, 0.004915769553576865, -0.01702814876712644, 0.006273948964202525, 0.01684644359201659, 0.0055282818368000974, -0.0012892461851654602, 0.0050755553665924324, -0.005736617980745429, -0.005630094105400829, -0.007893726456445371, 0.003930423706651531, -0.004138759850596863, 0.0023059346076674814, -0.002434377845103697, -0.025310380075062255, -0.011888371781816787, 0.0035842211117866896, 0.01471596608515302, -0.009118751022892724, 0.0064869967148890595, 0.008857152941275537, -0.006322499295132289, -0.008293190988982069, 0.009869129757035466, -0.001662079748867562, -0.000676733901942228, 0.006247317995367041, -0.012314467283188968, 0.02632706849756339, -0.008639393583847799, -0.009651370399609505, 0.009789236850528127, 0.008670736159425374, 0.0031314946415772482, -0.004405069538954365, 0.001400481667250375, 0.007099508998112292, 0.01386377508240777, 0.007419080624142538, 0.0013738506984148913, 0.01223928598342372, 0.020148683727656547, -0.009704632337279584, 0.01831114687798685, -0.00547030829238615, 0.0022793036388319976, -0.00523062957286502, 0.007072878029276808, 0.005341865054949935, -0.01431178994587512, 0.008963676816619248, 0.0051820792419343675, 0.005767960556322116, 0.007578866437158993, -0.010663347215368546, 0.003770637893635964, 0.005501650867964614, 0.02472921036741571, -0.01164869306229388, -0.0020615442814042595, 0.023237876112609968, -0.0010761984344798137, -0.009571477493101277, 0.005315234086114451, -0.0033131998166862076, 0.004303257270352745, 0.005395126992620902, 0.004010316613159759, 0.00930987941148409, -0.004831165040326546, -0.00030390033824101437, -0.017827077832199834, -0.021022794092496966, -0.0026474255957911197, 0.016420348090645298, 0.0003086119449822178, -0.016335743577395867, -0.003925712099910328, -0.0244848200411516, 0.009016938754290216, 0.002705399140205955, -0.0016088178111948181, 0.015328478368375364, 0.008510950346410695, -0.00033053130707649814, 0.003344542392264671, -0.0018218655618804647, 0.012771905360138724, 0.005741329587486632, -0.01753413717500596, -0.003286568847851612, -0.012261205345518, -0.012367729220859935, -0.02826641761583648, 0.010401749133752247, 0.0006814455086843196, 0.006407103808382608, 0.011147416261153786, -0.011036180779070648, -0.0020881752502406314, -0.011036180779070648, 0.006034270244679618, 0.002412458483011193, -0.00025063840056915865, 0.011333833043005725, 0.006087532182352362, 0.0012140648854002123, -0.008612762615013203, 0.0016401603867732817, -0.007068166422534716, 0.0046760908340530705, -0.00959810846193676, -0.01961135274419945, 0.0010276481035500495, 0.013970298957749705, -0.01497756416676932, 0.007712021281336412, 0.013224631830348166, -0.0029936281906559614, -0.018626006897275005, -0.004351807601283397, -0.007600785799250609, 0.0032646494857564434, -0.0046447482584772715, 0.00675330640324745, 0.013730620238227687, -0.0036594024115528256, 0.016393717121809814, 0.0009477551970418219, 0.0033179114234291873, -0.011675324031128476, -0.003632771442717342, 0.005155448273098884, -0.010476930433518383, -0.006908380609520037, 0.00614079412002333, 0.0010276481035491614, 0.017911682345449265, 0.001240695854235696, 0.009176724567305783, -0.019371674024676544, 0.0013472197295785193, 0.00821800968921682, 0.018630718504016208, -0.014178635101695036, 0.00025535000731036206, -0.0023278539697617617, 0.02028183857183663, 0.011307202074170242, 0.00768539031250004, 0.007392449655306166, -0.006988273516029153, -0.0006234719642712605, -0.00871928649035425, 0.017432324906405228, -0.01993092437022881, -0.0013158771540018321, -0.02027712696509454, -0.00453822438313356, 0.01514206158652609, -9.085258755536785e-05, 0.0013738506984148913, 0.004622828896382991, 0.01258548857828945, -0.0008098887461214233, -0.007893726456444483, 0.002119517825818207, 0.0036108520806221733, 0.006673413496740999, 4.230225662471554e-05, 0.013970298957749705, 0.00922998650497675, 0.0031048636727426526, -0.004058866944088635, 0.005501650867964614, 0.00614079412002333, 0.006540258652560915, 0.006646782527904627, -0.007733940643430692, 0.009576189099843369, -0.009784525243787812, -0.008399714864326668, 0.006087532182352362, -0.009438322648922082, -0.0037925572557311327, 0.0032646494857573316, 0.008457688408739727, -0.012687300846889293, -0.0006767339019413399, 0.0116267737001996, -0.011888371781815898, 0.005448388930292758, 0.010108808476559261, -0.0043518076012842855, -0.016681946172261597, 0.011600142731363228, -0.010689978184205806, -0.0020082823437324038, 0.011094154323482819, -0.0015821868423593344, 0.002412458483011193, 0.019296492724912184, -0.0036860333803874212, -0.0025142707516128127, -0.0060828205756102705, -0.003632771442717342, -0.008080143238295534, -0.011595431124622912, -0.019345043055840172, -0.012101419532502433, -0.012873717628740344, 0.009096831660797555, 0.009949022663542806, -0.0017686036242094971, -0.001342508122837316, 0.004622828896382991, 0.0029184468908916017, 0.0074723425618143935, 0.02041499341601405, 0.003823899831309596, 0.0014004816672494869, 0.006992985122769468, -0.0036594024115528256, -0.0036860333803883094, 0.01708612231153861, -0.000543579057763921, -0.006109451544446642, -0.0187591617414542, 0.008111485813873998, 0.018923659161210082, 0.017219277155718693, 0.006753306403248338, 0.009150093598469411, 0.015488264181390932, -0.0028604733464785426, 0.009416403286827801, -0.009464953617758454, 0.006753306403248338, 0.00736581868647157, 0.004809245678233154, 0.007126139966949552, 9.556419429568308e-05, -0.0012892461851672365, 0.003823899831309596, 0.006593520590232771, 0.0024390894518466766, -0.0044583314766262205, -0.0007832577772859395, -0.01926515014933372, 0.006913092216262129, -0.01428515897703786, -6.422161871988408e-05, -0.002274592032089906, 0.005954377338172279, 0.0037972688624732243, -0.016548791328081514, 0.0025988752648613556, 0.019642695319777026, 0.007898438063187463, 0.003451066267606606, -0.0025675326892855566, 0.0024923513895194205, -0.012261205345517112, -0.0016354487800320783, 0.019243230787238552, -0.0012359842474936045, -0.0022213300944198267, 0.0018532081374598164, -0.0060295586379375266, 0.003957054675487903, -0.016309112608560383, -0.0030202591594923334, 0.001906470075130784, -0.0034996165985372585, -0.011009549810235164, 0.005235341179607111, -0.009837787181459667, -0.022141294783600607, 0.0016401603867732817, -0.0027273185023002355, -0.02722780983123929, 0.01506216868001875, -0.020436912778110106, -0.006828487703013586, 0.00965608200634982, 0.011706666606707827, -0.0034729856297008865, 0.013091476986169859, -0.01521724288629045, -0.007227952235549395, 0.015168692555360686, 0.019349754662583152, 0.0024923513895185323, -0.0172145655489766, -0.010237251713994588, 0.012265916952258316, 0.013810513144735026, -0.01164869306229388, 0.011253940136497498, 0.01042838010258862, -1.0959681046252001e-05, -0.005709987011909057, -0.005843141856087364, 0.021160660543418253, -0.0001441145252254472, 0.0028119230155496666, 0.012692012453631385, -0.0044583314766262205, -0.0020615442814033713, 0.0017200532932806212, 0.009256617473813122, 0.022651994798223107, -0.0036327714427164537, 0.005581543774471065, 0.0076321283748290725, 0.00736581868647157, 0.0037972688624732243, -0.01463136157190359, 0.004063578550831615, 0.008883783910111909, 0.019802481132790817, -0.010290513651667332, -0.005630094105400829, 0.0009743861658773056, -0.0003305313070773863, 0.019456278537925975, -0.00027726936940375424, 0.002252672669996514, 0.006486996714889948, 0.004170102426174438, -0.009970942025637974, -0.002461008813940957, 0.0010809100412219053, 0.013624096362884863, 0.015834466776255773, 0.0068065683409184174, 0.008990307785454732, -0.024964177480195637, 0.007978330969693914, -0.003126783034836933, -0.0011294603721516694, 0.0013738506984148913, 0.012825167297809692, -0.0012359842474936045, 0.020814457948551635, 0.0002819809761476222, 0.01016207041422934, -0.0021946991255834547, -0.009518215555428533, 0.00017545710080302257, -0.0018751274995532086, 0.00699298512276858, 0.0077652832190073795, 0.007978330969694802, -0.007014904484863749, -0.006642070921162535, 0.004223364363846294, -0.0007566268084504557, 0.0141034538019289, 0.019616064350941542, 0.000281980976146734, -0.016149326795545704, 0.006540258652560915, 0.003211387548086364, -0.02080974634181043, -0.010663347215368546, -0.0056034631365662335, 0.021347077325268415, 0.009975653632379178, -0.0022213300944189385, -0.013113396348263251, -0.009811156212624184, -0.01130249046742815, -0.007494261923908674, 0.004276626301518149, 0.0025456133271895, -0.005976296700266559, -0.004751272133820095, 0.008138116782709481, -0.006535547045818824, -0.017827077832199834, -0.0014224010293446554, -0.0025409017204482964, -0.002114806219075227, 0.0066467825279037385, -0.004591486320805416, -0.0024077468762691012, 0.00046839775799778494, -0.011515538218115573, -0.00030390033824101437, -0.001502293935852883, 0.012345809858766543, -0.010929656903726936, -0.013912325413337534, 0.002039624919309091, 0.005954377338173167, 0.00012219516313116685, -0.013406337005456237, -0.002274592032089906, -0.0017686036242094971, 0.0005216596956696407, 0.003957054675487903, 0.015381740306048997, -0.003233306910178868, -0.015856386138350942, -0.008426345833161264, 0.006726675434411966, -0.0014224010293446554, 0.0064603657460526875, -1.0959681046252001e-05, -0.011888371781815898, -0.0005702100265985166, 0.001560267480265054, 0.00606090121351599, 0.011440356918348549, -0.005070843759849453, 0.00025535000731125024, 0.0003618738826540735, 0.013703989269392203, -0.018785792710288796, 0.012212655014587348, 0.012372440827601139, 0.0005216596956696407, -0.00025063840056915865, 0.00315812561041362, 0.009336510380320462, -0.004005605006417667, 0.006300579933038897, -0.0020082823437324038, -0.02831967955350745, 0.0032380185169209597, -0.0007566268084504557, -0.007547523861579641, -0.007494261923908674, -0.013353075067786158, -0.019371674024677432, 0.0017733152309515887, -0.012420991158531791, -0.009784525243786923, -0.00232785396976265, 0.00012219516313116685, -0.011195966592084439, -0.010823133028384113, 0.007392449655307054, 0.0057945915251576, 0.007525604499484473, -0.00232785396976265, -0.004325176632447025, 0.011307202074170242, -0.0017153416865385296, -0.004964319884507518, 0.016926336498525707, -0.004937688915669369, 0.0016667913556078773, -0.0059230347625955915, -0.008053512269460938, -0.007840464518774404, 0.014076822833093416, -0.01207478856366695, 0.02187969670198253, -0.0014224010293446554, 0.00949629619333514, 0.005128817304262512, 0.013224631830348166, -0.00291373528414951, -0.01521724288629045, 0.0035309591741139457, -0.0011028294033152974, -0.010050834932145314, 0.005634805712142921, 0.008351164533396904, -0.007387738048564962, -0.008825810365697073, 0.013996929926586077, 0.007419080624143426, -0.011542169186951057, -0.019025471429811702, 0.008457688408737951, 0.0021727797634891743, -0.003073521097164189, -0.013379706036621641, 0.011253940136498386, -0.01234109825202534, 0.009815867819364499, -0.004218652757104202, 0.01471596608515302, -0.008426345833161264, -0.011675324031129364, -0.02216792575243609, 0.0014537436049222308, 0.004755983740562186, 0.0027320301090405508, -0.0047779031026555785, -0.00616271348211761, -0.0042985456636115416, 0.015781204838584806, 0.0028119230155487784, -0.017693922988021527, 0.0009477551970418219, 0.010375118164916763, 0.009869129757036355, 0.016367086152972554, 0.0032646494857573316, 0.00779191418784464, -0.0015821868423593344, -0.013326444098949786, -0.002807211408806687, -0.008239929051311101, -0.0022479610632553104, -0.00855950067734046, 0.010960999479304512, 0.01839103978449419, 0.01053490397793233, -0.01239436018969542, -0.0044583314766262205, 0.0025988752648613556, 0.0035575901429503176, -0.013113396348262363, -0.0027539494711357193, -0.008719286490355138, -0.006082820575611159, -0.009012227147549012, 0.0019597320128026396, 0.002705399140205955, 0.009336510380320462, 0.004249995332681777, -0.0019017584683895805, 0.01788505137661378, -0.0006234719642703723, -0.005630094105400829, -0.0038191882245666164, -0.01388569444450205, 0.006593520590232771, 0.01231917888993106, -9.085258755536785e-05, -0.006801856734178102, 0.002332565576502965, -0.012767193753397521, -0.016788470047603532, 0.0025988752648622437, -0.011329121436263634, 0.00012219516313116685, -0.0029936281906568496, -0.016628684234588853, -0.0024610088139400688, -0.015297135792799565, -0.0034729856297017747, 0.001959732012803528, 0.015248585461869801, 0.016207300339958763, 0.0024657204206839367, -0.022727176097989243, 0.018018206220792088, -0.0007832577772859395, -0.020383650840436474, 0.0076321283748290725, -0.010769871090713146, -0.008666024552682394, 0.011759928544378795, -0.01076987109071137, -0.008426345833161264, 0.007072878029276808, 0.018044837189629348, -0.012474253096203647, -0.017853708801036206, 0.01588772871392763, -0.0010761984344789255, -0.0024876397827764407, -0.0031534140036706404, -0.0009696745591361022, -9.085258755447967e-05, -0.006349130263968661, 0.0006281835710124639, 0.0033978043299356386, 0.007951700000859319, -0.00616271348211761, 0.002412458483011193, 0.013064846017333487, 0.00020208806963850634, -0.002780580439970315, 0.00044176678915963663, -0.00547030829238615, 0.0221460063903427, 0.0001488261319675388, -0.001955020406060548, 0.0006548145398479477, 0.00614079412002333, 0.012106131139243637, 0.001906470075130784, 0.008590843252917146, -0.005044212791013081, -0.00616271348211761, -0.0010495674656434417, 0.002385827514174821, -0.015616707418828035, 0.0011608029477283566, -0.011675324031129364, -0.007920357425280855, 0.0027320301090405508, 0.010162070414230229, -0.009012227147549012, -0.0034996165985363703, -0.0005169480889266609, -0.011488907249277425, 0.005421757961457274, 0.003664114018294029, 0.013144738923839938, 0.0006015526021752038, -0.01300687247291954, 0.010321856227245796, -0.0008897816526278746, 0.003504328205278462, 0.0049157695535777535, -0.008879072303370705, -0.0026740565646266035, 0.014662704147481165, -0.008719286490356026, -0.01164869306229388, 0.0017999461997879607, -0.014604730603068994, -0.004911057946835662, 0.007632128374828184, -0.0006234719642703723, 0.0005482906645042362, -0.005949665731431963, 0.009949022663544582, 0.01325126279918365, 0.00891041487894828, -0.007440999986236818, -0.007254583204385767, 0.0005216596956696407, -0.008026881300624567, -0.0043518076012842855, 0.014715966085152132, -0.0020349133125687757, 0.0191633378807321, -0.012048157594830577, -0.01772055395685701, -0.022380973503122625, 0.001906470075130784, 0.007365818686470682, -9.085258755447967e-05, 0.0017733152309515887, 0.0063005799330380086, 0.0017200532932806212, -0.0033131998166862076, 0.008191378720381337, 0.0007347074463561754, 0.003344542392264671, 0.013996929926585189, -0.012740562784561149, -0.002168068156747971, -0.0030468901283287053, 0.004063578550831615, 0.0017733152309507005, 0.0022526726699956257, -0.0001441145252254472, 0.0035842211117866896, -0.008532869708504975, 0.004809245678234042, 0.006753306403248338, -0.003712664349223793, -0.022966854817509486, 0.0031314946415772482, -0.011515538218114685, 0.0007080764775198034, 0.0028385539843851504, 0.0017999461997870725, 0.0010542790723855333, 0.017512217812912567, -0.011781847906473963, 0.0017733152309515887, -0.016202588733215784, 0.0016135294179369097, 0.015621419025570127, -0.0031534140036715286, 0.009656082006348932, -0.009784525243787812, -0.002727318502298459, 0.006380472839546236, 0.013996929926586077, -0.0261892020466421, 0.0031048636727426526, -0.016495529390410546, 0.021000874730401797, -0.011781847906473963, 0.0029184468908916017, 0.008537581315247067, 0.009203355536142155, 0.012452333734108478, -0.008186667113640134, -0.007733940643429804, -0.0036594024115519375, -0.00821329808247473, -0.005896403793760108, -0.011888371781815898, 0.01626056227762973, 0.006939723185098501, 0.00012219516313116685, 0.019882374039298156, 0.006833199309754789, 0.00536849602378453, -0.02200813993942141, 0.003797268862472336, -0.01361938475614366, 0.0028119230155496666, -0.0019017584683895805, -0.005789879918416396, 0.016713288747837396, -0.003419723692029919, -0.021582044438048342, -0.007973619362953599, -0.008586131646176831, -0.0028604733464776544, -0.01061008527769669, 0.00667341349674011, -0.0041653908194332345, 0.004303257270353633, -0.00831982195781844, -0.006588808983490679, -0.004245283725939686, 0.000281980976146734, 0.01692633649852482, 0.022971566424252465, 0.01128057110533387, -0.01598954098252925, -0.005869772824924624, 0.0016401603867732817, -0.010476930433517495, 0.003930423706651531, 4.230225662471554e-05, 0.004915769553576865, -0.008160036144803762, -0.0012359842474936045, 0.026140651715714114, -0.002940366252985882, 0.004489674052204684, -0.010237251713995477, -0.015270504823963194, -0.018306435271245647, -0.006429023170476, -0.02131573474969084, 0.00606090121351599, 0.00419673339501081, -0.015403659668142389, 0.014822489960495844, 0.008830521972440053, 0.005235341179605335, -0.03457795722992252, -0.012820455691069377, 0.0056348057121420325, -0.014311789945872455, -0.00017074549406181916, 0.0026255062336986157, 0.005661436680979293, -0.0004370551824202096, 0.0015070055425940865, -0.007840464518774404, 0.004729352771725814, 0.0050222934289188, 0.02326450708144634, 0.0030782327039062807, 0.004489674052202908, -0.007254583204385767, 0.0008146003528626267, 0.007339187717635198, 0.00020208806963850634, 0.009576189099843369, 0.002305934607666593, -0.011009549810235164, -0.00677522576534173, 0.005688067649816553, 0.009709343944022564, -0.0018484965307177248, 0.010215332351901196, 0.013570834425213896, 0.0019597320128017515, 0.011067523354647335, 0.02496888908693684, -0.019558090806527595, -0.01388569444450205, 0.004915769553576865, 0.008617474221753518, -0.0019550204060614362, -0.005683356043074461, 0.006646782527904627, -0.005337153448208731, -0.01335307506778527, 0.0032380185169209597, 0.007765283219008268, -0.021342365718527212, -0.013912325413336646, -0.006828487703012698, 0.00046839775799689676, 0.019829112101628077, -0.01377917056915745, -0.0036860333803883094, -0.00831982195781844, 0.0042233643638454055, -0.021635306375721086, -0.006615439952325275, 0.017432324906405228, -0.004511593414298964, 0.014263239614944467, 0.021000874730401797, -0.014285158977038748, -0.008932334241041673, 0.006220687026531557, 0.006566889621396399, -0.021368996687362696, -0.004138759850597751, -0.007387738048564074, -0.001795234593044981, -0.003446354660866291, 0.009522927162171513, -0.006482285108148744, -0.012181312439009773, 0.005022293428920577, 0.011839821450886134, 0.002252672669996514, -0.004857796009163806, -0.013299813130113414, 0.0040635785508307265, -0.015137349979784887, -0.001955020406060548, 0.01932312369374678, -0.007946988394117227, 0.011333833043005725, 0.01857745656634524, 0.0003618738826549617, 0.006833199309753901, 0.01383714411357051, -0.013326444098949786, -0.010077465900980798, -0.0026740565646274916, 0.015008906742346895, -0.01106281174790702, 0.0021461487946536906, 0.010188701383065712, -0.01071660915304129, -0.0010495674656434417, 0.017565479750584423, -0.001449031998179251, -0.0005169480889257727, 0.01564804999440561, 0.007019616091604952, 0.008058223876201254, -0.004165390819432346, -0.004112128881760491, -0.006029558637938415, 0.010694689790946121, 0.0013205887607439237, -0.004698010196150015, -0.02155541346921286, -0.010237251713995477, 0.0017466842621169931, -0.009518215555429421, -0.008239929051310213, 0.007818545156679235, -0.014391682852380683, 0.0008412313216989986, -0.0021946991255834547, -0.021102686999004305, -0.0013158771540018321, 0.0007080764775206916, 0.0050222934289196886, 0.0025722442960249836, 0.006007639275844134, -0.006242606388624949, -0.005150736666356792, 0.0027852920467115183, -0.003126783034836933, -0.0051507366663585685, 0.0072859257799633426, 0.001746684262116105, 0.002039624919309979, -0.0029137352841503983, 0.0006548145398488359, -0.008452976801997636, -0.007574154830415125, 0.0029450778597261973, -0.009172012960563691, -0.0036327714427155655, -0.006402392201639628, 0.00017545710080391075, -0.010077465900981686, 0.014316501552615435, -0.00855950067734046, 0.011387094980676693, -0.002594163658120152, -0.001981651374897808, 0.0034244352987711224, 0.006886461247426645, 0.0027852920467124065, -0.016948255860617323, -0.0007566268084504557, 0.004489674052203796, 0.0030782327039062807, -0.0032066759413433843, -0.002088175250238855, 0.006566889621396399, -0.0027273185023002355, -0.005310522479372359, 0.015701311932078355, -0.013086765379426879, 0.0014004816672494869, 0.010028915570051034, 0.0030249707662362013, 0.0010542790723855333, -0.005523570230058894, 0.0056614366809784045, -0.01393895638217213, 0.022172637359177294, 0.001746684262116105, -0.00829319098898118, -0.005097474728685825, 0.007419080624140761, -0.0033131998166870957, 0.0034244352987711224, 0.018843766254702743, 0.011440356918348549, 0.008457688408739727, -0.0043251766324479135, 0.0033445423922655593, 0.006886461247425757, 0.006114163151187846, -0.010663347215368546, -0.004058866944088635, 0.00025535000731125024, -0.0025409017204482964, -0.0016088178111957063, 0.0033978043299356386, 0.0011874339165638403, 0.000601552602176092, 0.0027320301090396626, 0.00582122249399486, -0.005603463136565345, -0.008426345833161264, -0.009438322648922082, 0.0032646494857573316, 0.009203355536142155, -0.005017581822177597, 0.001906470075131672, -0.01772055395685701, 0.008697367128260858, 0.014689335116316649, -0.003952343068745812, -0.0030468901283287053, -0.0040056050064185555, -0.0019017584683895805, -0.007867095487608111, -0.01130249046742815, 0.011680035637871455, -0.0057366179807445405, -0.006029558637938415, 0.004596197927546619, 0.004383150176860973, 0.004649459865218475, 0.0033978043299356386, -0.0022213300944198267, -0.0003571622759119819, 0.004143471457338066, 0.012345809858766543, 0.0060076392758450226, 0.022465578016372056, -0.0020349133125678875, -0.003552878536209114, -0.012101419532502433, -0.020863008279483175, 0.008164747751544965, -0.0008897816526287627, -0.013033503441754135, -0.02525711813738951, 6.893322546019931e-05, -0.007574154830415125, 0.00417010242617355, -0.02405872453977853, 0.009443034255663285, 0.017565479750583535, -0.01172858596880122, -0.007068166422534716, 0.018604087535180724, 0.008297902595722384, 0.0011075410100565009, 0.005288603117278079, -0.015430290636977873, 0.0035842211117858014, 0.008750629065931825, -0.001182722309822637, 0.005608174743307437, 0.0005749216333406082, -0.016309112608558607, -0.003552878536209114, 0.008617474221753518, 0.005288603117278079, 0.003690744987130401, 0.005661436680979293, 0.013570834425213896, -0.0029669972218204776, -0.0013691390916736879, 0.010907737541633544, -0.009864418150294263, -0.023046747724017713, -0.0201972340585872, -0.0025675326892846684, -0.02120921087434624, -0.005656725074237201, 0.010481642040259587, 0.007738652250171896, 0.006060901213516878, -0.001342508122837316, 0.015541526119063676, 0.02046825535368768, -0.020223865027422683, -0.009438322648922082, 0.0029184468908916017, -0.0026740565646257153, -0.0001441145252263354, 0.0031048636727426526, 0.004463043083367424, -0.009012227147548124, 0.0015602674802659422, 0.0020928868569809467, 0.01282516729781058, -0.0009963055279724742, 0.0025189823583549042, 0.015248585461868913, -0.0022213300944198267, 0.009309879411483202, -0.0071746902978775395, 0.011839821450886134, 0.014050191864257933, 0.009043569723127476, -0.0007832577772850513, -0.015163980948619482, -0.013219920223605186, 0.003610852080621285, -0.0013957700605082834, 0.005581543774471953, -0.0016088178111948181, -0.010929656903727825, -0.006615439952327051, 0.013144738923839938, 0.007339187717635198, -0.002780580439970315, 0.009496296193336029, 0.016020883558105936, -0.004112128881761379, 0.0065136276837254314, -0.0030202591594932215, -0.003419723692030807, 0.007578866437158105, -0.01907873336748267, 0.0047293527717267025, -0.003978974037582184, -0.002301223000926278, -0.018599375928438633, -0.00033053130707649814, 0.0008678622905344824, 0.006114163151188734, 9.556419429657126e-05, 0.002865184953219746, -0.0057898799184172844, 0.023371030956789163, 0.013277893768020022, 0.013437679581033812, -0.008506238739668603, 0.010907737541633544, 0.004356519208025489, 0.001400481667250375, 0.007845176125514719, 0.010188701383065712, 0.01479585899166036, 0.013970298957750593, -0.0029669972218204776, 0.00667341349674011, -0.013965587351008502, -0.002620794626956524, 0.010428380102586843, -0.004192021788268718, -0.014018849288679469, -0.002780580439970315, 0.014955644804675039, 0.0024657204206839367, -0.007414369017400446, -0.01164869306229388, 0.012239285983422832, 0.009043569723126588, 0.009602820068678852, 0.0036641140182949172, -0.0026474255957911197, -0.0018751274995540967, 0.0037706378936368523, 0.003504328205278462, -0.012500884065040019, -0.006375761232804145, 0.017911682345449265, 0.00022871903847576647, 0.023530816769803842, -0.0004636861512565815, -0.02150215153154189, 0.004329888239188229, 0.0002287190384739901, 0.002066255888146351, -0.005283891510535987, -0.012447622127368163, 0.015914359682764, 0.0024390894518466766, 0.0065136276837254314, 0.008004961938530286, 0.006913092216263017, 0.004516305021040168, -0.023073378692854085, 0.009629451037514336, 0.00536849602378453, -0.0003837932447474657, 0.015541526119062787, 0.009256617473811346, 0.02606075880920411, 0.0010010171347127894, 0.010534903977931442, -0.002966997221821366, 0.00984249878820087, 0.00020208806963939452, 0.005954377338174055, -0.008719286490355138, 0.02249220898520754, 0.00417010242617355, -0.0044583314766262205, -0.0025142707516128127, -0.012181312439009773, 0.004622828896383879, -0.01327318216127793, 0.02132044635643293, -0.0021680681567461946, 0.0029450778597270855, 0.011919714357393474, 0.0021727797634891743, 0.008111485813872221, 0.011387094980675805, -0.013885694444500274, 0.007765283219009156, -0.01156880015578654, -0.0096780013684441, -0.0015022939358511067, -0.013006872472920428, -0.004351807601283397, 0.013810513144735914, 0.0029717088285634574, 0.012505595671781222, -0.005257260541700504, 0.009043569723127476, 0.0031048636727426526, 0.009682712975185304, -0.0008631506837923908, 0.009123462629633039, -0.013299813130113414, 0.004542935989875652, -0.0038191882245675046, 0.0007080764775206916, -0.013006872472920428, 0.013304524736855505, 0.01580783580742029, 0.011413725949512177, 0.010188701383064824, 0.013304524736856393, 6.893322546019931e-05, 0.023371030956789163, -0.013832432506830195, -0.025123963293210316, -0.0013957700605082834, -0.0005435790577630328, -0.005709987011909945, -0.010050834932146202, 0.00486250761590501, -0.013406337005458013, 0.0068065683409184174, 0.00880389100360457, 0.001693422324443361, 0.007951700000859319, -6.42216187189959e-05, 0.0029717088285634574, 0.0060076392758450226, -0.010956287872563308, 0.001400481667250375, 0.00094775519704271, -0.0037925572557311327, 0.0242232219595353, -0.010743240121875886, 0.00291844689089249, -0.023925569695600224, -0.012287836314352596, 0.004116840488502582, -0.003579509505044598, -0.0036327714427164537, 0.008963676816619248, 0.004569566958711135, 0.007312556748798826, 0.004036947581996131, -0.008932334241042561, 0.01615403840228513, 0.007019616091604952, 0.012798536328974208, 0.016819812623181996, -0.007014904484864637, -0.011515538218114685, -0.0041653908194332345, 0.026726533030100086, 0.019003552067717422, 0.0011341719788919846, -0.0016088178111957063, -0.005124105697521308, 0.004329888239188229, 0.008431057439903356, 0.021267184418761076, 0.012452333734110255, 0.009176724567305783, -0.010237251713995477, 0.004915769553576865, -0.007387738048564962, -0.007973619362953599, 0.013517572487540264, 0.003477697236442978, -0.002807211408806687, -0.017480875237334104, -0.001635448780030302, -0.014231897039366892, -0.0028871043153140263, -0.004245283725938798, 0.0018532081374598164, -0.011675324031128476, 0.002332565576502965, -0.007867095487609, 0.0050222934289188, -0.0070947973913702, -0.008532869708504087, -0.00650891607698334, -0.018279804302410163, -9.085258755536785e-05, -0.018972209492139847, -0.02088963924831777, 0.009975653632380066, 0.008164747751544077, 0.013996929926586077, 0.006859830278589385, -0.011062811747905243, 0.0043831501768600845, 0.010135439445393857, -0.006082820575611159, 0.007605497405993589, 0.008697367128260858, 0.006726675434411078, 0.01000228460121555, 0.001746684262116105, -0.011488907249278313, -0.003739295318060165, -0.002434377845104585, 0.00856421228408255, -0.02062332955996027, -0.005896403793760996, -0.0012093532786590089, -0.002434377845103697, 0.01402356089542156, 0.02677979496777194, -0.009811156212624184, 0.004249995332682666, 0.002572244296025872, 0.0022793036388311094, 0.0008412313216981104, -0.014152004132858664, 0.006779937372082934, 0.004223364363846294, -0.00033053130707560996, 0.012958322141989775, -0.012793824722233005, -0.005523570230059782, -0.004058866944088635, -0.006322499295132289, 0.002012993950473607, -0.013992218319843985, 0.007552235468321733, -0.0060561896067738985, -0.004325176632448802, 0.0013472197295785193, -0.006588808983490679, 0.005954377338173167, -0.005976296700266559, -0.007946988394117227, -0.011595431124622024, 0.0006814455086843196, -0.003233306910178868, 0.011759928544377907, -0.0007832577772859395, -0.004671379227313643, -0.0007033648707777118, 0.018071468158464832, -0.0003305313070773863, -0.006322499295132289, 0.003983685644322499, -0.0036860333803883094, 0.0065136276837254314, -0.0036061404738800817, 0.0036108520806230615, -0.013672646693815516, -0.0004636861512565815, -0.005177367635193164, 0.006114163151187846, -0.0009164126214642465, -0.002940366252985882, -0.014285158977038748, 0.0008412313216981104, -0.005709987011909057, -0.009225274898235547, -0.021262472812019872, -0.010663347215367658, -0.003712664349223793, -0.011808478875308559, 1.567128778923177e-05, -0.006136082513281238, -0.009891049119129747, -0.01644226745273869, -0.008745917459190622, -0.005337153448207843, 0.012399071796438399, 0.012079500170409041, 0.014050191864257044, 0.010827844635125317, 0.01556815708789916, 0.018923659161210082, 0.004010316613158871, -0.00949158458659305, -0.003952343068745812, 0.008084854845036737, -0.00898559617871264, -0.008080143238295534, -0.010556823340025723, 0.002012993950473607, 0.003557590142951206, 0.016367086152972554, -0.006136082513282126, -0.002966997221821366, 0.00856421228408255, 0.01146698788718492, 0.00571469861865026, 0.00606090121351599, -0.008852441334533445, 0.0019331010439671559, -0.008160036144803762, -0.005656725074237201, 0.004729352771725814, 0.005554912805635581, -0.0015555558735238506, -0.015243873855126822, 6.893322545931113e-05, 0.0018798391062953002, 0.015754573869749322, 0.009416403286827801, 0.0035842211117866896, 0.009549558131006108, -0.02003744824557252, -0.0095714774930995, 0.00606090121351599, -0.01260740794038373, -0.006136082513282126, 0.0008412313216981104, 0.012638750515960417, -0.006082820575611159, -0.007654047736924241, -0.01686836295411176, 0.004303257270352745, -0.005816510887252768, -0.0010761984344780373, -0.01532376676163505, 0.0034244352987720106, 0.02036173147834308, -0.007387738048564962, -0.0012626152163299764, -0.005816510887250992, -0.003579509505044598, 0.001613529417937798, -0.010689978184204918, -0.0006767339019413399, -0.000996305527971586, -0.013326444098948897, 0.009256617473811346, 0.004809245678234042, -0.003552878536208226, 0.00012219516313205503, 0.008777260034768197, -0.009731263306115956, 0.0050222934289188, -0.006588808983490679, -0.0028338423776421706, 4.230225662471554e-05, -0.007014904484864637, -0.0030202591594923334, 0.007578866437158105, 0.007259294811127859, 0.004862507615904121, 0.0052087102107707395, -0.007254583204386655, -0.016921624891782727, 0.005688067649816553, 0.014343132521452695, -0.0011028294033144093, 0.004223364363846294, -0.0020615442814042595, 0.006992985122769468, -0.0005702100265985166, 0.007285925779964231, 0.02387701936466957, -0.0027006875334638636, 0.01120067819882653, 0.0055282818368000974, -0.0025142707516128127, 0.013304524736855505, -0.004431700507790737, -0.008692655521518766, -0.013512860880799948, 0.006060901213516878, 0.003291280454591927, 0.002838553984384262, 0.017219277155718693, -0.0009963055279733624, 0.00891041487894828, -0.02155541346921197, 0.004596197927546619, 0.004383150176860973, -0.01463136157190359, 0.00353095917411661, 0.020521517291359537, -0.004724641164984611, -0.009757894274950552, 0.003211387548085476, -0.00019737646289730293, 0.006593520590232771, -0.011542169186951057, -0.002274592032090794, -0.01207478856366695, -0.0032333069101797562, 0.00222604170116103, -0.005630094105401717, -0.013539491849635432, 0.0004417667891605248, -3.759064988262395e-05, -0.001981651374897808, 0.014582811240972937, 0.005874484431665827, 0.0025456133271895, -0.0011294603721516694, -0.0046447482584772715, 0.0006548145398479477, 0.013863775082406882, -0.006136082513283014, 0.004276626301518149, -0.009145381991729096, -0.0013691390916727997, -0.014311789945874231, -0.01559007644999344, -0.004085497912925007, -0.0018484965307177248, -0.002434377845105473, 0.02267862576705859, 0.014423025427958258, -0.011808478875308559, 0.005128817304264288, 0.011653404669035083, -0.00232785396976265, -0.0013158771540018321, -0.003259937879014352, 0.010694689790946121, -0.0033930927231953234, 0.004622828896382991, 0.011999607263900813, -0.005869772824923736, 0.0040635785508307265, 0.004143471457338066, 0.006087532182351474, 0.01066805882210975, 0.007285925779964231, -0.0057366179807445405, 0.018417670753329674, -0.007867095487609, 0.006194056057695185, 0.013970298957750593, -0.011781847906472187, -0.01497756416676932, -0.00973126330611418, 0.01008217750772289, 0.01761874168825628, -0.0005169480889275491, 0.004782614709398558, 9.556419429745944e-05, 0.028777117630458093, -0.0032066759413442725, -0.001475662967015623, 0.0206014101978651, 0.009176724567305783, -0.0004104242135838376, 0.010561534946766926, -0.006455654139312372, 0.011147416261155563, -0.006269237357461321, 0.005714698618651148, -0.002461008813940957, -0.012607407940382842, -0.016815101016439016, 0.004010316613158871, -0.00392571209990944, 0.010241963320738456, -0.002301223000927166, -0.018892316585632507, 0.0025189823583549042, -0.004058866944089523, 0.022865042548908754, 0.0036641140182949172, 0.009389772317992318, 0.001080910041221017, 0.002891815922056118, -0.005976296700266559, 0.0019863629816390116, 0.006859830278590273, 0.0019863629816381234, -0.0007299958396140838, -0.007840464518773516, 0.012026238232736297, -0.01396558735100939, 0.010401749133752247, 0.005501650867964614, 0.0050222934289196886, 0.005927746369336795, 0.0076321283748290725, 0.015275216430704397, -0.00025063840056915865, 0.0027586610778769227, -0.001795234593045869, -0.012207943407847033, -0.00592303476259648, -0.009837787181459667, -0.003419723692030807, -0.0009430435903015066, -0.005044212791013969, -0.0010495674656434417, 0.003371173361101043, 0.00012219516313205503, -0.013699277662650111, 0.004329888239188229, -0.0028604733464785426, -0.011941633719487754, -0.01702814876712644, 0.006726675434411078, -0.007867095487609888, 0.002705399140205067, -0.006695332858832614, -0.006402392201640517, -0.0038458191934021, -0.015004195135604803, 0.009150093598470299, 0.007152770935784147, 0.00536849602378453, -0.0021680681567461946, -0.02115594893667616, -0.004405069538954365, 0.011147416261156451, -0.03146213387613184, -0.01865263786611049, 0.003397804329936527, 0.00012219516313205503, 0.0023591965453411134, -0.0037659262868947607, -0.007467630955072302, 0.009389772317992318, 0.009576189099843369, 0.011067523354647335, 0.013517572487540264, 0.007365818686469794, 0.004463043083367424, 0.017139384249210465, 0.009815867819365387, 0.01634045518413707, 0.0004950287268341569, 0.01436976349028729, 0.013517572487541152, 0.015541526119062787, 0.01101426141697548, -0.016442267452737802, 0.000601552602176092, 0.009869129757036355, 0.01444965639679463, 6.893322546019931e-05, -0.0027273185022993474, -0.007574154830415125, 0.002652137202532323, -0.008186667113638357, 0.002998339797398941, -0.011195966592084439, 0.013650727331722123, 0.002012993950473607, -0.014524837696559878, 0.008830521972440941, 0.02401017420884788, 0.010561534946767814, -0.019957555339064292, 0.0060076392758450226, 0.010721320759781605, 0.027898295658875583, -0.025470165888076046, 0.009443034255663285, -0.010050834932144426, -0.012900348597575828, 0.009629451037513448, 0.009283248442649494, -0.009917680087967007, 0.004276626301518149, -0.01788033976987169, -0.001662079748867562, 0.0038771617689805637, -0.0011028294033144093, -0.026908238205209045, 0.01615403840228513, -0.013725908631485595, -0.0014224010293446554, -0.004671379227313643, -0.008852441334534333, -0.003446354660866291, 0.010827844635125317, 0.014396394459123663, 0.0071527709357850355, -0.008160036144802874, -0.010583454308861207, -0.0045914863208045276, -0.0104502994646829, -0.0030468901283287053, 0.0065136276837254314, -0.002780580439970315, 0.0009477551970418219, -0.015749862263006342, 0.0027320301090405508, -0.009358429742413854, 0.00017545710080302257, 0.0191633378807321, -0.005523570230058006, 0.009789236850528127, 0.00020208806963939452, 0.01250559567178211, 0.013650727331721235, 0.02933636797600947, -0.006935011578355521, 0.009869129757036355, -0.0023811159074345056, 0.005901115400500423, 0.008537581315247067, 0.00667341349674011, -0.001795234593045869, 0.014902382867003183, -0.0033398307855234677, -0.0009430435903006185, 0.008990307785453844, -0.011781847906473963, -0.015163980948619482, -0.008106774207131018, -0.006189344450953982, -0.0001441145252263354, 0.004223364363847182, 0.013251262799182761, 0.0004950287268332687, 0.014289870583779951, 0.0006548145398470595, -0.020942901185988738, 0.0031048636727417644, -0.016735208109933453, -0.0012359842474927163, -0.0006234719642712605, -0.0028338423776412824, 0.005874484431664939, -0.0008098887461223114, 0.018098099127300316, -0.002594163658119264, -0.014764516416082785, -0.004245283725939686, -0.0004903171200911771, 0.008537581315247067, 0.012771905360139613, 0.003451066267606606, -0.004405069538954365, 0.004862507615905898, -0.0020615442814033713, -0.004751272133820095, 0.00222604170116103, 0.011653404669035972, 0.011387094980676693, -0.009278536835907403, -0.010849763997218709, 0.006247317995367041, 0.0045695669587120236, -0.004671379227312755, -0.016042802920201993, 0.006114163151187846, -0.01079650205954863, 0.01615403840228513, 0.01626056227762973, -0.017347720393156685, -0.009012227147549012, -0.00017074549406181916, 0.006300579933038897, -0.012820455691068489, -0.022301080596616174, 0.008697367128260858, 0.007605497405993589, -0.02661529754801606, -0.006029558637939303, -0.0020615442814042595, -0.008586131646176831, -0.0005435790577630328, 0.003850530800145968, 0.003957054675487015, -0.003765926286896537, -0.012953610535247684, -0.01380580153799471, 0.0035842211117858014, -0.006908380609520037, 0.003983685644323387, 0.008324533564559644, 0.0028119230155487784, -0.017454244268499508, -0.005949665731431963, 0.00675330640324745, 0.02041499341601405, -9.085258755536785e-05, 0.008191378720381337, 0.016287193246466103, 0.0029717088285625692, 0.0037440069248013685, -0.0005702100265985166, -0.011994895657158722, -0.0046181172896408995, 0.00038850485148955727, 0.010721320759781605, -0.006269237357461321, -0.0022213300944189385, -0.023339688381211587, 0.001959732012803528, 0.004036947581995243, 0.005554912805634693, 0.005688067649815665, 0.0011874339165638403, 0.0048891385847413815, -0.021049425061333338, 0.02454279358556466, -0.008133405175966502, -0.016974886829454583, 0.00707287802927592, -0.0044849624454625925, -0.007946988394116339, -9.085258755447967e-05, -0.007014904484864637, 0.006353841870709864, 0.007898438063187463, -0.006189344450953982, 0.007552235468321733, 0.00419673339501081, -0.022753807066824727, 0.011493618856021293, 0.0060076392758450226, 0.003371173361100155, 0.0017733152309515887, 0.008617474221753518, 0.00768539031250004, 0.012798536328974208, -0.009251905867071919, -0.010397037527011044, -0.009997572994473458, 0.013144738923839938, -0.0026740565646274916, -0.009704632337280472, 0.0063272109018743805, 0.00984249878820087, -0.004458331476627109, -0.004085497912925007, -0.004405069538955253, -0.0006767339019413399, -0.015430290636977873, -0.009092120054055464, 0.010960999479304512, 0.0006281835710124639, -0.009731263306115068, -0.007920357425280855, 0.002252672669996514, 0.006486996714889948, -0.006562178014655196, 0.012798536328974208, -0.001795234593045869, -0.0032333069101797562, 0.01317136989267631, -0.0006501029331067443, 0.009789236850528127, -0.004165390819432346, 0.005688067649816553, -0.006828487703014474, 0.0064869967148890595, -0.002008282343733292, 0.0023325655765038533, 0.008271271626887788, 0.00382389983130782, -0.000676733901942228, -0.002194699125584343, 0.0013205887607439237, 0.0026255062336986157, 0.0023059346076683696, 0.010028915570051034, -0.0024077468762699894, -0.013166658285935995, -0.014764516416083673, 0.014742597053989392, -0.007254583204385767, 0.012186024045751864, 0.0064603657460526875, -0.011169335623248955, 0.006566889621398175, 0.020654672135536956, 0.011040892385811851, -0.0035528785362100024, -0.004857796009163806, -0.005523570230059782, -0.003393092723193547, 0.003557590142951206, 0.002412458483011193, 0.014076822833093416, -0.014258528008202376, -0.0016887107177030458, 0.020388362447178565, -0.0010761984344789255, 0.0029717088285625692, -0.008692655521518766, -0.002274592032089906, 0.012878429235481548, 0.0006281835710115757, 0.010188701383065712, -0.007760571612266176, -0.0011028294033144093, -0.00557683216773075, 0.011280571105334758, 0.0037440069248013685, -0.011888371781815898, -0.017321089424320313, 0.015594788056734643, -0.008399714864326668, -0.0028338423776421706, 0.0028119230155487784, -0.005230629572865908, -0.005390415385879699, -0.009225274898236435, 0.013411048612198329, 0.0022793036388328858, 0.011680035637871455, 0.00385053080014508, -0.0006501029331067443, 0.002359196545339337, -0.004325176632447025, 0.0035309591741139457, 0.004516305021040168, -0.008639393583847799, -0.0044849624454625925, -0.0025675326892846684, 0.006327210901875269, 0.003530959174114834, 0.010561534946766926, -0.00019737646289730293, -0.001795234593045869, 0.013837144113571398, -0.0013158771540018321, -0.009811156212624184, -0.024218510352794098, 0.005794591525158488, 0.00315812561041362, 0.028590700848607042, -0.003419723692030807, -0.006642070921162535, -0.00038379324474835386, 0.003530959174115722, -0.00232785396976265, 0.009682712975186192, -0.002966997221821366, 0.010481642040259587, 0.012905060204318808, -0.0017686036242103853, 0.0020129939504744954, 0.002252672669996514, -0.003925712099910328, -0.006615439952326163, 0.0036374830494585453, 0.010641427853275154, -0.007174690297878428, 0.003317911423428299, 0.014636073178645681, 0.008670736159424486, -0.008026881300623678, 0.0011608029477283566, 0.009256617473813122, -0.023685890976077317, -0.006482285108148744, 0.0010542790723855333, 0.004516305021040168, -0.010343775589339188, -0.005124105697521308, 0.009256617473813122, 0.0029717088285634574, 0.002199410732324658, -0.012767193753397521, -0.000543579057763921, 0.0033179114234291873, -0.009784525243787812, 0.012878429235483324, -0.004964319884505741, -0.004458331476625332, 0.010162070414230229, 0.009336510380320462, -0.0043518076012842855, 0.012265916952258316, 0.014396394459122774, -0.0003571622759128701, 0.0004950287268332687, 0.02179980379547697, -0.013140027317098735, -0.0026474255957911197, -0.007627416768086093, 0.007765283219006491, -0.004751272133820983, 0.006726675434411966, -0.017267827486648457, 0.008750629065932714, -0.0017153416865394178, -0.003126783034836933, 0.006433734777217204, -0.014152004132858664, -0.013299813130113414, -0.004165390819432346, -0.023339688381212476, 0.019349754662582264, 0.009869129757036355, -0.00555020119889349, -0.00685511867184907, 0.007099508998112292, -0.010823133028383225, 0.003957054675487903, 0.008750629065932714, -0.0001973764628981911, 0.0048891385847413815, 0.009549558131006997, -0.01037040655817556, -0.003552878536209114, 0.0060076392758450226, -0.005496939261222522, 0.007552235468320845, -0.011062811747906132, 0.009416403286827801, 0.010082177507723777, -0.017534137175006848, 0.004862507615905898, -0.016602053265754257, 0.02307809029959529, -0.013246551192442446, 0.011759928544378795, 0.00606090121351599, -0.0012892461851663484, 0.011919714357393474, -0.007254583204386655, -0.01119596659208355, -0.01521724288629045, -9.085258755447967e-05, -0.01598954098252925, -0.010556823340026611, 0.00741908062414165, -0.02533701104389774, 0.014875751898168588, -0.02051680568461567, 0.006886461247426645, -0.018040125582887256, -0.0062692373574622096, 0.02797818856538381, 0.017059491342702238, -0.017614030081515075, 0.007312556748798826, 0.0006814455086843196, 4.230225662471554e-05, -0.004218652757104202, 0.0008412313216981104, -0.003978974037582184, 0.0003618738826549617, 0.018870397223539115, -0.002088175250238855, -0.0001441145252254472, -0.0017686036242094971, 0.008750629065931825, 0.0019597320128026396, -0.0020349133125678875, 0.008164747751544965, 1.567128778923177e-05, -0.0026474255957911197, 0.0013472197295785193, -0.006109451544446642, 0.00219941073232377, 0.018524194628673385, -0.007014904484864637, 0.009016938754291104, -0.004591486320805416, -0.004032235975254039, -0.010476930433517495, 0.009070200691962071, 0.001427112636086747, -0.002434377845105473, -0.0039523430687467, -0.007893726456445371, -0.00906548908521998, 0.009123462629633927, -0.00898559617871264, 0.0039304237066524195, -0.01119596659208355, -0.005816510887252768, -0.007094797391371976, 0.0024657204206830485, -0.0029137352841512865, 0.018604087535179836, 0.008004961938530286, 0.00041513582032504104, -0.0056300941054026055, 0.006460365746053576, 0.0004950287268323805, -0.011968264688323238, 0.0018532081374598164, 0.0077919141878437514, 0.01522195449303343, -0.0009963055279724742, -0.013805801537993823, -0.011409014342771862, -0.02464460585416539, -0.008426345833161264, -0.011941633719488642, -0.0056034631365662335, -0.0070947973913702, 0.009123462629633039, -0.0036860333803883094, 0.012798536328974208, 0.009363141349156834, -0.013299813130113414, -0.0013158771540018321, 0.015435002243719964, -0.013326444098949786, 0.009096831660798443, -0.013246551192442446, 0.010508273009095959, 0.0014004816672494869, 0.012186024045751864, 0.008564212284081663, -0.009757894274950552, 0.0147692280228231, 0.018417670753329674, -0.002620794626956524, 0.014849120929331328, -0.004964319884505741, 0.00768539031250004, 0.005741329587486632, 0.002412458483012081, -0.0056034631365662335, 0.002891815922056118, 0.0019597320128026396, -0.005017581822179373, 0.003770637893635964, -0.012048157594830577, -0.004564855351969932, -0.0014756629670165111, -0.00866602455268417, -0.001182722309822637, 0.0018798391062953002, -9.085258755447967e-05, 0.002119517825818207, 0.005235341179606223, -0.014152004132858664, -0.016468898421573286, 0.007685390312499152, -0.01508408804211303, 0.006194056057695185, 0.005075555366590656, 0.01146698788718492, 0.0014271126360858588, -6.422161871988408e-05, -0.018599375928438633, 0.013277893768019133, -0.0026740565646274916, 0.01583446677625666, -0.00746763095507319, 0.009895760725872726, -0.006295868326296805, 0.006966354153933985, 0.005767960556322116, -0.0015555558735238506, -0.0022213300944198267, -0.007307845142057623, 0.009949022663543694, 0.021506863138282206, 0.016739919716673768, 0.002385827514175709, 0.012478964702945738, 0.001586898449101426, -0.012101419532502433, -0.00025063840056915865, 0.004329888239189117, -0.009305167804742887, -0.006029558637940191, 0.001746684262116105, -0.0015821868423602226, 0.010561534946766926, -0.005177367635193164, -0.0057898799184172844, -0.00232785396976265, -0.003579509505044598, 0.008377795502230612, 0.017751896532433697, 0.001586898449101426, 0.011972976295064441, 0.021213922481088332, -0.0008897816526278746, 0.005261972148442595, -0.0030468901283287053, 0.010588165915604186, 0.026992842718458476, 0.006966354153933985, 0.0020129939504744954, 0.0050222934289196886, 0.019349754662582264, 0.0019863629816390116, -0.002940366252985882, -0.006935011578355521, -1.095968104714018e-05, 0.017245908124554177, 0.0019863629816390116, -0.006402392201639628, -0.0025409017204491846, -0.004964319884507518, -0.028799036992551486, 0.012372440827602915, 0.001586898449101426, -0.0062692373574622096, -0.0025142707516128127, -0.0005968409954348886, -0.009891049119129747, -0.010663347215367658, -0.0004104242135838376, -0.012287836314353484, 0.007206032873456003, 0.0061940560576960735, 0.0018798391062953002, 0.004116840488502582, 0.007632128374828184, 0.0007879693840271429, -0.020090710183244376, -0.018093387520557336, 0.016873074560852963, -0.006162713482116722, 0.019056814005390166, -0.01087639496605508, 0.010295225258409424, -0.0009963055279733624, 0.004596197927546619, -0.013033503441755023, 0.01104089238581274, -0.009731263306115956, 0.012771905360138724, 0.007498973530648989, 0.00041513582032504104, 0.010428380102587731, -3.759064988262395e-05, -0.007840464518774404, 0.00017545710080302257, 0.0011341719788928728, 0.013624096362885751, 0.01623393130879336, -0.0072013212667139115, -0.022647283191481016, 0.0061674250888597015, 0.0016667913556078773, 0.0011075410100565009, -0.0009963055279724742, 0.0034244352987711224, -0.005523570230058006, -0.016202588733216672, 0.004676090834053959, 0.00022871903847576647, 0.005581543774471953, -0.005550201198894378, 0.015967621620435857, 0.007206032873456003, 0.001586898449101426, 0.014636073178644793, -0.00557683216773075, -0.011169335623248955, 0.01575457386975021, 0.006380472839545348, -0.013619384756141883, 0.015488264181390043, 0.0007080764775198034, -0.0017153416865394178, -0.007760571612265288, -0.004405069538954365, -0.01343296797429172, -0.010929656903726936, -0.013459598943128093, -0.0035262475673727423, 0.008564212284081663, 0.008590843252917146, 0.0064869967148890595, 0.005608174743307437, 0.009336510380320462, 0.012585488578288562, 0.0037706378936368523, 0.023157983206102628, 0.0007347074463552872, -0.016335743577395867, -0.012394360189696307, -0.02259402125380916, 0.004249995332683554, 0.0009477551970418219, 0.014662704147481165, 0.010348487196080391, 0.0021727797634891743, 0.007552235468321733, -0.0052838915105368756, -0.0016088178111948181, 0.012958322141989775, -0.0032333069101797562, -0.0012626152163299764, -0.001182722309822637, -0.0009430435902997303, 0.005155448273099772, -0.012767193753397521, -0.0004636861512565815, 0.007658759343664556, 0.003317911423428299, 0.004729352771725814, -0.0030202591594923334, -0.00232785396976265, 0.006540258652561803, -0.006002927669102931, 0.0034510662676074944, 0.01247896470294485, 0.004596197927547507, 0.010215332351902084, 0.0008678622905353706, 0.012026238232736297, -0.0060828205756102705, -0.011701954999964848, 0.008697367128260858, 0.006646782527904627, -0.0016887107177030458, -0.0005169480889266609, -0.009731263306115068, -0.005470308292387038, -0.009731263306115068, 0.0024657204206830485, -0.004724641164984611, -0.0025409017204491846, 0.010295225258409424, -0.010183989776325397, 0.005341865054949935, 0.017006229405033046, -0.028532727304193983, -0.00650891607698334, -0.008612762615011427, -0.003925712099910328, -0.01412537316402318, -0.01668194617226071, -0.0004903171200911771, 0.020228576634165663, 0.013570834425213008, 0.006407103808382608, -0.002114806219075227, 0.0036108520806230615, -0.009358429742414742, -0.004698010196149127, 0.0037440069248013685, -0.012287836314353484, 0.0019331010439662677, -0.009305167804742887, 0.000441766789161413, -0.012234574376681628, 0.012745274391304129, -0.0033398307855225795, 0.013224631830347278, -0.001022936496807958, -0.002487639782777329, 0.0063538418707107525, 0.010694689790946121, -0.01505745707327577, 0.00741908062414165, 0.0049157695535777535, -0.009518215555428533, -0.008080143238295534, -0.008239929051311101, -0.02139562765619818, -0.004085497912925007, 0.009709343944022564, -0.016335743577395867, -0.006748594796507135, -0.014311789945874231, 0.004915769553576865, 0.0017733152309515887, 0.00443641211453194, -0.000969674559135214, -0.010237251713995477, -0.0013158771540018321, 0.003344542392264671, 0.008058223876201254, -0.009917680087966119, -0.001795234593045869, 0.019349754662583152, 0.011040892385811851, -0.0201972340585872, -0.0044583314766262205, 0.011653404669034195, -0.013512860880799948, 0.0037173759559658848, 0.009229986504975862, -0.0047779031026555785, -0.003765926286896537, -0.025896261389449116, -0.0020349133125687757, 0.005448388930293646, 0.002838553984384262, 0.008191378720381337, -0.0038458191934021, 0.003530959174115722, -0.014338420914709715, 0.004329888239189117, -0.0007832577772859395, -0.004005605006417667, -0.005976296700266559, -0.00453822438313356, 0.004463043083368312, -0.002088175250238855, -0.009038858116384496, 0.001773315230953365, -0.0004104242135847258, 0.007072878029277696, -0.008692655521519654, -0.002088175250238855, 0.0007613384151916591, -0.005203998604029536, 0.0033179114234291873, -0.00427191469477517, 0.0116267737001996, -0.004032235975252263, -0.002620794626955636, -0.00925190586707103, -0.012287836314353484, -0.005523570230058894, -0.009491584586593937, 0.0029450778597270855, 0.0036108520806221733, 0.0069929851227703566, 0.0021461487946536906, -0.005843141856088252, -0.002780580439970315, -0.010956287872561532, 0.00315812561041362, -0.003552878536208226, 0.0036108520806221733, -0.0022479610632544222, 0.0026255062336986157, 0.00385053080014508, -0.004564855351968156, 0.0022526726699956257, -0.0072013212667148, 0.0018265771686234444, 0.011813190482049762, -0.003925712099910328, 0.0013472197295785193, -0.0016088178111957063, -0.012474253096203647, -0.008532869708504975, 0.003371173361101043, 0.0005216596956696407, 0.001267326823072068, 0.00025535000731036206, -0.0006234719642703723, -0.007654047736923353, 0.009256617473812234, 0.00012219516313116685, -0.0015022939358511067, 0.022359054141029233, -0.004085497912925007, -0.00797361936295271, -0.001022936496807958, 0.004303257270352745, 0.010508273009095959, -0.0012093532786581207, 0.007179401904620519, 0.01375725120706317, 0.006273948964202525, -0.02027712696509454, 0.011174047229991935, 0.010588165915603298, -0.00453822438313356, -0.013406337005456237, -0.010157358807488137, -0.0035262475673736304, 0.004915769553576865, 0.006407103808382608, -0.01010409686981717, -0.006668701889998019, 0.004116840488502582, 0.00219941073232377, 0.016207300339957875, 0.0008678622905344824, -0.005257260541700504, 0.010135439445393857, -0.011435645311607345, 0.002652137202532323, -0.0065888089834915675, 0.001906470075130784, 0.005315234086113563, -0.010530192371190239, -0.017747184925692494, -0.002461008813941845, 0.005395126992620902, 0.008990307785453844, 0.0013205887607430356, 0.0008944932593717425, -0.008905703272206189, -0.002620794626955636, -0.009385060711251114, 0.0051820792419343675, -0.005630094105400829, 0.002865184953219746, 0.01000228460121555, 0.013517572487541152, -0.00512410569752042, -0.00017074549406270734, 0.008191378720381337, 0.003184756579249992, 0.0013738506984148913, 0.01146698788718492, 0.005155448273099772, 0.0016934223244442492, -0.0023544849385981337, 0.004489674052204684, 0.005208710210769851, 0.004010316613159759, 0.009443034255663285, -0.02200813993942141, 0.0030249707662370895, 0.0011075410100565009, 0.008617474221754406, -9.085258755536785e-05, 0.0013205887607430356, -0.012367729220859935, 0.013304524736856393, -0.003952343068745812, -0.002114806219075227, 0.008084854845037626, 0.003770637893635964, -0.008532869708504975, -0.004431700507789849, -0.00163544878003119, 0.005102186335427028, 0.0030249707662362013, 0.014929013835838667, -0.0032333069101797562, 0.009975653632379178, 0.011067523354647335, 0.007126139966948664, -0.011488907249278313, 0.0028918159220552297, 0.01932312369374678, -0.004511593414298076, 0.005554912805634693, -0.0020349133125687757, 0.01751221781291168, -0.00427191469477517, -0.0011560913409871532, 0.004569566958711135, -0.0031800449725079005, -0.008106774207131018, 0.0015868984491023141, 0.004489674052204684, -0.016149326795545704, -0.006562178014655196, -0.0004903171200911771, -0.01865263786611049, 0.011733297575542423, -0.0039523430687449235, 0.009096831660797555, -0.0014756629670165111, 0.00880389100360457, -0.015590076449992551, 0.004249995332680889, -0.0018751274995540967, 0.015035537711183267, -0.008186667113639245, 0.001746684262116105, 0.007365818686469794, 0.00486250761590501, 0.006779937372083822, -0.0029669972218204776, -0.00650891607698334, 0.011147416261154675, 0.0006548145398488359, -0.0016887107177021576, 0.008377795502232388, -0.013166658285935107, -0.007334476110893107, -0.009464953617757565, 0.0029983397973998294, 0.01761874168825628, -0.011355752405100006, 0.01000228460121555, -0.01250088406503913, -0.008772548428026994, -0.00831982195781844, 0.00025535000731125024, -0.0039523430687467, 0.0007347074463561754, 0.0016667913556078773, 0.009283248442647718, 0.013064846017333487, -0.006482285108147856, 0.004782614709398558, -0.01463136157190359, -0.010823133028383225, -0.012207943407846145, 0.0008412313216981104, -0.0008631506837923908, -0.01385906347566479, 0.00057492163333972, -0.0014490319981810273, 0.0037440069248013685, 0.0060342702446813945, -0.002114806219075227, -0.0029936281906568496, -0.005310522479372359, -0.0002772693694046424, 0.0039037927378160475, -0.008239929051311101, -0.008692655521518766, 0.008617474221753518, -0.006429023170476, 0.002012993950473607, -0.006588808983490679, 0.0008678622905344824, -0.005363784417043327, 0.0029717088285625692, -0.005523570230059782, 0.0019331010439662677, 0.0047559837405630745, -0.023046747724016825, 0.0006281835710124639, -0.001662079748867562, -0.012207943407846145, 0.007392449655307054, -0.010849763997220485, 0.010881106572797172, -0.0233396883812107, 0.0039037927378169357, -0.0001973764628981911, -0.010556823340025723, -0.007893726456444483, 0.0083777955022315, 0.005741329587486632, 0.00046839775799689676, -0.01609606485787296, 0.0028119230155487784, 0.007925069032022058, 0.018364408815658706, -0.01361938475614366, 0.026646640123593635, 0.006540258652560915, -0.00712142836020746, -0.00488442697799929, 0.005395126992620014, -0.0033930927231944352, -0.005337153448207843, 0.0035842211117875777, -0.0033930927231944352, -0.0006234719642703723, 0.005048924397754284, 0.007898438063187463, 0.004063578550831615, 0.004942400522412349, -0.004378438570118881, 0.0082712716268869, -0.010849763997218709, -0.02757401242610591, -0.010210620745159993, 0.006460365746053576, -0.004591486320805416, 0.018683980441688064, 0.004649459865218475, -0.028612620210700435, 0.0004950287268341569, 0.00025535000731125024, -0.004378438570118881, -0.003552878536209114, 0.018683980441687176, 0.0021727797634891743, -0.011861740812980415, -0.004351807601283397, 0.0018265771686234444, -0.009598108461937649, -0.011888371781815898, 0.017485586844076195, 0.006700044465575594, -0.007920357425280855, 0.005714698618651148, -0.015057457073276659, 0.005501650867964614, 0.024010174208848767, -0.0043251766324479135, 0.017086122311539498, -0.01532376676163505, 0.013970298957751481, 0.0031847565792508803, -0.004112128881761379, -0.001022936496807958, 0.0010542790723846451, -0.006642070921162535, -0.019717876619542274, -0.0005169480889257727, -0.002434377845103697, 0.005821222493993972, 0.002385827514174821, 0.013304524736854617, -0.03484426691828002, -0.015297135792799565, -0.012820455691070265, -0.0036061404738791936, 0.009389772317993206, -0.003126783034836933, -0.007254583204385767, -0.004911057946834774, 0.01823125397147951, 0.0051288173042634, -0.0004104242135838376, -0.003046890128327817, -0.0032066759413442725, 0.010801213666289833, -0.018093387520558224, -0.005177367635193164, 0.0063538418707107525, -0.011355752405100006, 0.0026787681713695832, -0.002434377845104585, 0.021959589608491648, 0.007206032873455115, 0.004755983740562186, -0.005496939261221634, 0.020814457948552523, 0.019562802413269686, -0.006961642547191893, -0.023339688381211587, -0.01172858596880122, 0.00033524291381858973, -0.014950933197932947, -0.0018484965307177248, 0.010881106572797172, -0.005709987011909945, -0.01926515014933372, 0.01761874168825539, -0.013672646693815516, -0.00011748355638996344, -0.015883017107186426, -0.00160881781119393, 0.01042838010258862, -0.007574154830415125, -0.0017686036242103853, -0.003552878536209114, 0.0008412313216989986, 0.012292547921094688, 0.0023858275141739327, 0.010135439445394745, 0.007765283219008268, 0.008644105190589002, 0.003451066267606606, -0.0030202591594923334, -0.008506238739668603, -0.004511593414298076, -0.012740562784561149, -0.003872450162238472, -0.0005702100265985166, 0.01154688079369226, 0.007898438063186575, 0.002891815922056118, -0.017108041673633778, -0.012128050501337917, 0.010508273009096847, -0.010743240121875886, 0.0060076392758450226, 0.0004950287268332687, 0.009735974912858048, -0.006295868326297693, -0.019291781118169204, -0.008612762615012315, -0.011462276280442829, 0.005421757961456386, -0.003233306910178868, 0.001906470075130784, -0.00025063840056915865, -0.010689978184205806, -0.000543579057763921, 0.005927746369336795, -0.0031534140036724168, -0.020703222466467608, 0.004276626301518149, 0.011387094980676693, -0.012820455691069377, 0.0051288173042634, 0.00795170000085843, 0.0010276481035500495, -0.004431700507789849, 0.00582122249399486, -0.0065888089834915675, 0.009363141349155946, 0.00022871903847576647, -0.005976296700266559, 0.023504185800969246, 0.0005482906645051244, -0.0016088178111948181, 0.018683980441687176, 0.010028915570051034, -0.009225274898235547, 0.003850530800145968, 0.014476287365631002, 0.00949629619333514, -0.008719286490355138, -0.008506238739668603, 0.017698634594763618, -0.001342508122838204, -0.02088963924831777, 0.011520249824856776, -0.012634038909219214, 0.0053684960237854185, 0.007206032873456003, -0.005949665731431075, 0.018444301722166045, -0.008080143238295534, 0.011493618856020404, -0.011835109844144043, 0.0007080764775198034, 0.02110739860574551, -0.015110719010948515, 0.00219941073232377, -0.0019017584683886923, 0.0011075410100565009, 0.0036641140182949172, 0.0050222934289196886, -0.002833842377643059, -0.011968264688324126, 0.01146698788718492, 0.00821800968921682, -0.011275859498592666, 0.0065136276837254314, 0.004569566958711135, 0.014636073178645681, 0.015994252589270452, -0.002780580439970315, -0.017267827486648457, 0.00017545710080302257, -0.018120018489393708, -0.0009430435902997303, -0.010050834932145314, 0.011253940136497498, -0.013299813130113414, 0.008723998097096342, -0.012048157594830577, 0.0008678622905344824, 0.014582811240973825, 0.01692633649852482, 0.000601552602176092, 0.005395126992620902, 0.0029184468908916017, -0.016309112608560383, -0.012554146002710986, -0.007680678705760613, 0.0014004816672512632, -0.01266066987805381, 0.003344542392263783, -0.003419723692030807, -0.0032066759413433843, -0.00831982195781844, -0.0031534140036724168, -0.0033131998166862076, 0.012186024045750976, 0.0018798391062953002, 0.0020928868569809467, 0.011413725949513953, -0.019904293401393325, 0.005608174743308325, 0.00803159290736577, 0.01061479688443967, -0.004698010196150015, 0.009869129757036355, -0.004351807601282509, 0.01327789376802091, 0.005901115400500423, -0.0015555558735238506, 0.004303257270352745, 0.0025189823583549042, -0.001795234593044981, -0.014737885447246413, -0.013353075067786158, -0.017108041673633778, -0.01780044686336435, -0.005736617980745429, 0.0015336365114313466, -0.003446354660866291, -0.005736617980745429, 0.0031314946415781364, -0.003978974037582184, -0.009464953617757565, 0.006646782527904627, -0.020756484404138575, -0.00941169168008571, -0.02096953215482511, 0.003664114018294029, 0.002865184953220634, 0.01780515847010644, -0.008106774207131018, -0.010743240121875886, -0.002301223000927166, -0.011835109844144043, -0.00685511867184907, 0.0013472197295785193, 0.0021195178258173186, -0.007387738048564074, -0.003632771442717342, 0.021000874730402685, 0.005501650867964614, -0.016175957764381188, -0.010716609153040402, -0.012740562784562037, -0.0025409017204482964, -0.008346452926653924, -0.00392571209990944, -0.010982918841398792, -0.00427191469477517, -0.01593627904485828, -0.006189344450953982, -0.0048045340714919504, -0.01508408804211303, -0.0035262475673727423, 0.0024923513895185323, 0.010082177507723777, -0.008692655521519654, -0.0007033648707786, 0.008537581315247067, -0.008506238739669492, -0.0013158771540018321, 0.0033978043299356386, -0.01497756416676932, -0.009225274898236435, -0.011701954999964848, 0.009469665224498769, 0.003823899831308708, 0.013890406051242365, -0.0054703082923879265, 0.007312556748798826, 0.001080910041221017, 0.0025988752648613556, -0.017667292019185155, 0.014316501552615435, -0.006029558637938415, 0.0050489243977560605, 0.0074457115929780215, -0.003925712099911216, 0.014609442209809309, 0.006460365746053576, 0.005901115400501311, 0.0032380185169200715, -0.003393092723193547, 0.013996929926586077, 0.014982275773511411, -0.003233306910178868, 0.01442302542795737, 0.007046247060440436, 0.0004151358203259292, 0.003504328205278462, 0.0007080764775198034, -0.014604730603068106, 0.022705256735894963, 0.008697367128260858, 0.004489674052202908, 0.004329888239189117, 0.005075555366591544, -0.005630094105401717, -0.004005605006417667, 0.0025456133271895, -0.0034996165985381467, 0.0060342702446813945, 0.0033179114234300755, 0.0002020880696402827, 0.014556180272138342, 0.0010542790723855333, 0.0015868984491005378, -0.01239436018969542, -0.01218131243901066, 0.008830521972440053, -0.005816510887252768, -0.015456921605814244, 0.006034270244679618, -0.0027539494711357193, -0.0001973764628981911, 0.0008678622905344824, -0.0026740565646266035, -0.011036180779070648, -0.02030375793393091, 0.008723998097096342, 0.023557447738641102, -0.019052102398646298, -0.014844409322590124, 0.0031048636727417644, -0.0014224010293446554, 0.006060901213516878, 0.0021195178258173186, 0.009389772317992318, -0.0001973764628981911, 0.013517572487541152, -0.0033131998166862076, 0.005661436680979293, -0.00453822438313356, -0.0032066759413442725, 0.02225253026568552, -0.006748594796505358, 0.007099508998112292, 0.0031581256104153965, -0.011355752405100006, 0.011227309167662014, 0.02968257057087431, 0.009682712975186192, -0.020649960528794864, -0.0027006875334629754, 0.007152770935784147, -0.02379241485142103, -0.0006234719642712605, 0.020228576634164774, -0.006056189606775675, -0.014604730603068994, 0.0012140648854002123, 0.02209274445267173, -0.024751129729509103, -0.002807211408806687, -0.011542169186951057, 0.0029717088285634574, 0.01042838010258862, 0.02712599756263767, -0.001156091340986265, -0.00022400743173367488, 0.0009743861658773056, 0.011253940136497498, 0.014955644804675039, 0.018604087535179836, 0.006087532182350586, 0.011227309167662902, -0.012687300846889293, -0.0006234719642703723, -0.0012093532786590089, 0.0031048636727426526, 0.009016938754291992, -0.0027006875334629754, -0.007600785799250609, 0.000281980976146734, 0.013038215048496227, -0.01415200413286044, -0.010183989776325397, -0.0012626152163308646, -0.007600785799251497, -0.0041653908194332345, 0.003344542392264671, 0.011733297575542423, -0.0013158771540027203, -0.015243873855126822, -0.006801856734178102, 0.006114163151187846, -0.01194163371948953, 0.011253940136497498, 0.007978330969694802, -0.005816510887252768, 0.010987630448139996, 0.008564212284081663, -0.005044212791013081, -0.0035262475673727423, -0.0002772693694055306, 0.0040902095196670984, 9.556419429568308e-05, 0.013570834425213896, 0.014476287365630114, 0.00864410519058989, 0.02017531469649292, 0.010321856227244908, -0.00038379324474835386, -0.010769871090712257, -0.011915002750651382, -0.008346452926653924, -0.0020349133125678875, 0.0005749216333406082, 0.008004961938530286, 0.009682712975185304, 0.001427112636086747, -0.004964319884505741, -0.013299813130113414, -0.016335743577395867, 0.018257884940314995, -0.001662079748867562, -0.0014490319981801392, -0.010556823340025723, 0.000281980976146734, -0.015510183543485212, -0.005869772824922848, 0.009016938754291104, 0.0014803745737577145, -0.009864418150295151, 0.0018798391062953002, 0.006992985122769468, 0.007099508998114068, -0.005523570230058894, 0.00219941073232377, 0.005022293428920577, 0.01034848719608128, -0.0003571622759119819, 0.006646782527904627, 0.005581543774471953, 0.0006281835710124639, -0.003393092723193547, 0.004063578550831615, 0.0077652832190073795, -0.011382383373936378, -0.007840464518773516, 0.0006548145398488359, -0.01068997818420403, -0.012713931815725665, -0.016335743577395867, 0.01223928598342372, -0.00906548908521998, 0.007126139966948664, -0.004138759850597751, 0.014130084770765272, -0.0012892461851663484, -0.008373083895489408, -0.013539491849635432, 0.014875751898168588, -0.0062692373574622096, -0.004591486320806304, -0.002966997221821366, 0.007206032873456003, 0.0014803745737577145, -0.00022400743173367488, -0.010663347215369434, 0.01572794290091384, -0.0017686036242103853, -0.015962910013693765, 0.003051601735071685, 0.0018532081374598164, 0.004782614709398558, -0.0034996165985372585, -0.01660205326575248, -0.006588808983490679, -0.011595431124622024, -0.010210620745160881, 0.015781204838584806, 0.012452333734108478, 0.0016401603867732817, -0.010183989776324509, 0.00222604170116103, -0.0004903171200911771, -0.0007033648707777118, -0.005550201198895266, -0.008639393583847799, -0.0004903171200911771, 0.0016135294179369097, 0.0052087102107707395, 0.011147416261156451, 0.009096831660797555, 0.012026238232737185, -0.015590076449992551, -0.012341098252024452, -0.013832432506829306, -0.007440999986236818, -0.005390415385880587, -0.006801856734177214, -0.00523062957286502, 0.014822489960496732, 0.011040892385811851, -0.005709987011909057, -0.00022400743173367488, -0.017241196517812973, -0.0007033648707786, 0.005767960556322116, 0.002092886856981835, -0.013912325413336646, 0.002838553984384262, -0.0004636861512565815, -0.019957555339064292, 0.013304524736856393, 0.008191378720380449, -0.012048157594831466, 0.001427112636086747, 0.0023059346076674814, 0.003664114018294029, -0.006056189606774787, 0.01820462300264314, -0.010982918841397904, 0.01146698788718492, -0.02190161606407859, 0.027605355001682597, 0.007898438063186575, 0.0027320301090405508, -0.003978974037582184, -0.007440999986236818, 0.0017999461997888488, -0.0006234719642703723, 0.006540258652560915, -0.005283891510535987, 0.005315234086114451, 0.010455011071424103, -0.006322499295133177, 0.004702721802891219, 0.01932312369374678, -0.008666024552683282, -0.010077465900981686, 0.007871807094351091, -0.011968264688324126, 0.005634805712142921, -0.0007299958396140838, -0.008186667113639245, 0.012745274391304129, 0.002226041701160142, -0.009464953617757565, 0.009895760725871838, -0.0226739141603165, -0.013699277662651, -0.0025409017204482964, -0.0043518076012842855, -0.012420991158530903, -0.0027006875334620872, 0.012132762108080897, 0.00017545710080302257, 0.009229986504975862, 0.014822489960496732, -0.006375761232804145, -0.014551468665395362, 0.006273948964202525, 0.013544203456376636, 0.005767960556322116, 0.0016667913556078773, -0.017507506206170476, 0.0016401603867732817, 0.008111485813873998, -0.01188837178181501, 0.001906470075130784, -6.42216187189959e-05, 0.002332565576502965, 0.005341865054949935, 0.0010276481035482732, 0.013650727331722123, -0.0020615442814042595, 0.001959732012803528, 0.011653404669035972, -0.002461008813941845, 0.016686657779001912, -0.009891049119129747, 0.003823899831308708, 0.008590843252918035, 0.00020208806963939452, -0.006375761232805033, -0.012634038909218326, -0.007520892892744158, 0.0003618738826549617, 0.006992985122769468, 0.003850530800144192, 0.007126139966948664, -0.004804534071491062, 0.01383714411357051, -0.017480875237334104, -0.007201321266713023, 0.000441766789161413, -0.0011294603721516694, 0.004063578550831615, -0.00421865275710509, -0.005390415385878811, -0.005124105697521308, -0.004058866944088635, -0.00746763095507319, 0.0006814455086843196, 0.004463043083368312, -0.011329121436264522, 0.006433734777218092, 0.0038771617689805637, 0.01154688079369226, 0.003664114018294029, 0.00022871903847576647, -0.000969674559135214, -0.006535547045818824, -0.005363784417043327, -0.006828487703013586, -0.02147552056270552, -0.011488907249278313, -0.007387738048564962, -0.014072111226352213, -0.0033664617543580633, 0.011600142731364116, -0.01284708665990486, -0.011462276280441941, 0.013544203456377524, 0.014769228022823988, -0.007467630955071414, -0.011835109844144043, -0.01670857714109797, -0.010823133028384113, 0.001267326823072068, 0.005102186335427028, -0.003286568847851612, -0.002940366252985882, -0.011116073685576211, 0.011413725949513065, 0.003664114018294029, 0.00046839775799689676, -0.004591486320805416, 0.007072878029276808, 0.01684644359201659, 0.0007879693840271429, -0.015536814512320696, 0.010055546538887405, 0.007312556748798826, 0.01815136106497217, 0.0007080764775198034, 0.011440356918349437, 0.001906470075131672, 0.013304524736856393, -0.0007566268084504557, 0.008644105190589002, 0.002545613327190388, 0.010534903977931442, -0.0027273185022993474, 0.00547501989912913, 0.008191378720380449, 0.010534903977931442, 0.003690744987130401, 0.015008906742346895, 0.008058223876201254, -0.004857796009162918, -0.02283369997333118, -0.020090710183244376, 0.0043565192080237125, -0.002487639782777329, -0.0001441145252254472, 0.0033978043299356386, -0.0005435790577630328, -0.0038191882245675046, -0.017081410704798294, 0.020920981823895346, 0.0041967333950090335, 0.011174047229991935, -0.003073521097164189, 0.0021727797634891743, 0.011040892385811851, -0.01849285205309581, -0.0020615442814033713, 0.00984249878820087, -0.011994895657158722, 0.008484319377574323, -0.004857796009164694, -0.015430290636977873, 0.007738652250172784, 0.011147416261155563, -0.0060828205756102705, 0.013863775082406882, -0.0061893444509522055, 0.0010276481035491614, -0.009624739430772244, 0.0033978043299356386, 0.004835876647068638, -0.014178635101695036, 0.0073125567487997145, 0.0077652832190073795, -0.00839971486432578, -0.0010761984344789255, -0.004751272133820095, 0.0037440069248013685, -0.003978974037582184, 0.0019597320128026396, 0.0048891385847413815, -0.0032066759413442725, 0.013304524736856393, -0.018199911395901935, 0.014396394459123663, -0.009331798773577482, 0.0010010171347136776, -0.0017952345930467573, -0.004138759850596863, -0.003792557255732021, 0.001400481667250375, 0.0028918159220552297, -0.02480439166718007, 0.004303257270353633, 0.014396394459122774, 0.004622828896382103, 0.014582811240973825, 0.009443034255662397, -0.012128050501338805, -0.004831165040327434, 0.007578866437156329, 0.004409781145696456, -0.0026740565646274916, -0.010583454308860318, -0.0011028294033152974, -0.013646015724979144, 0.002865184953219746, -0.001662079748867562, 0.019110075943060245, 0.012159393076915492, -0.0103437755893383, -0.0010761984344798137, 0.00880389100360457, 0.0024657204206830485, 0.009629451037513448, 0.003850530800144192, -0.0057366179807445405, -0.0034996165985372585, 0.001586898449101426, -0.016921624891783615, 0.00821800968921682, 0.0004417667891605248, 0.002119517825818207, 0.006779937372082934, -0.00019737646289730293, -0.009864418150295151, -0.009624739430772244, 0.0033978043299356386, -0.0034729856297017747, -0.0036594024115519375, -0.014871040291427384, 0.006833199309753901, -0.0042985456636115416, -0.012740562784562037, 0.0010276481035500495, -0.0018484965307168366, -0.0020615442814042595, 0.012718643422467757, 0.003211387548085476, 0.029735832508546167, 0.009123462629634815, -0.0005702100265985166, -0.009145381991728208, -0.00746763095507319, 0.012026238232737185, -0.0012093532786581207, -0.004884426978000178, 0.0010276481035491614, -0.0009696745591361022, 0.00385053080014508, 0.011626773700198711, 0.0003618738826540735, 0.006247317995367041, -0.0025409017204482964, -0.0064556541393132605, 0.002705399140205067, -1.095968104714018e-05, -0.019478197900020255, 0.012505595671781222, 0.0024657204206839367, -0.005896403793760108, -0.00230122300092539, -0.0012626152163299764, -0.007867095487610776, -0.019451566931183883, 0.006593520590231883, 0.002039624919309979, -0.010130727838653542, 0.004649459865218475, -0.010583454308861207, -0.003126783034836933, -0.008559500677341347, -0.008479607770832231, -0.0027539494711357193, 0.004835876647068638, 0.009043569723126588, 0.0029717088285634574, -0.010503561402354755, 0.01066805882210975, -0.0027006875334638636, -0.006162713482118498, 0.015008906742346007, -0.014950933197933836, 0.001080910041221017, 0.00038850485148955727, -0.003872450162238472, 0.0076321283748290725, 0.0008944932593708543, 0.004995662460084205, -0.007254583204385767, 0.005075555366591544, -0.01335307506778527, -0.011542169186950169, -0.0007033648707768236, -0.0010495674656434417, 0.008031592907364882, 0.0017999461997888488, -0.0015022939358519949, -0.0020082823437324038, 0.004223364363846294, 0.003930423706651531, -0.014311789945874231, -0.01644226745273869, 0.009815867819364499, 0.000281980976146734, 0.0007613384151907709, -0.005177367635192276, -0.0030202591594923334, -0.003286568847851612, -0.007227952235549395, -0.002487639782777329, -0.006961642547191893, -0.004378438570118881, -0.01098291884139968, 0.004036947581996131, -0.008479607770832231, -0.0033398307855216913, 0.016553502934822717, 0.0220394825149981, 6.893322545931113e-05, -0.01764066105034967, -0.007520892892744158, 0.007818545156681012, -0.004138759850597751, -0.0059230347625955915, 0.010455011071424991, 0.020281838571835742, -0.0004104242135838376, -0.0019550204060614362, 0.006407103808382608, -0.002274592032089906, -0.013033503441755023, 0.0033179114234300755, 0.006300579933038897, 0.006992985122769468, 0.02896353441230648, 0.008723998097096342, -0.0009164126214642465, -0.006215975419789466, 0.010241963320739345, 0.006114163151187846, -0.020676591497630348, 0.003770637893635964, 0.006380472839547124, 0.004463043083368312, 0.009283248442648606, -0.007627416768086981, 0.013544203456378412, -0.008772548428026994, -0.005417046354715183, 0.010508273009095959, 0.0032646494857555552, 0.0011608029477283566, -0.006082820575611159, -0.0013957700605082834, -0.0020615442814042595, 0.025181936837623375, 0.0010542790723846451, 0.005581543774471953, -0.004405069538954365, -0.015616707418829812, 0.008431057439902467, -0.007600785799250609, 0.0018265771686234444, 0.002705399140205067, -0.002274592032090794, -0.0013425081228364277, -0.0033930927231944352, -0.009278536835907403, 0.0026521372025332113, 0.003983685644323387, 9.556419429657126e-05, -0.012314467283189856, -0.001182722309822637, 0.009016938754291992, 0.005075555366591544, -0.013326444098949786, -0.004005605006417667, -0.01524387385512771, 0.0076321283748290725, -0.0011560913409871532, 0.004196733395009922, -0.00685511867184907, 0.003637483049457657, -0.003126783034836045, 0.0021727797634891743, 0.007578866437157217, -0.0037925572557311327, -0.0006501029331067443, -0.013432967974292609, 0.00041513582032504104, 0.01298495311082526, -0.003739295318060165, 0.008670736159426262, 0.009336510380320462, -0.00959810846193676, -0.021182579905510757, 0.0026787681713695832, -0.00677522576534173, 0.014849120929331328, 0.0021727797634891743, -0.013113396348263251, 0.0002287190384739901, -0.003632771442717342, -0.010769871090712257, -0.0013691390916727997, -0.024165248415122242, 0.007419080624143426, -0.011622062093457508, 0.009176724567305783, 0.0061940560576960735, 0.0032912804545937036, 0.0050489243977560605, -0.015962910013693765, 0.004463043083367424, 0.0032646494857564434, -0.016921624891783615, 0.008004961938530286, -0.012367729220859935, 0.0031314946415781364, -0.011382383373936378, 0.018550825597509757, -0.00805351226946005, -0.006801856734177214, 0.013677358300556719, 0.011919714357392586, -0.01037040655817556, -0.006269237357461321, 0.0005216596956696407, 0.010401749133752247, 0.0018532081374598164, 0.002092886856982723, -0.01385906347566479, -0.01242099115853268, -0.0029936281906559614, 0.0057945915251576, -0.002487639782777329, -0.01497756416676932, 0.002039624919309091, 0.006433734777217204, 0.0050222934289196886, 0.014209977677271723, -0.0096780013684441, 0.0063538418707107525, 0.013411048612198329, 0.012851798266646064, 0.014982275773510523, -0.0029137352841503983, 0.004516305021040168, 0.0039037927378169357, 0.0021727797634891743, 0.0061674250888597015, 0.004383150176860973, 0.0010542790723855333, -0.0062159754197885775, 0.0035842211117875777, -0.0007832577772859395, 0.009735974912858048, 0.014236608646108984, -0.011195966592084439, -0.012767193753397521, 0.0035842211117875777, 0.01008217750772289, 0.0019331010439671559, 0.009096831660798443, -0.0036061404738800817, 0.004729352771725814, -0.017081410704798294, 0.007259294811127859, 0.01623393130879247, -0.024751129729509103, 0.0008678622905335942, -0.016149326795543928, 0.00606090121351599, 0.0060342702446813945, 0.006939723185098501, -0.004005605006417667, -0.00983778718145878, 0.011520249824857665, -0.008133405175966502, 0.004036947581996131, -0.008772548428026106, 0.0008678622905335942, -0.006482285108148744, 0.0010276481035491614, -0.01175521693763848, -0.0030468901283287053, 0.015887728713929405, -0.014684623509575445, 0.0023059346076683696, 0.0063538418707107525, 0.01788505137661378, -0.005949665731431963, -0.016548791328081514, -0.007068166422534716, 0.0008944932593708543, 0.01745895587524071, 0.008857152941275537, 0.0010276481035500495, -0.0002772693694055306, -0.012128050501338805, -0.001182722309822637, 0.008431057439903356, 0.010588165915603298, 0.001906470075131672, 0.01101426141697548, 0.008191378720381337, -0.009837787181459667, -0.004085497912925895, -0.01385906347566479, 0.00864410519058989, -0.004698010196149127, -0.003925712099910328, 0.007206032873456891, 0.008004961938529398, 0.007365818686470682, -0.006349130263967773, 0.0029184468908907135, 0.0018265771686234444, 0.01873724237935903, -0.00581651088725188, 0.01660676487249635, -0.019797769526049613, -0.009145381991728208, 0.00709950899811318, -0.003899081131074844, -0.0011560913409871532, -0.005337153448208731, 0.013517572487541152, -0.018892316585632507, 0.002359196545339337, -0.009864418150295151, 0.014902382867003183, -0.008905703272206189, -0.005257260541700504, -0.0004636861512565815, 0.007818545156680123, 0.00544838893029187, 0.00350432820527935, 0.0016667913556078773, -0.004005605006417667, -0.003552878536209114, 0.001080910041221017, -0.007840464518772627, -0.015776493231843602, -0.004271914694776058, 0.014662704147481165, -0.003739295318059277, 0.007206032873456003, 0.011307202074170242, -0.019824400494885097, -0.00650891607698334, -0.004724641164984611, -0.007680678705759725, -0.009624739430772244, 0.01221265501458646, 0.004409781145697345, -0.009438322648922082, 0.009789236850528127, 0.0010276481035482732, -0.004564855351968156, -0.002354484938599022, -0.003073521097164189, -0.0030202591594923334, -0.0027273185023002355, -0.002594163658120152, -0.006082820575611159, 0.0037706378936368523, 0.005475019899130018, 0.005341865054949935, -0.0026207946269547477, 0.0023325655765038533, 0.005448388930292758, 0.006433734777217204, 0.0035842211117875777, 0.0016401603867732817, -0.003233306910178868, -0.015563445481157068, -0.007227952235549395, 0.004489674052202908, -0.011249228529756294, -0.004192021788268718, 0.002891815922056118, -0.01412537316402318, -0.007946988394117227, -0.009278536835907403, -0.000543579057763921, 0.009443034255662397, -0.004138759850596863, -0.0014490319981801392, 0.005874484431664939, 0.003770637893635964, 0.01215939307691638, 0.006220687026530669, -0.0016088178111948181, 0.010747951728617977, -0.016229219702051267, -0.0033131998166862076, -0.001182722309822637, 0.0001488261319675388, 0.0083777955022315, 0.00744571159297891, -0.013140027317099623, 0.01197297629506533, -0.009891049119130635, 0.013570834425213896, 0.0007347074463552872, -0.008000250331789083, -0.0017153416865385296, 0.005501650867964614, 0.009789236850528127, -0.01995755533906518, -0.015616707418828035, 0.008351164533396016, 0.01008217750772289, -0.005550201198894378, -0.016282481639723123, 0.003983685644323387, 0.0028918159220552297, 0.0017733152309515887, -0.01053019237118935, 0.012372440827602027, 0.0028119230155496666, -0.012181312439009773, 0.012665381484795901, 0.006114163151186958, 0.0045695669587120236, -0.008053512269460938, -0.007867095487609, -0.023765783882584657, 0.002092886856981835, 0.007605497405993589, -0.010929656903726048, -0.008772548428026994, 0.017991575251957492, 0.008590843252917146, -0.004085497912925895, -0.00549693926122341, 0.01375725120706317, 0.009070200691962071, -0.01987766243255784, -0.0017419726553740134, 0.011174047229991046, 0.0021727797634891743, -0.003792557255732021, 0.0007080764775198034, 0.001586898449101426, -0.009305167804742887, 0.004196733395009922, -6.422161871810772e-05, 0.008324533564560532, 0.003797268862472336, -0.006029558637938415, -0.005656725074237201, 0.019189968849567585, -0.0049376889156702575, -0.0033131998166862076, 0.004809245678234042, 0.008297902595723272, 0.007552235468321733, 0.006486996714888171, 0.0040902095196670984, -0.013140027317098735, 0.0051288173042634, 0.004276626301518149, 0.002998339797398941, 0.00984249878820087, -0.02302011675518223, 0.002252672669996514, 0.002012993950473607, 0.00046839775799778494, 0.007898438063186575, -0.013432967974292609, -0.007494261923907786, 0.007605497405993589, 0.00667341349674011, 0.0018798391062953002, 0.0019863629816390116, 0.007179401904620519, 0.018790504317031775, 0.0018798391062953002, -0.0033398307855216913, -0.00650891607698334, 0.00539512699262179, -0.007121428360206572, -0.0026474255957911197, -0.0017686036242094971, -0.014737885447246413, -0.003765926286895649, 0.0002553500073121384, 0.007498973530648989, 0.012771905360139613, 0.000601552602176092, 0.0032912804545937036, -0.0025409017204491846, -0.00357950950504371, 0.01136046401184121, 0.0028119230155487784, -0.0044849624454625925, 0.005954377338172279, -0.007813833549937144, -0.00163544878003119, 0.009709343944022564, 0.0034510662676083825, 0.0029717088285625692, 0.007099508998112292, 0.007498973530648989, 0.011759928544377907, 0.005102186335427916, -0.006109451544446642, 0.004329888239189117, -0.0010495674656434417, 0.010801213666289833, 0.015221954493034318, -0.0009963055279724742, 0.006726675434411966, -0.0029669972218204776, 0.0016934223244451374, -0.021768461219898505, 0.008723998097096342, -0.004245283725939686, -0.006002927669102931, 0.004622828896383879, 0.014875751898168588, -0.0029137352841503983, -0.0028871043153140263, 0.012186024045750976, -0.009624739430772244, 0.003371173361101043, 0.0004950287268341569, 0.0014271126360876352, 0.016899705529688447, -0.012154681470174289, 0.007019616091604952, -0.009891049119129747, 0.007925069032022947, 0.011307202074170242, 0.00616742508886059, 0.007845176125515607, 0.008750629065933602, -0.0035262475673727423, -0.002434377845104585, -0.00198165137489692, -0.003579509505044598, 0.009522927162171513, 0.013464310549871072, 0.010694689790946121, -0.012367729220860824, 0.00025535000731036206, -0.004431700507789849, -0.009970942025637974, 0.012851798266646952, -0.015856386138350942, -0.006295868326297693, 0.00033524291381770155, -0.01814664945823008, 0.021533494107119466, -0.003100152066001449, -0.004990950853343001, 0.0031048636727417644, 0.001693422324443361, 0.011999607263900813, -0.0010495674656434417, -0.004351807601283397, -0.004032235975253151, -0.005417046354715183, -0.0063491302639668845, -0.0025675326892846684, -0.015536814512321584, 0.0005482906645051244, -0.012048157594831466, 0.005448388930293646, 0.00443641211453194, -0.0012892461851663484, 0.00957618909984248, -0.02214129478359972, -0.015696600325335375, -0.005736617980743652, -0.011542169186951057, 0.008164747751545853, 0.007285925779964231, 0.01428987058378084, -0.007680678705757948, -0.004671379227312755, -0.007946988394117227, 0.008404426471066984, -0.020223865027422683, -0.0007033648707786, -0.0012093532786581207, -0.015776493231842714, 0.011520249824856776, -0.00363277144271823, 0.002092886856981835, 0.0039037927378160475, -0.012713931815725665, -0.0027006875334629754, -0.0029936281906559614, -0.01644226745273869, 0.0017200532932806212, -0.007467630955072302, 0.0023059346076674814, -0.006695332858834391, -0.017001517798290955, -0.001795234593044981, -0.005896403793760108, -0.006748594796505358, -0.007627416768086981, -0.007307845142057623, -0.005683356043073573, -0.013512860880800837, -0.006349130263968661, -0.0006234719642712605, -0.011808478875308559, 0.022811780611237786, 0.0030782327039062807, 0.005608174743307437, -0.0014756629670173993, 0.015435002243719964, -0.012101419532503321, 0.005288603117278967, -0.011355752405099118, 0.0013472197295785193, 0.0037173759559649966, 0.007818545156679235, 0.0017999461997888488, 0.006913092216263017, -0.010503561402353867, -0.011781847906473075, 0.009762605881693531, 0.01711275328037498, -0.014578099634232622, -0.0033131998166870957, -0.007600785799251497, -0.010583454308860318, 0.014343132521452695, -0.004138759850597751, 0.011253940136497498, -0.01284708665990486, -0.0009430435903006185, -0.007307845142056735, 0.013384417643362845, 0.006806568340917529, 0.0108544756039608, -0.004005605006416779, -0.007148059329042944, -0.007414369017401334, -0.0007566268084504557, 0.005182079241935256, -0.0012359842474936045, 0.014130084770765272, 0.008670736159426262, -0.0044583314766262205, -0.010183989776325397, -0.00991768008796523, 0.01351757248754204, 0.002092886856981835, 0.01136046401184121, -0.00650891607698334, -0.014125373164024069, -0.00038379324474835386, -0.002461008813941845, 0.007419080624142538, 0.008617474221754406, 0.004835876647069526, 0.004143471457338066, -0.025203856199718544, -0.00198165137489692, 0.005767960556322116, -0.013166658285935107, 0.007605497405993589, 0.0004950287268341569, -0.013246551192441558, 0.0013738506984148913, -0.02499080844903112, 0.0024657204206821604, -0.007813833549937144, -0.01780044686336435, 0.0011874339165638403, -0.007494261923908674, -0.02429840325930055, -0.012314467283188968, -0.007440999986236818, 0.005235341179607111, -0.018759161741453312, -0.016016171951364733, 0.002359196545339337, 6.893322546019931e-05, 0.011014261416976368, 0.006700044465576482, 0.01753884878174805, -0.009438322648922082, -0.007414369017400446, -0.00427191469477517, -0.011036180779071536, 0.004116840488501694, 0.026140651715712337, 0.01447628736563189, 0.015967621620435857, 0.013570834425213896, -0.011249228529757183, 0.008138116782709481, 0.016393717121808926, -0.008879072303370705, -0.00198165137489692, -0.0023278539697617617, -0.0011028294033144093, -0.004032235975254039, -0.005709987011909057, -0.006455654139312372, -0.008692655521518766, -0.0035262475673736304, -0.0008897816526287627, -0.007014904484864637, -0.01385906347566479, 0.007765283219009156, -0.00046368615125569335, 0.021187291512253736, 0.0006548145398488359, 0.012958322141989775, -0.01199489565715961, 0.009842498788201759, 0.01136046401184121, 0.008830521972440941, 0.025368353619474426, 0.002012993950473607, -0.0025675326892846684, -0.013326444098948897, -0.001182722309822637, 0.011759928544377907, -0.0025409017204491846, -0.010263882682831849, 0.014449656396793742, 0.01274527439130324, 0.015408371274885369, 0.0022526726699956257, -0.016468898421575062, -0.019664614681870418, 0.00219941073232377, 0.003344542392264671, -0.005949665731431075, 0.001746684262116105, 0.004063578550831615, -0.016442267452737802, 0.005634805712143809, 0.00582122249399486, 0.0024657204206821604, 0.00845768840873884, 0.003957054675487015, -0.013033503441755023, -0.00033053130707649814, 0.020974243761566314, 0.006966354153933096, -0.007893726456445371, -0.005017581822178485, -0.01636237454623135, 0.009735974912858936, 0.01777852750127007, 0.0031048636727417644, 0.006327210901875269, 0.007312556748798826, -0.01130249046742815, -0.003446354660866291, -0.02120921087434624, -0.0049110579468338855, -0.0016088178111948181, 0.008803891003605457, -0.009624739430773133, 0.00094775519704271, -0.0062159754197885775, 0.004303257270353633, 0.01780515847010733, 0.003211387548086364, -0.010210620745159993, 0.01522195449303343, -0.0013957700605091716, -0.001182722309822637, 0.0015070055425923101, 0.00880389100360457, 0.0055282818368000974, -0.013086765379427767, -0.009651370399609505, -0.016389005515066835, 0.0009477551970418219, 0.021080767636910025, 0.0033179114234300755, 0.007392449655306166, 0.0029184468908907135, -0.010397037527011044, 0.001080910041221017, 0.0083777955022315, -0.003739295318059277, -0.012314467283189856, 0.008910414878947392, -0.00033053130707649814, 0.0025456133271895, 0.024809103273922162, -0.012314467283189856, -0.010476930433517495, 0.010588165915603298, -0.001475662967015623, -0.0018218655618831292, 0.008883783910111909, -0.011755216937637591, -0.007813833549938032, 0.0006015526021769801, 0.0008678622905344824, -0.0014224010293446554, -0.002114806219075227, -0.002461008813940957, 0.005395126992620902, -0.006242606388625838, -0.009118751022892724, -0.001342508122837316, 0.004303257270352745, -0.00906548908521998, 0.007285925779964231, -0.004058866944089523, 0.005261972148443483, -0.017614030081514187, -0.0012093532786581207, -0.0003571622759128701, -0.014444944790053427, -0.007334476110893995, 1.567128778923177e-05, 0.018843766254702743, -0.01106281174790702, -0.00515073666635768, 0.00012219516313205503, 0.0026787681713695832, -0.005417046354716071, 0.0006281835710115757, 0.006859830278590273, -0.0036860333803883094, -0.0072013212667148, 0.009549558131007885, 0.001586898449101426, -0.001315877154000944, 0.012186024045750976, 0.004063578550831615, -0.004058866944089523, -0.001022936496807958, 0.0006015526021752038, -0.016042802920201105, 0.0026521372025340995, -0.009970942025637974, -0.011009549810235164, -0.019398304993512916, 0.008431057439903356, 0.004995662460084205, 0.003078232703907169, -0.006189344450953094, 0.003024970766235313, -0.0020881752502397433, -0.013219920223605186, 0.01532847836837714, 0.00614079412002333, -0.004511593414298076, 0.012745274391304129, 0.009735974912858048, -0.0006501029331067443, -0.00038379324474835386, -0.0009430435903006185, -0.005070843759850341, 0.004862507615904121, -0.02062332955996027, -0.007414369017399558, -0.006029558637939303, -0.004511593414298076, 0.0015336365114295702, -0.013033503441755023, -0.009438322648922082, -0.005177367635193164, 0.012052869201573557, 0.016074145495779568, -0.005550201198895266, 0.0066467825279037385, -0.015883017107185537, 0.009096831660798443, -0.007574154830415125, -0.0026740565646266035, -0.002141437187911599, 0.011174047229991046, -0.011409014342770973, 0.0012406958542365842, 0.009656082006350708, 0.008484319377575211, 0.0317597861400678, 0.01325126279918365, -0.020836377310645915, -0.002727318502298459, -0.005257260541700504, 0.0032646494857573316, -0.011195966592085327, 0.031120642888009087, -0.010556823340025723, 0.006646782527904627, -0.013566122818470916, -0.010157358807488137, 0.0036108520806221733, 0.005714698618651148, 0.0061940560576960735, 0.009629451037514336, -0.005363784417043327, -0.013646015724979144, -0.010397037527011044, 0.009842498788199983, -0.010982918841398792, 0.008404426471066984, -0.009811156212625072, -0.009411691680086598, 0.005714698618651148, 0.014343132521450919, -0.0040056050064185555, -0.005443677323550666, 0.0033978043299356386, 0.00965608200634982, 0.005288603117278079, -0.014391682852380683, -0.011728585968800331, 0.017139384249211354, 0.011759928544378795, 0.007685390312500928, 0.009735974912858048, -0.0013691390916736879, -0.01327318216127793, -0.010210620745159993, 0.01658013390365909, 0.011919714357393474, -0.005363784417043327, 0.0015336365114304584, 0.0034510662676074944, 0.01982911210162719, 0.009549558131006108, 0.008830521972440053, 0.013544203456376636, -0.005683356043073573, 0.017379062968733372, -0.00453822438313356, -0.0031534140036724168, 0.014929013835839555, -0.005949665731431963, -0.006588808983490679, -0.008160036144802874, -0.011195966592084439, 0.0021727797634891743, -0.008026881300624567, -0.00547030829238615, -0.019025471429811702, -0.00419202178826783, -0.009411691680087486, -0.011888371781816787, 0.008004961938530286, -0.010317144620502816, -0.001955020406060548, -0.01170195499996396, 0.008777260034768197, -0.0042985456636115416, 0.02369060258281852, 0.008510950346410695, -0.003872450162238472, -0.00025063840056915865, -0.005656725074238089, 0.001693422324443361, 0.010028915570051922, -0.010290513651666444, 0.004196733395009922, -0.003978974037581295, -0.005417046354716071, 0.004596197927547507, 0.0034244352987720106, 0.0037173759559649966, -0.015536814512321584, -0.022274449627779802, -0.0019283894372250643, 0.019616064350941542, 0.009629451037513448, 0.011946345326228958, -0.011675324031129364, 0.005288603117277191, 0.007658759343664556, 0.01650024099715175, 0.007392449655306166, 0.0007347074463561754, 0.0008146003528626267, 0.0039037927378160475, 0.009043569723127476, 0.00017545710080302257, -0.005550201198895266, 0.0037173759559649966, -0.004405069538953477, 0.01042838010258862, -0.004431700507790737, -0.0056034631365662335, 0.013890406051242365, 0.004569566958711135, -0.004911057946834774, 0.010588165915603298, -0.0038458191934021, -0.003978974037582184, -0.0017153416865394178, 0.01146698788718492, -0.010317144620503704, 0.022039482514999875, -0.0009696745591369904, 0.006886461247426645, -0.001795234593045869, 0.009283248442648606, 0.0037173759559649966, -0.015883017107186426, 0.0001488261319675388, 0.0016934223244451374, 0.010082177507722001, 0.0014004816672512632, 0.0012140648854002123, 0.00012219516313116685, -0.004271914694776058, 0.012665381484795901, 0.011919714357392586, -0.0044849624454625925, -0.01481777835375464, -0.008666024552682394, -0.00453822438313356, 0.0006281835710124639, 0.009602820068677964, 0.002518982358354016, 0.0031314946415772482, 0.004622828896383879, 0.002865184953220634, 0.0047559837405630745, -0.004724641164984611, 0.0006814455086852078, 0.0008146003528635148, 0.002359196545339337, -0.014152004132858664, -0.0012093532786572325, 0.0181247300961358, -0.001475662967015623, -0.00230122300092539, -0.01625585067088764, 0.0006281835710124639, 0.0016401603867732817, 0.010561534946767814, 0.008777260034769085, -0.0036860333803883094, -0.007440999986236818, -0.0016887107177021576, -0.016149326795543928, -0.009917680087967007, 0.009975653632380066, -0.0019017584683895805, -0.00831982195781844, -0.019398304993512916, -0.008373083895489408, -0.01300687247291954, -0.007227952235550283, -0.013486229911963576, 0.021613387013625918, 0.00574132958748752, -0.00038379324474924204, 0.0026787681713695832, 0.0076054974059927005, 0.012212655014588236, 0.002385827514175709, -0.0041653908194332345, -0.004138759850596863, -0.00025063840056915865, -0.00712142836020746, 0.009815867819364499, 0.009443034255663285, 0.00038850485149044545, 0.006620151559069143, 0.01540837127488448, -0.013752539600321079, -0.01284708665990486, -0.00821329808247473, -0.005337153448208731, -0.009464953617757565, 0.005554912805635581, -0.006828487703014474, -0.002940366252985882, -0.006322499295132289, 6.893322546108749e-05, 0.012984953110826147, -0.00845297680199586, -0.010689978184204918, 0.010481642040259587, -0.009997572994474346, 0.008031592907364882, -0.002168068156747971, -0.0021946991255834547, -0.01420526607053052, -0.0031534140036715286, 0.000601552602176092, 0.007046247060442212, 0.0020928868569809467, -0.008106774207131018, 0.006114163151187846, -0.008239929051311101, -0.007440999986237706, -0.005843141856088252, 0.011174047229991046, -0.006588808983490679, 0.01000228460121555, -0.005709987011909057, -0.002301223000926278, -0.0019283894372250643, 0.0006281835710124639, -0.0036327714427164537, -0.011062811747906132, 0.0024657204206830485, 0.004995662460084205, -0.007068166422534716, 0.011067523354647335, -0.003978974037582184, 0.009815867819364499, 0.004809245678234042, 0.011094154323483707, -0.0035528785362100024, 0.007578866437157217, 0.005767960556322116, -0.0019017584683895805, -0.002780580439971203, 0.008830521972440941, -0.017241196517812973, -0.002088175250238855, 0.009070200691962071, -0.002141437187910711, -1.0959681048028358e-05, -0.010583454308861207, 0.009176724567305783, -0.003446354660866291, -0.01130249046742815, 0.004516305021040168, -0.020410281809273734, -0.01497756416676932, -0.012394360189696307, 0.012425702765273883, -0.01670857714109708, 0.005235341179606223, -0.004484962445463481, -0.010769871090712257, 0.006833199309753901, 0.009869129757036355, -0.008186667113639245, 0.009283248442649494, -0.006535547045818824, -0.008559500677339571, -0.009571477493100389, 0.025368353619474426, -0.0027273185023002355, 0.0016934223244442492, -0.01290034859757494, 0.0029184468908898253, 0.003530959174114834, 0.00984249878820087, -0.013672646693816404, -0.01122259756092081, 0.001586898449101426, 0.0025456133271895, 0.0003618738826549617, 0.019695957257447105, -0.00746763095507319, -0.008080143238295534, -0.01891894755446799, -0.0036594024115510493, 0.018417670753329674, 0.0016667913556087655, -0.002434377845104585, 0.0039037927378151593, -0.0027273185022993474, 0.006327210901875269, -0.014498206727724394, -0.011036180779070648, -0.0027006875334638636, -0.004218652757104202, 0.0015070055425931983, -0.012980241504084056, -0.005230629572864132, -0.005044212791013969, -0.004085497912925895, -0.021928247032913184, -0.002487639782777329, -0.00030390033824101437, 0.0063538418707107525, -0.010636716246533062, 0.017565479750584423, 0.012159393076915492, -0.006242606388624949, 0.0001488261319675388, -0.004857796009163806, 0.007525604499486249, 0.013277893768019133, 0.0188970281923746, 0.006220687026532445, 0.0025189823583549042, -0.012740562784562037, -0.006935011578355521, -0.005736617980745429, -0.007733940643429804, 0.00832453356456142, -0.008639393583847799, -0.0017419726553749015, 0.023770495489324972, 0.002732030109041439, 0.029016796349981, 0.015781204838584806, -0.005976296700266559, 0.004303257270352745, 0.010241963320738456, 0.02888364150580003, -0.0026740565646266035, 0.0016135294179360216, -0.0048045340714919504, 0.005901115400501311, -0.019851031463722357, -0.007414369017399558, -0.007387738048564962, -0.011542169186951057, -0.011169335623248955, -0.005283891510535987, -3.759064988173577e-05, 0.0006281835710115757, 0.00930987941148409, -0.005576832167729862, -0.0017419726553749015, -0.001182722309822637, 0.01708612231153861, 0.01301158407966252, -0.0024077468762691012, 0.007312556748798826, -0.001342508122837316, 0.018098099127300316, 0.001933101043968044, 0.005981008307008651, 0.012106131139242748, 0.01650024099715175, -0.006429023170476, 0.003637483049457657, -0.006535547045818824, -0.0033398307855216913, 0.0008412313216998868, -0.00943832264892297, -0.007733940643429804, 0.019030183036552906, 0.023610709676310293, -0.01002420396330983, -0.0023811159074345056, -0.005017581822178485, 0.007845176125515607, 0.00025535000731036206, 0.004329888239188229, 0.010774582697455237, 0.002359196545339337, -0.005230629572865908, 0.004409781145696456, -0.0021946991255834547, 0.006513627683724543, 6.893322546019931e-05, 0.01101426141697548, -0.004032235975252263, 0.005182079241935256, 0.00385053080014508, 0.000281980976146734, -0.005550201198895266, 0.006034270244680506, -0.007893726456445371, -0.011542169186950169, -0.012793824722234781, -0.008985596178713529, -0.008985596178713529, 0.0076321283748290725, 0.007259294811127859, 0.011493618856021293, -0.0023544849385981337, 0.0034244352987720106, -0.010982918841398792, -0.011835109844144043, -0.0016887107177030458, 0.0019331010439671559, -0.011488907249277425, -0.004724641164984611, -0.00017074549406181916, -0.0020881752502397433, 0.002012993950473607, -0.0008631506837923908, 0.01231917888993106, -0.003126783034836933, -0.004431700507790737, -0.02192824703291496, 0.010295225258409424, -9.085258755536785e-05, 0.002252672669997402, 0.019562802413269686, -0.00874591745919151, 0.021267184418760188, 0.00965608200634982, -0.01172858596880122, 0.0014004816672512632, -0.006375761232804145, 0.011440356918348549, 0.013490941518705668, -0.009118751022891836, 0.003823899831308708, 0.0248889961804295, -0.011941633719487754, -0.004698010196149127, -0.008506238739668603, 0.0083777955022315, -0.006961642547191893, 0.005102186335427916, -0.002594163658120152, -0.009491584586593937, 0.004489674052203796, 0.013490941518705668, -0.0013957700605091716, 0.0031048636727426526, 0.006700044465575594, 0.0038771617689805637, -0.009944311056801602, -0.005203998604028648, 0.019003552067716534, -0.004671379227312755, -0.0011028294033144093, 0.006992985122769468, 0.013970298957750593, 0.016020883558106824, -0.007733940643429804, -0.003765926286895649, 0.012478964702945738, -0.009917680087966119, 0.012958322141989775, 0.009735974912858048, -0.00160881781119393, 0.004676090834053959, -0.011968264688323238, 0.004463043083368312, -0.006402392201640517, -0.005496939261222522, 0.0007080764775198034, 0.001453743604923119, -0.0067219638276698745, -0.005017581822177597, -0.00831982195781844, 0.0046760908340530705, -0.004085497912925895, 0.01050827300909507, 0.005288603117278967, 0.002359196545339337, 0.004356519208024601, 0.006407103808382608, 0.0007879693840271429, 0.011839821450886134, 0.0002287190384748783, 0.00930987941148409, 0.011600142731364116, -0.006988273516029153, 0.00582122249399486, -0.010689978184205806, 0.01034848719608128, 0.007498973530649877, -0.0067219638276698745, -0.01010409686981717, 0.00930987941148409, 0.0015336365114295702, -0.0007832577772859395, 0.007951700000859319, -3.759064988262395e-05, -0.0029137352841503983, -0.013725908631485595, -0.003100152066000561, -0.002620794626955636, -0.010077465900981686, -0.010476930433518383, -0.00033053130707649814, -0.00941169168008571, -0.019398304993512916, -0.00038379324474924204, -0.009012227147548124, -0.002620794626956524, 0.010694689790946121, 0.002012993950473607, 0.015328478368376253, -0.007600785799250609, 0.007072878029276808, 0.013251262799184538, 0.0020129939504744954, 0.012079500170408153, -0.005869772824924624, 0.00451630502103928, 0.01642034809064441, -0.001022936496807958, 0.0015336365114295702, 0.008937045847782876, -0.00360614047388097, 0.01309147698616897, -0.007547523861579641, -0.010343775589339188, -0.0026740565646266035, -0.01609606485787296, 0.0027320301090405508, 0.006859830278589385, -0.0007832577772868277, -0.001795234593045869, 0.015168692555360686, -0.0056034631365662335, -0.006935011578355521, -0.009464953617757565, -0.0026740565646257153, 0.005341865054949935, -0.003419723692030807, -0.020037448245573408, 0.007232663842292375, -0.005603463136565345, 0.0016667913556078773, -0.0009164126214651347, 0.0028119230155487784, -0.0034729856297017747, -0.005390415385879699, -0.004032235975253151, 0.005421757961455498, 0.016020883558105936, 0.01727253909339055, 0.000654814539849724, 0.012212655014588236, 0.0032646494857573316, 0.006833199309753013, -0.013273182161277042, 0.018630718504016208, 0.005554912805634693, 0.012186024045750976, 0.006087532182352362, 0.0007879693840262547, 0.0010010171347127894, 0.010534903977931442, -0.0062159754197885775, 0.011999607263900813, 0.0009477551970418219, -0.019291781118169204, 0.016020883558107712, 0.0011341719788910964, -0.004831165040327434, -0.0031800449725079005, -0.00419202178826783, 0.002705399140205067, 0.012265916952258316, 0.005341865054949935, -0.010024203963308942, -0.00035716227591109373, -0.004245283725939686, -0.007494261923907786, 0.00930987941148409, 0.029070058287651968, 0.012292547921094688, 0.004116840488502582, 0.0035842211117866896, 0.017032860373867642, 0.0008146003528626267, 0.005661436680979293, 0.021267184418760188, 0.007206032873455115, -0.008586131646176831, 0.006060901213516878, -0.023259795474705136, -0.0019283894372259525, 0.02044162438485042, -0.017267827486649345, -0.00017074549406181916, -0.010317144620504592, -0.007680678705758837, 0.0034244352987720106, 0.00041513582032504104, 0.0014803745737577145, 0.01221265501458646, -0.011355752405100006, -0.007440999986236818, -0.0016354487800320783, 0.0015070055425931983, -0.007520892892744158, 0.0023059346076674814, -0.011568800155785652, 0.01511543061768883, -0.005177367635193164, -0.013219920223605186, -0.003712664349223793, 0.00014882613196665062, -0.018040125582886368, 0.014636073178644793, 0.006433734777217204, -0.03045015706037102, 0.009549558131007885, 0.0007080764775198034, -0.01822654236473742, -0.007520892892744158, -0.006935011578355521, 0.013970298957749705, -0.008239929051311101, -0.00488442697799929, -0.002168068156747971, 0.017512217812912567, 0.0003618738826540735, 0.0122925479210938, -0.0234462122565553, -0.0077073096745952085, 0.003184756579249104, -0.00991768008796523, -0.010743240121876774, -0.0033131998166862076, -0.007520892892744158, -0.005203998604029536, -0.0018751274995532086, -0.010556823340025723, 0.0023059346076683696, 0.005128817304262512, 0.004010316613160647, -0.01250088406503913, -0.004378438570118881, 0.007179401904620519, 0.026034127840370402, -0.009118751022891836, 0.0027852920467132947, 0.0010542790723855333, 0.009443034255663285, -0.008426345833161264, -0.0006767339019413399, -0.001795234593045869, -0.006562178014654307, 0.0010276481035482732, 0.016473610028315377, 0.006566889621397287, 0.00864410519058989, -0.007547523861579641, -0.01574986226300723, 0.0007879693840271429, 0.020894350855058974, -0.003899081131074844, -0.011941633719486866, 0.002092886856981835, 0.007285925779964231, -0.005550201198894378, -0.013353075067784381, -0.0017419726553740134, 0.015035537711183267, -0.0018751274995540967, -0.022221187690108835, 0.003051601735071685, -0.0070415354536992325, -0.020570067622288413, 0.0008944932593699662, -0.0009164126214642465, -0.017747184925692494, -0.010796502059547741, 0.00829790259572416, -0.01010409686981717, -0.015696600325335375, -0.016575422296916997, -0.01830643527124476, 0.00417010242617355, -0.009145381991728208, 0.0017999461997888488, -0.004671379227312755, -0.013832432506829306, -0.00017074549406093098, -0.008932334241041673, -0.013486229911963576, 0.010215332351902084, 0.007712021281336412, 0.007845176125514719, 0.0040902095196670984, 0.0016934223244442492, 0.012345809858765655, 0.01626056227762973, 0.0002287190384748783, -0.001928389437223288, -0.0018751274995540967, 0.020947612792731718, 0.003557590142951206, -0.00523062957286502, -0.009331798773577482, 0.011280571105334758, -0.026242463984313957, 0.009283248442648606, -0.008719286490355138, 0.022199268328012778, -0.019558090806526707, 0.004676090834053959, 0.009975653632380066, -0.004484962445461704, 0.009283248442647718, 0.010455011071423215, 0.0026787681713695832, 0.007845176125516495, -0.0025142707516128127, -0.0048045340714919504, -0.003100152066000561, -0.0029936281906577378, -0.0029669972218204776, -1.0959681046252001e-05, 0.0063272109018743805, -0.0018751274995532086, -0.004911057946834774, 0.006673413496739222, -0.0014224010293446554, 0.018311146877985962, -0.0018484965307177248, 0.01436976349028729, 0.0007080764775198034, -0.009358429742414742, 0.0034244352987711224, 0.008244640658052305, 0.0037440069248013685, -0.0027006875334629754, 0.012931691173154292, -0.013512860880800837, 0.016633395841330945, -0.007920357425279967, 0.005714698618651148, 0.005901115400500423, -0.002301223000926278, -0.0002240074317327867, 0.00185320813745804, 0.007392449655306166, -0.007494261923907786, -0.01609606485787296, 0.002705399140205067, -0.02003744824557252, 0.021107398605746397, -0.002940366252984994, -0.009518215555429421, 0.004702721802889442, 0.010295225258409424, -0.0096780013684441, 0.018151361064971283, 0.017299170062226032, 0.010588165915604186, 0.0003618738826549617, -0.011488907249278313, -0.003100152066000561, 0.011387094980676693, 0.008351164533395128, -0.022221187690107946, -0.018386328177752098, 0.019056814005389278, 0.007445711592977133, 0.00451630502103928, -0.004751272133820095, -0.013219920223605186, -0.00453822438313356, -0.007760571612265288, 0.008138116782709481, 0.002012993950473607, -0.004564855351969044, 0.0068065683409184174, 0.0024923513895194205, -0.004884426978000178, -0.011089442716741615, -0.004431700507789849, 0.014822489960496732, 0.0021461487946536906, -0.0007832577772859395, 0.0033179114234291873, 0.011919714357393474, 0.001560267480265054, 0.009203355536141267, -0.0006234719642694841, 0.0037173759559658848, 0.00419673339501081, 0.006300579933038897, -0.0001441145252254472, 0.012931691173154292, -0.002088175250238855, 0.005581543774471953, 0.014369763490288179, -0.00975789427495144, 0.0007879693840253665, -0.014844409322589236, 1.567128778923177e-05, 0.014050191864257044, 0.008324533564560532, -0.01207478856366695, 0.003530959174114834, -0.019371674024677432, -0.0023544849385981337, 0.014130084770765272, 0.00038850485148955727, -0.009970942025637974, -0.002274592032089906, 0.00779191418784464, 0.019988897914642756, -0.005816510887252768, 0.00017545710080391075, -0.00033053130707560996, 0.007925069032022947, 0.00033524291381858973, 0.0014271126360858588, -0.006455654139312372, 0.00938977231799143, -0.013566122818470916, -0.001342508122837316, -0.004484962445461704, -0.012021526625994206, -0.009997572994475235, -0.0029936281906568496, 0.005288603117277191, 0.007525604499485361, -0.010689978184205806, -0.0035262475673727423, 0.0002287190384748783, 0.017885051376612893, 0.003024970766235313, -0.019371674024677432, -0.006349130263967773, 0.0009211242282072263, -0.013459598943128093, -0.0033664617543580633, -0.008426345833161264, -0.004378438570118881, 0.01136046401184121, 1.567128778923177e-05, 0.00478261470939767, -0.0008098887461223114, 0.007099508998112292, -0.00949158458659305, 0.0016934223244442492, -0.0096780013684441, 0.00012219516313205503, 0.004835876647068638, 0.003184756579249992, 0.010907737541632656, 0.011387094980675805, 0.005874484431664939, -0.007281214173222139, 0.006540258652560915, -0.00017074549406181916, -0.006162713482116722, -0.013725908631486483, -0.00022400743173456306, 0.002066255888145463, -0.010157358807489025, -0.0043518076012842855, -0.003126783034836045, 0.009043569723126588, -0.01284708665990486, 0.003211387548085476, 0.0023059346076683696, -0.0015022939358511067, -0.00831982195781844, 0.008937045847782876, 0.001400481667250375, -0.004112128881761379, -0.0012892461851663484, -0.0067219638276698745, 0.0040902095196670984, -0.00427191469477517, 0.011387094980677581, -0.0014490319981801392, 0.003211387548085476, 0.0021461487946536906, -0.030609942873387475, 0.007605497405993589, 0.002039624919309091, 0.016473610028316266, -0.02115594893667616, -0.004405069538954365, 0.0014271126360876352, 0.011227309167662014, -0.004511593414298076, 0.016500240997152638, -0.01042366849584564, 0.018604087535180724, -1.095968104714018e-05, -0.008026881300623678, 0.0032380185169209597, 0.005847853462830344, 0.005634805712142921, -0.010263882682830072, 0.0030249707662335368, -1.095968104714018e-05, -0.00488442697799929, 0.002359196545339337, -0.010210620745159993, 0.004116840488502582, -0.010610085277697578, 0.011999607263899925, -0.0047779031026555785, -0.007014904484864637, -0.012261205345517112, 0.007259294811127859, 0.013331155705690989, 0.0006015526021769801, -0.00035716227591375826, 0.020654672135536956, 0.006620151559068255, -0.005203998604028648, 0.001720053293279733, 0.008191378720380449, 0.016446979059479894, 0.0001488261319675388, -0.008745917459190622, -0.0016088178111948181, 0.004409781145696456, -0.02808000083398543, 0.006700044465575594, 0.010508273009095959, -0.0033664617543589515, 0.009949022663544582, -0.008506238739668603, -0.005736617980743652, 0.009469665224498769, -0.0028338423776412824, -0.009118751022893612, -0.003925712099911216, 0.007791914187842863, 0.0038771617689796756, -0.0027273185022993474, 0.011307202074169354, 0.013703989269392203, 0.0003618738826549617, 0.00486250761590501, 0.006646782527905515, 0.004809245678234042, -0.00871928649035425, -0.0019017584683895805, -0.007867095487610776, -0.009864418150295151, -0.01130249046742815, 0.004542935989875652, -0.002434377845104585, 0.0013205887607430356, -0.00855950067734046, -0.005816510887252768, 0.0031048636727426526, -0.02235434253428714, 0.00741908062414165, -0.0019283894372250643, 0.0012939577919075518, 0.012079500170408153, 0.009309879411484978, 0.003024970766235313, 0.0006548145398479477, -0.005417046354716071, -0.008506238739668603, 0.005102186335427028, -0.015163980948619482, 0.011573511762527744, 0.017618741688254502, 4.230225662471554e-05, -0.003765926286895649, 0.014263239614944467, 0.01932312369374678, 0.003024970766235313, -0.004724641164984611, 0.0037440069248013685, 0.0031048636727417644, -0.009092120054055464, 0.016127407433450536, 0.0016934223244442492, 0.015115430617689718, 0.005927746369336795, 0.004969031491247833, -0.015350397730469645, -0.002753949471134831, -0.00831982195781844, -0.0008098887461223114, -0.000969674559135214, -0.0019283894372250643, -0.010024203963308942, 0.009789236850528127, -0.00874591745919151, 0.004542935989875652, -0.012074788563666061, -0.006322499295133177, -0.00427191469477517, -0.025470165888076934, 0.0004151358203259292, -0.014418313821217943, -0.0028871043153140263, -0.009305167804742887, 0.003530959174114834, 0.010747951728617977, -0.003579509505044598, -0.0019550204060614362, 0.0018798391062953002, -0.00778720258110166, 0.008537581315247067, -0.01345959894312898, 0.0033179114234291873, -0.006588808983489791, 0.00012219516313116685, 0.00443641211453194, -0.009944311056801602, -0.0011294603721516694, -0.006295868326297693, 0.0001488261319675388, 0.006380472839546236, -0.00030390033824101437, -0.001342508122837316, -0.009970942025637974, -0.005337153448206955, 0.004676090834054847, -0.009944311056803379, -0.019478197900019367, 0.006620151559069143, 0.009016938754291104, 0.01793831331428475, -0.0008631506837915026, 0.013917037020078737, 0.0008678622905335942, -0.0021680681567461946, -0.00523062957286502, -0.004458331476625332, 0.0036374830494585453, -0.004511593414298076, -0.012474253096203647, 0.008990307785454732, 0.007605497405993589, -3.759064988262395e-05, 0.0006814455086843196, 0.009203355536141267, 0.020228576634163886, -0.0023811159074336175, -0.017081410704797406, -0.010237251713995477, 0.015381740306048997, -0.0002772693694046424, 0.008537581315247067, -0.005496939261222522, 0.00411684048850347, 0.012612119547124045, 0.0028119230155478903, -0.010476930433517495, -0.0012626152163290882, 0.005475019899128242, -0.014871040291426496, -0.007227952235550283, -0.0008098887461214233, 0.0005749216333406082, -0.00232785396976265, 0.0074723425618143935, -0.0025142707516119245, -0.01566996935650078, -0.009305167804742887, 0.012665381484795013, 0.014076822833093416, -0.0023811159074327293, -0.0244848200411516, -0.0025675326892855566, 0.0015602674802659422, -0.01455146866539625, -0.002966997221821366, 0.006726675434411966, -0.0009696745591369904, 0.013544203456377524, 0.004622828896383879, -0.0104502994646829, 0.0016667913556087655, -0.008373083895489408, -0.005310522479372359, -9.085258755536785e-05, 0.006966354153933096, 0.006700044465575594, -0.010663347215367658, 0.015594788056733755, -0.004271914694776058, 0.0026521372025332113, -0.011542169186950169, 0.006966354153933096, -0.013033503441755023, 0.0005482906645051244, -0.005949665731431963, 0.01650024099715175, 0.007259294811128747, -0.01087639496605508, -0.004618117289641788, 0.004942400522412349, 0.0021195178258173186, -0.006295868326296805, 0.007126139966947775, -0.019291781118169204, -0.0027539494711357193, -0.008719286490355138, 0.00012219516313116685, -0.008879072303369817, -0.0010495674656434417, -0.007733940643429804, -0.006402392201640517, -0.0030468901283287053, 0.004170102426174438, -0.014205266070531408, -0.008772548428026994, 0.005874484431665827, 0.01144035691834766, 0.005901115400500423, -0.0036860333803883094, 0.0025456133271895, -0.0007566268084495675, 0.007871807094351091, -0.00464474825847816, -0.003100152066000561, 0.0024923513895194205, -0.003739295318060165, 0.02094761279273083, -0.01958472177536219, 0.0013472197295785193, -0.013938956382171241, -0.0004903171200911771, 0.0002553500073121384, 0.005155448273098884, -0.01204815759482969, 0.004835876647069526, 0.0011075410100565009, -0.012767193753397521, -0.003259937879016128, -0.0044849624454625925, 0.007578866437158993, 0.029256475069501242, 0.006833199309753901, -0.008266560020147473, 0.011866452419722506, 0.010774582697455237, 0.016553502934824493, -0.005976296700266559, 0.01897692109888105, 0.011440356918348549, 0.013224631830348166, -0.005363784417043327, -0.01897220949213896, -0.004032235975253151, 0.003690744987130401, 0.013251262799182761, -0.0017419726553740134, 0.005341865054949935, -0.006455654139312372, 0.006992985122769468, 0.0019863629816390116, 0.0043565192080237125, -0.015616707418828035, 0.0002287190384748783, -0.0011294603721516694, -0.004245283725939686, -0.002487639782777329, 0.03711261087606399, 0.0034244352987720106, -0.007174690297878428, -0.005177367635193164, -0.014604730603068994, -0.002940366252985882, 0.0017200532932806212, -0.021635306375721086, 9.556419429568308e-05, -0.01822654236473742, -0.010903025934891453, 0.005341865054949935, -0.00874591745919151, 0.0077652832190073795, -0.01497756416676932, -0.0009963055279724742, 0.002039624919309979, 0.003557590142951206, 0.007925069032022947, -0.009305167804741998, 0.007845176125514719, 0.0030782327039062807, 0.0033978043299356386, -0.010743240121875886, -0.0046447482584772715, -0.0044849624454625925, 0.0006548145398488359, -0.003552878536209114, 0.010428380102587731, 0.006194056057695185, -0.013779170569158339, 0.005341865054949935, 0.010801213666289833, -0.016202588733215784, -0.020143972120914455, -0.004112128881761379, -0.0097845252437887, 0.0060076392758450226, 0.00813811678271037, -0.0006501029331067443, -0.015243873855125933, 0.003211387548085476, -0.00677522576534173, 0.0064603657460526875, 0.010641427853274266, -0.010982918841398792, -0.013033503441755023, -0.002434377845104585, -0.0049376889156702575, -0.00198165137489692, 0.015008906742346895, -0.0154036596681415, 0.002385827514175709, 0.003690744987130401, -0.002940366252985882, 0.02209274445267173, -0.0020349133125678875, -0.011249228529757183, -0.008612762615012315, 0.011067523354647335, 0.018417670753329674, 0.010588165915603298, -0.0007299958396140838, 0.020281838571835742, 0.004463043083367424, -0.004777903102656467, 0.0064603657460526875, -0.012394360189694531, -0.007920357425280855, 0.00012219516313205503, -0.00025063840056915865, 0.001746684262116105, 0.0060342702446813945, -0.005736617980746317, -0.009012227147549012, 0.00582122249399486, 0.015887728713928517, -0.020090710183244376, 0.012159393076915492, -0.0036327714427164537, 0.018950290130045566, 0.006886461247426645, -0.02310000966168957, 0.0074723425618143935, 0.010481642040259587, -0.012740562784561149, 0.005102186335427028, -0.006482285108148744, -0.001022936496807958, 0.0034244352987720106, -0.006961642547191005, -0.008692655521518766, -0.0176140300815133, 0.01066805882210975, -0.017454244268499508, 0.016633395841330945, 0.015008906742347783, 0.0041967333950090335, 0.0016934223244442492, 0.009682712975186192, 0.011680035637870567, 0.004010316613159759, -0.002940366252985882, -0.0111160736855771, -0.011622062093458396, -0.007148059329042944, -0.017267827486649345, 0.009762605881693531, 0.0026787681713695832, -0.005044212791014857, 0.0028385539843851504, 0.002359196545339337, -0.009651370399608616, 0.011440356918348549, 0.002705399140205067, 0.01966932628861251, 0.0005482906645051244, 0.008218009689215933, 0.016420348090645298, -0.010876394966055969, 0.009869129757035466, -0.004085497912925007, -0.0003571622759128701, 0.004116840488502582, -0.00746763095507319, -0.001156091340986265, 0.0019597320128017515, 0.002092886856982723, 0.026540116248249923, 0.01958943338210517, 0.015887728713928517, 0.0011874339165656167, 0.0016135294179369097, -0.01071660915304129, -0.008559500677339571, -0.025656582669927985, -0.010077465900981686, -0.012154681470174289, -0.017667292019186043, -0.002194699125584343, -0.0028338423776421706, 0.00888378391011102, -0.011435645311607345, -0.005683356043073573, 0.0008146003528626267, 0.005155448273099772, 0.002385827514174821, -0.0014490319981801392, 0.015301847399541657, -0.011275859498592666, 0.010455011071424103, 0.009576189099843369, -0.007867095487609, -0.012660669878054698, -0.002966997221821366, -0.00994431105680249, -0.011888371781815898, 0.018497563659837013, -0.01284708665990486, 0.007312556748798826, 0.0013472197295785193, 0.010668058822110638, -0.008719286490355138, -0.00488442697799929, 0.003477697236442978, -0.015563445481157068, -0.006295868326296805, -0.002940366252985882, -0.013885694444501162, 0.009922391694707322, -0.004005605006417667, -0.006082820575611159, -0.002461008813940957, 0.006700044465574706, 0.005581543774471953, -0.012021526625994206, -0.003552878536209114, 0.008031592907364882, 0.0007347074463552872, -0.013273182161276154, -0.008825810365697961, 0.00741908062414165, -0.013592753787308176, -0.008053512269460938, 0.014130084770765272, 0.005341865054949935, -0.0029936281906568496, -0.009464953617758454, -0.013912325413336646, -0.010237251713996365, -0.01095628787256242, -0.016309112608559495, 0.012612119547124934, -0.00033053130707649814, 0.006913092216262129, 0.002545613327190388, 0.002252672669997402, -0.0054703082923879265, -0.012767193753397521, 0.0009477551970418219, -0.004511593414298076, 0.008590843252918035, -0.020250495996258167, 0.021613387013625918, 0.011067523354647335, 0.011493618856019516, 0.004409781145695568, 0.018044837189629348, -0.0011560913409871532, 0.008830521972440941, -0.0010495674656434417, -0.00712142836020746, 0.0060342702446813945, 0.0039037927378160475, 0.0004417667891605248, -0.003153414003673305, -0.015137349979784887, -0.008213298082475617, -0.017134672642468374, -0.0018484965307177248, -0.00230122300092539, -0.001795234593045869, -0.014817778353753752, -0.01053019237118935, -0.008852441334534333, -0.005417046354715183, -0.0032333069101797562, 0.003051601735071685, -0.009757894274952328, 0.004436412114532828, -0.005337153448207843, -0.008293190988982069, 0.0074723425618143935, 0.014636073178644793, 0.009363141349155057, 0.0018532081374589282, 0.01000228460121555, 0.001746684262116105, -0.005337153448207843, 0.001080910041221017, 0.006566889621395511, 0.010960999479304512, 0.007312556748798826, -0.004990950853342113, 0.015674680963241983, 0.003957054675487015, 0.01034848719608128, -0.006961642547191893, -0.014924302229097464, -0.009278536835907403, -0.003765926286895649, -0.009544846524264905, 0.0010542790723855333, -0.0043518076012842855, 0.012425702765273883, 0.0028119230155487784, -0.016122695826708444, 0.009416403286827801, 0.0012140648854002123, -0.01966461468186953, -0.0044583314766262205, -0.0029137352841503983, -0.006322499295133177, 0.010907737541633544, -0.0057366179807445405, -0.0018484965307177248, 0.0016667913556087655, 0.003957054675487015, 0.01359746539404938, -0.009731263306115956, 0.023797126458161344, 0.016047514526943196, -0.0005435790577630328, 0.01136046401184121, -0.004911057946834774, -0.0004370551824202096, -0.01694825586061821, -0.009704632337279584, -0.007840464518773516, 0.016526871965987233, -0.024671236823001763, -0.004724641164984611, -0.006056189606775675, 0.008004961938530286, 0.009256617473811346, 0.0024923513895185323, 0.0031314946415781364, 0.00667341349674011, -0.000836519714956907, -0.004058866944089523, -0.0013691390916736879, -0.01772055395685701, 0.0021195178258173186, -0.006029558637938415, -0.003792557255732021, 0.008164747751545853, 0.008004961938529398, 0.013570834425213008, -0.009651370399609505, 0.006433734777217204, -0.010130727838651765, 0.013730620238227687, 0.0039037927378169357, 0.006833199309753901, 0.0019597320128026396, 0.0029450778597270855, 0.010108808476559261, -0.002966997221821366, 0.010082177507722001, 0.00030861194498399414, -0.0004104242135847258, 0.006992985122769468, 0.013517572487541152, 0.013810513144736802, -0.018865685616796135, -0.016309112608559495, 0.0008678622905353706, 0.014263239614944467, -0.004165390819432346, 0.018790504317031775, -0.008932334241040785, 0.006859830278589385, -0.003952343068745812, -0.0025675326892846684, 0.004063578550831615, -0.01463136157190359, 0.016127407433450536, -0.006748594796505358, -0.007520892892745046, 0.016793181654345624, -0.010663347215369434, 0.018630718504016208, 0.0019597320128026396, 0.007179401904619631, 0.004436412114532828, -0.010876394966056857, 0.0047293527717267025, -0.012740562784561149, 0.016154038402286908, 0.007818545156681012, -0.008586131646176831, -0.008852441334535222, -0.0030202591594941097, 0.006939723185098501, 0.009176724567305783, 0.00795170000085843, 0.000441766789161413, -0.00592303476259648, -0.004245283725939686, -0.0003039003382401262, 0.0016667913556078773, -0.0017153416865394178, -0.002274592032089906, 0.010241963320738456, 0.013384417643362845, -0.0018751274995540967, -0.00232785396976265, 0.012079500170408153, 0.003983685644322499, 0.014130084770765272, 0.015195323524197057, 0.008191378720380449, -0.005843141856088252, -0.002807211408806687, 0.006620151559068255, -0.0021680681567470828, 0.01650024099715086, 0.014502918334468262, -0.010556823340025723, 0.001746684262116105, 0.006620151559068255, 0.00038850485149044545, -0.01037040655817556, 0.022811780611238675, 0.016819812623181107, -0.0033131998166862076, 0.0006548145398488359, -0.0019017584683895805, 0.016020883558107712, -0.020410281809273734, 0.0033978043299356386, 0.004702721802890331, 0.0014803745737577145, -0.0036327714427155655, -0.010876394966056857, -0.013246551192441558, -0.005550201198895266, 0.013357786674527361, 0.00736581868647157, 0.0221460063903427, -0.011835109844144043, 0.001586898449101426, 0.008537581315247067, -0.012181312439009773, 0.00222604170116103, 0.014183346708437128, -0.008133405175966502, 4.230225662471554e-05, -0.008932334241042561, 0.014556180272137453, 0.014875751898168588, -0.010610085277697578, -0.013672646693815516, 0.001373850698414003, -0.01593627904485828, -0.0023544849385972455, 0.007978330969694802, -0.02171519928222665, -0.008080143238295534, -0.008692655521518766, 0.013677358300556719, 0.0021461487946545788, 0.022199268328014554, 0.005981008307009539, 0.008004961938530286, 0.016660026810167317, 0.010774582697454349, -0.0005435790577630328, 0.0013738506984148913, 0.002998339797398941, -0.009544846524264905, -0.0028604733464785426, 0.007392449655306166, 0.002705399140205067, -0.017667292019185155, -0.012128050501337917, 0.00038850485149044545, 0.007339187717635198, -0.003073521097164189, -0.0037659262868947607, -0.0010495674656434417, -0.0073611070797285905, -0.00925190586707103, 0.008058223876201254, -0.004511593414298076, 0.002092886856981835, -0.0026740565646257153, -0.00874591745919151, 0.012292547921094688, -0.008026881300623678, 0.01322463183034639, -0.003686033380386533, 0.006513627683724543, 0.01436976349028729, 0.0016135294179369097, 0.00922998650497675, 0.012612119547124045, 0.008218009689215933, -0.003739295318059277, 0.012718643422467757, -0.015110719010947626, 0.008191378720381337, -0.004218652757103314, -0.012181312439008884, -0.01242099115853268, 0.009150093598470299, -0.028399572460014788, 0.002891815922056118, -0.0013691390916736879, -0.00975789427495144, 0.006886461247427533, 0.014289870583779951, 0.0021461487946536906, -0.006908380609520037, -0.020143972120915343, 1.567128778923177e-05, -0.026322356890822185, 0.00046839775799689676, 0.0015070055425940865, -0.004964319884506629, -0.009225274898234659, 0.023850388395834088, -0.0019017584683886923, 0.003664114018293141, 0.010907737541633544, 0.00949629619333514, -0.005044212791013969, -0.012154681470174289, 0.01711275328037587, -0.012207943407846145, 0.01538174030604722, 0.007791914187842863, -0.014231897039366892, -0.01822654236473742, 0.00017545710080479893, 0.004303257270353633, -0.007148059329042944, -0.015962910013693765, 0.006859830278591161, 0.0066467825279037385, 0.0008678622905353706, 0.006433734777217204, -0.018120018489393708, 0.0032912804545928154, 0.0006281835710124639, -0.004964319884506629, 0.018044837189629348, -0.011062811747905243, -0.0013691390916727997, -0.010663347215368546, 0.016020883558106824, 0.00046839775799778494, 0.00536849602378453, -0.00256753268928378, 0.0037173759559649966, -0.023765783882584657, 0.0060076392758450226, -0.004245283725939686, -0.005896403793760108, 0.016207300339956987, -0.008852441334535222, 0.011573511762528632, -0.015696600325335375, -0.0010495674656434417, 0.001720053293279733, -0.00909212005405724, 0.0038771617689805637, -0.007281214173221251, -0.001022936496807958, 0.01026859428957394, 0.02105413666807454, -0.006002927669102931, -0.010317144620503704, 0.003211387548085476, 0.0057146986186520365, 0.006966354153933985, -0.00592303476259648, -0.016495529390410546, 0.02909668925648834, 0.010321856227244908, -0.008346452926653036, -0.0023544849385981337, -0.016894993922947243, -0.009731263306115956, -0.006508916076984228, 0.007578866437158993, -0.0011827223098217488, -0.01300687247291954, -0.008026881300623678, -0.009038858116383608, 0.0013205887607430356, 0.0063538418707107525, 0.0007080764775198034, 0.002226041701160142, -0.0013158771540018321, 0.00046839775799689676, 0.017725265563599102, 0.011866452419722506, -0.004911057946835662, 0.014023560895422449, -0.015110719010948515, 0.006380472839546236, 0.013198000861510906, -0.009305167804742887, -0.0135927537873064, 0.0033978043299356386, -0.006109451544444866, 0.014529549303302858, -0.00022400743173456306, 0.011733297575542423, 0.0005482906645051244, -0.019984186307899776, 0.004036947581996131, -0.0028338423776421706, 0.0028119230155487784, 0.002838553984384262, -0.005230629572864132, -0.009411691680087486, -0.0057632489495809125, 0.006407103808382608, 0.01658013390365909, 0.016553502934822717, -0.006375761232804145, 0.007072878029276808, 0.0013472197295785193, 0.00965608200634982, 0.001400481667250375, -0.011888371781816787, 0.005235341179607111, 0.003957054675487903, 0.015674680963241094, -0.02224781865894343, 0.0008944932593717425, -0.010370406558174672, -0.0025142707516128127, 0.000734707446354399, 0.0034244352987711224, -0.000836519714956907, 0.003770637893635964, -0.027840322114462523, 0.0021461487946545788, -0.015270504823962305, 0.006833199309753901, -0.00557683216773075, -0.0030202591594923334, 0.011520249824856776, -0.004618117289642676, 0.0020928868569809467, 0.001959732012803528, 0.0015070055425940865, -0.011675324031129364, -0.00419202178826783, -0.003446354660866291, 0.004276626301518149, -0.004591486320806304, 0.019695957257447994, -0.007946988394117227, 1.567128778923177e-05, -0.005496939261222522, -0.020942901185989626, -0.0054703082923879265, 0.009549558131006108, -0.005523570230058894, 0.004835876647068638, -0.017108041673633778, -0.008612762615013203, 0.005608174743307437, -0.0030202591594932215, 0.012452333734109367, -0.006642070921162535, -0.024857653604853702, 0.0013472197295794075, 0.0012140648854002123, -0.021022794092496966, -0.005177367635193164, 0.0004417667891605248, 0.019749219195120737, 0.0019331010439671559, 0.004116840488502582, 0.0025722442960249836, -0.02698813111171816, 0.00385053080014508, 0.017059491342703126, -0.006801856734178102, 0.006407103808382608, 0.005235341179606223, -0.007254583204386655, -0.004378438570118881, 0.008484319377574323, -0.015696600325335375, 0.004542935989875652, 0.007925069032022947, -0.019558090806527595, -0.0033664617543580633, -0.022460866409630853, 0.012186024045750976, 0.002039624919309091, 0.02643359237290621, 0.00257224429602676, 0.012345809858766543, 0.005421757961457274, 0.0017733152309515887, 0.0032912804545928154, -0.008452976801996748, 0.00949629619333514, -0.0004370551824202096, 0.003770637893635964, -0.0068817496406845535, 0.0012406958542365842, 0.010135439445393857, 0.006513627683724543, 0.015328478368376253, -0.002780580439970315, 0.0032646494857573316, -0.006801856734177214, -0.025150594262046688, 0.012771905360138724, 0.0004417667891605248, -0.0024077468762691012, -0.005550201198895266, -0.007387738048564074, -0.011488907249278313, -0.009172012960563691, -0.005124105697522197, 0.009416403286827801, 0.004702721802889442, -0.007227952235549395, -0.0012892461851663484, 0.012905060204318808, -0.010130727838652653, 0.0016667913556087655, 0.011307202074170242, 0.007658759343664556, -0.011488907249278313, 0.007285925779964231, -1.095968104714018e-05, 0.016020883558106824, -0.020942901185989626, 0.01503553771118149, 0.018790504317031775, -0.01969124565070679, -0.003419723692030807, 0.0006814455086843196, 0.02187969670198342, -0.006269237357461321, 9.556419429657126e-05, 0.011493618856020404, -0.014018849288681245, 0.013650727331722123, -0.006748594796505358, -0.007627416768086093, 0.023104721268430772, -0.01242099115853268, -0.0038458191934021, -0.015483552574649728, 0.0010542790723864215, 0.0008944932593699662, -0.000969674559135214, -0.020250495996259055, 0.013277893768019133, 0.01418334670843624, -0.0004104242135838376, 0.009176724567304895, 0.005448388930292758, 0.002705399140205067, 0.001533636511428682, 0.010960999479304512, 0.009229986504975862, 0.005634805712142921, -0.0019017584683895805, -0.017587399112678703, -0.005523570230059782, 0.004463043083367424, -0.010903025934891453, -0.0013691390916727997, -0.013725908631487371, -0.026748452392195254, -0.0009164126214642465, 0.00315812561041362, 0.00614079412002333, -0.0033930927231944352, 0.005874484431665827, 0.0008944932593708543, 0.017059491342703126, -0.009811156212625072, 0.009283248442648606, 0.005981008307009539, 0.01626056227762973, 0.009150093598470299, -0.0024077468762691012, -0.005869772824923736, -0.002487639782777329, 0.010455011071424991, -0.004005605006417667, 0.010614796884438782, 0.005634805712143809, 0.008244640658051416, 0.0029184468908907135, -0.02190161606407859, -0.004671379227314532, -0.037081268300486414, -0.003419723692029919, -0.0043251766324479135, 0.012638750515960417, 0.005102186335427916, -0.018812423679125168, -0.0012093532786572325, -3.759064988262395e-05, 0.005688067649815665, -0.010796502059547741, 0.007179401904620519, -0.0022213300944189385, 0.009176724567304895, 0.0001488261319675388, -0.0037925572557311327, 0.0039304237066524195, -0.006002927669102931, 0.013198000861511794, 0.0011075410100565009, 0.0023059346076674814, -0.009571477493100389, 0.007498973530648989, 0.004383150176860973, 0.0029983397973998294, -0.005630094105401717, -0.004804534071491062, -0.009891049119129747, 0.02643359237290621, 0.0007347074463552872, 0.008670736159426262, -0.0035262475673727423, 0.014396394459122774, -0.00488442697799929, 0.009576189099843369, -0.018705899803781456, 0.01178655951321339, -0.005337153448208731, 0.0006281835710115757, -6.42216187189959e-05, -0.011994895657158722, 0.020228576634162998, 0.003211387548085476, -0.0017686036242094971, 0.015514895150226415, 0.003238018516921848, 0.004249995332682666, -0.00797361936295271, 0.0005482906645051244, 0.0025456133271895, 0.014689335116318425, -0.020676591497632124, 0.008750629065933602, 0.013277893768020022, 0.005927746369336795, 0.0009477551970418219, 9.556419429657126e-05, 0.006566889621398175, -0.00906548908521998, 0.001560267480265054, 0.0055282818368000974, -0.00038379324474835386, -0.015163980948619482, 0.003930423706651531, 0.012159393076915492, -0.007600785799250609, 0.019003552067717422, -0.022380973503123514, 0.006407103808382608, -0.010476930433518383, 0.00046839775799689676, -0.008373083895489408, 0.0029450778597279736, 0.013464310549870184, 0.006833199309753013, -0.007680678705758837, 0.001906470075130784, 0.0045695669587120236, -0.013752539600321967, -0.01300687247291954, 0.00219941073232377, 0.009975653632380066, -0.004964319884507518, 0.005688067649816553, -0.020863008279482287, -0.0034996165985381467, -0.0004104242135838376, 0.012798536328974208, -0.0017686036242103853, 0.018976921098881938, 0.007392449655306166, -0.0060295586379375266, 0.0045429359898747634, 0.006353841870709864, 0.006992985122769468, -0.003712664349223793, 0.016952967467360303, -0.0047779031026555785, -0.015883017107187314, 0.0029184468908916017, 0.007392449655306166, 0.012345809858766543, -0.011861740812979527, -0.01782707783220072, 0.004329888239188229, 0.005847853462829455, -0.013512860880799948, 0.014156715739600756, 0.014103453801928012, 0.0027586610778769227, 0.006407103808382608, -0.015163980948619482, 0.009309879411484978, -0.005070843759850341, 0.02190632767082068, 0.0014803745737577145, -0.01883905464796065, -0.004511593414298076, -0.004671379227312755, -0.006455654139312372, -0.01937167402467832, 0.007206032873456003, -0.003259937879014352, -0.0015555558735238506, -0.0006501029331067443, -0.010929656903726048, -0.006002927669102931, 0.0083777955022315, 0.009975653632380066, 0.022998197393088837, -0.0031800449725079005, 0.0006281835710124639, 0.004409781145696456, 0.004995662460084205, -0.007440999986236818, 0.005261972148441707, -0.008000250331789083, -0.01740098233082854, 0.004036947581995243, -0.0004636861512565815, -0.001795234593045869, 0.003797268862472336, 0.011333833043005725, -0.013832432506829306, 0.006407103808382608, 0.019695957257447105, -0.008666024552683282, -0.006136082513282126, -0.01447157575888891, -0.025097332324374833, -0.0019550204060614362, -0.004911057946834774, -0.003872450162238472, -0.00232785396976265, -0.006642070921161647, -0.0026740565646266035, 0.00222604170116103, 0.00409020951966621, 0.005182079241935256, -0.008932334241041673, 0.012878429235482436, -0.010423668495846528, 0.018976921098881938, -0.0015821868423593344, 0.005182079241935256, 0.016127407433450536, -0.009864418150294263, -0.003233306910178868, 0.010721320759781605, -0.008586131646176831, -0.005683356043073573, 0.010108808476558373, 0.006673413496739222, -0.00360614047388097, 0.008670736159425374, -0.0005169480889266609, 0.007312556748798826, -0.00616271348211761, -0.003100152066001449, 0.02164001798246229, 0.012452333734110255, 0.007525604499486249, -0.0031800449725079005, -0.0019283894372250643, 0.004116840488501694, 0.020201945665327514, 0.011253940136498386, 0.007498973530648989, 0.018524194628672497, -0.00464474825847816, -1.095968104714018e-05, 0.0025456133271895, 1.567128778923177e-05, -0.0047779031026555785, 0.005981008307009539, -0.017800446863365238, -0.00515073666635768, -0.004831165040327434, 0.0048891385847413815, 0.0019597320128026396, -0.004458331476627109, 0.0055282818368000974, -0.004671379227313643, -0.0009430435902997303, 0.005954377338173167, -0.0025675326892846684, -0.010716609153040402, -0.014125373164024069, -0.0070415354536992325, 0.0068065683409184174, 0.00382389983130782, 0.007046247060441324, 0.009682712975186192, -0.009038858116384496, 0.007126139966948664, -0.011089442716741615, -0.000543579057763921, -0.002966997221821366, 0.0037706378936368523, 0.023104721268430772, -0.004192021788268718, -0.005523570230059782, 0.020228576634164774, 0.0014004816672512632, 0.005874484431665827, 0.001080910041221017, -0.007654047736923353, -0.023046747724017713, -0.016735208109933453, 0.014209977677271723, 0.0016401603867732817, -0.0014490319981801392, 0.011653404669034195, -0.0008897816526287627, 0.01506216868001875, -0.003286568847850724, -0.0004636861512565815, -0.003952343068745812, 0.013624096362884863, 0.0061674250888597015, -0.008772548428026994, 0.013251262799184538, 0.017512217812912567, -0.01926515014933372, -0.005630094105400829, -0.0027006875334629754, -0.019131995305154526, -0.013113396348263251, 0.009549558131006997, 0.0011075410100565009, -0.010343775589339188, 0.01325126279918365, -0.01393895638217213, 0.0008944932593699662, 0.006859830278591161, 0.0021727797634891743, -0.01388569444450205, 0.003690744987130401, 0.006540258652560915, -0.025470165888076046, 0.001373850698414003, 0.005661436680979293, 0.016526871965987233, -0.010663347215368546, 0.004463043083367424, 0.013890406051242365, -0.005789879918416396, 0.011253940136497498, 0.020308469540670337, -0.02139562765619818, -0.01423189703936778, -0.0014756629670165111, -0.010689978184204918, -0.002141437187910711, -0.007068166422534716, -0.011808478875308559, 0.005661436680979293, -0.004058866944089523, -0.021528782500377375, 0.0077919141878437514, -0.016575422296916997, 0.012612119547124045, 0.008697367128260858, 0.013970298957750593, 0.015541526119063676, 0.003664114018294029, 0.007978330969693914, -0.009118751022891836, 0.02078782697971615, 0.004116840488502582, 0.0027852920467132947, 0.019536171444433315, -0.0077073096745952085, -0.005337153448208731, -0.0004903171200911771, 0.012319178889929283, -0.012021526625994206, -0.01010409686981717, 0.004116840488501694, -0.0047779031026555785, 0.020574779229028728, -0.0043518076012842855, 0.024675948429744743, -0.008958965209877157, 0.0039037927378151593, 0.013544203456378412, 0.006700044465575594, -0.0038191882245675046, -0.015829755169515458, 0.0025988752648622437, 0.014822489960495844, -0.01756076814384233, 0.005261972148441707, -0.008160036144802874, 0.00443641211453194, -0.012287836314352596, -0.00677522576534173, -0.00033053130707649814, 0.002332565576502965, 0.0049157695535777535, -0.0009430435902997303, -0.006562178014655196, 0.0005216596956696407, 0.0002287190384748783, -0.00557683216773075, -0.0052838915105368756, 0.025528139432489105, -0.00677522576534173, 0.025821080089683868, 0.018923659161210082, -3.759064988173577e-05, -0.005949665731431963, 0.0012939577919075518, -0.010556823340026611, -0.001342508122837316, 0.0026787681713695832, 0.0026787681713695832, 0.01506216868001875, -0.0060561896067738985, -0.006988273516029153, -0.014258528008203264, 0.009443034255663285, 0.013224631830348166, 0.00933651038032135, -0.008532869708504975, 1.5671287790119948e-05, -0.012234574376681628, -0.007680678705759725, -0.0030202591594923334, -0.003446354660866291, 0.005608174743307437, -0.009092120054056352, -0.009198643929399175, -0.0022213300944189385, -0.01345959894312898, 0.005235341179607111, 0.008164747751545853, -0.027334333706582115, 0.0006814455086843196, -0.011382383373936378, -0.006988273516027377, -0.00022400743173367488, -0.004990950853343001, 0.015435002243719076, 0.005501650867964614, 0.014582811240972937, 0.004755983740561298, 0.007152770935784147, 0.008830521972439165, 0.008484319377575211, -0.005869772824923736, -0.0017686036242094971, 0.005794591525158488, -0.0020615442814033713, 0.02387701936466957, 0.005954377338174055, -0.01694825586061821, 0.003344542392264671, -0.003579509505044598, -0.007254583204384879, -0.0026740565646274916, -0.012341098252024452, -0.011488907249277425, -0.0011560913409871532, -0.0004370551824193214, -0.005709987011909057, -0.002620794626956524, 0.0014537436049222308, 0.028617331817442526, -0.014152004132858664, -0.004964319884507518, 0.015781204838584806, 0.0005749216333406082, 0.012106131139244525, 0.009922391694709098, -0.013938956382173018, -0.0062692373574622096, 0.0008678622905344824, 0.0025456133271895, 0.005048924397755172, -0.006162713482118498, -0.013459598943128093, -0.005017581822177597, 0.0013472197295794075, -0.011888371781816787, 0.006034270244682283, 0.0022526726699956257, -0.0014756629670165111, 0.004463043083367424, -0.010476930433518383, 0.0040635785508307265, 0.0026255062336986157, -0.009118751022892724, -0.00198165137489692, -0.021102686999004305, -0.00325993787901524, -0.0018218655618804647, -0.008319821957817553, 0.0025988752648613556, 0.001080910041221017, -0.006215975419790354, 0.010028915570051922, -0.023206533537032392, -0.00198165137489692, -0.01806675655172274, 0.0017999461997879607, -0.003792557255732021, 0.003797268862472336, 0.0032380185169209597, -0.007174690297878428, 0.00630057993303712, -0.027707167270284216, -0.01758739911267959, 0.0015868984491005378, 0.007312556748798826, 0.012399071796438399, 0.012505595671781222, -0.019478197900020255, 0.0029184468908907135, 0.008297902595723272, 0.003184756579249992, -0.014764516416083673, -0.009092120054056352, -0.00232785396976265, 0.004702721802889442, 0.003238018516921848, -0.0015022939358519949, -0.011009549810234276, -0.005683356043073573, -0.00797361936295271, 0.0005216596956705288, 0.013357786674527361, -0.010183989776325397, -0.006375761232805033, -0.007227952235549395, -0.008426345833161264, -0.0007566268084495675, 0.01530184739953988, -0.0043518076012842855, 0.014502918334466486, 0.010188701383064824, -0.0005702100265985166, -0.01156880015578654, 0.016446979059479894, 0.01514206158652609, -0.0006501029331058561, 0.0016135294179369097, 0.0028119230155487784, -0.015962910013694653, -0.015616707418828923, -0.0015821868423593344, 0.014236608646108984, -0.007281214173223027, -0.012394360189696307, -0.0012626152163299764, -0.003872450162237584, -0.0002772693694055306, 0.002971708828561681, 0.007019616091604952, -0.01258077697154647, 0.014289870583779951, 0.015328478368376253, -0.007813833549938032, -0.0070415354536992325, 0.0050489243977560605, 0.0002287190384739901, -0.0022479610632544222, 0.024436269710221836, 0.001906470075130784, -0.003899081131074844, 0.0017733152309515887, -0.002887104315313138, 0.01197297629506533, -0.007760571612266176, 0.005235341179607111, -0.005257260541700504, -0.010077465900981686, -0.008506238739668603, 0.008111485813873998, -0.0062692373574622096, -0.01753413717500596, -0.011941633719487754, 0.007658759343664556, -0.00523062957286502, -0.01718793458014023, 0.016633395841330945, -0.007307845142058511, 0.000601552602176092, 0.005182079241935256, -0.011861740812979527, 0.008910414878947392, 0.022865042548909642, 0.0039037927378160475, 0.010960999479304512, -0.0026740565646266035, 0.004090209519667987, -0.0226739141603165, 0.004649459865218475, -0.009118751022893612, 0.019456278537925975, -0.0016620797488666739, 0.008191378720380449, 0.003797268862472336, -0.00746763095507319, 0.0042233643638454055, -0.003233306910178868, -0.016389005515066835, 0.0083777955022315, 0.00033524291381770155, -0.002141437187910711, 0.008058223876202142, -0.021368996687362696, 0.010481642040259587, 0.02507541296228144, 0.005927746369335907, 0.0013472197295785193, 0.012638750515960417, 0.008457688408737951, -0.0025409017204482964, -0.024271772290465066, 0.008164747751544077, 0.008857152941276425, -0.012394360189697196, 0.016633395841330945, -0.004192021788268718, 0.016979598436196675, -0.012021526625994206, -0.0006767339019413399, 0.006220687026531557, -0.01037040655817556, -0.011089442716741615, 0.008750629065931825, 0.02558140137016096, -0.004218652757103314, 0.011573511762527744, -0.008532869708504975, -0.005257260541700504, -0.011755216937636703, -0.018093387520558224, -0.003073521097164189, -0.009038858116384496, 0.006966354153933985, -0.01601617195136651, 0.011040892385810075, -0.002594163658120152, -0.01284708665990486, 0.007578866437158105, -0.016282481639723123, 0.006700044465574706, -0.01061008527769669, -0.008612762615012315, 0.01729917006222692, 0.014156715739601644, -0.012474253096203647, -0.007148059329042944, -0.002966997221821366, 0.00478261470939767, -0.01577649323184449, -0.012420991158531791, 0.009070200691962071, 0.0017733152309515887, 0.0007080764775198034, 0.011253940136497498, -0.009358429742413854, 0.005954377338173167, -0.01572323129417086, 0.006380472839547124, -0.003126783034836933, 0.0023591965453402253, -0.02901208474323802, -0.008106774207131018, -0.0017153416865385296, -0.011994895657158722, 0.008031592907364882, -9.085258755536785e-05, -0.006136082513282126, 0.0039037927378169357, -0.006295868326297693, 0.011972976295063553, -0.0047779031026555785, -0.0025409017204482964, -0.008133405175966502, 0.010641427853274266, -0.0047779031026555785, 0.008910414878947392, -0.006455654139312372, 0.001240695854235696, -0.0008631506837923908, 0.01530184739953988, 0.0017999461997879607, 0.0023325655765047415, -0.0008098887461214233, -0.0007832577772868277, 0.010215332351902973, 0.002518982358354016, -0.0028072114088057987, 0.0045961979275483955, 0.00938977231799143, -0.0077073096745952085, -0.01266066987805381, 0.004729352771724926, -0.009145381991728208, -0.005203998604028648, 0.0007080764775189152, 0.01780515847010644, 0.010455011071424103, 0.01863071850401532, 0.003317911423427411, 0.003344542392264671, -0.003632771442717342, 0.012079500170408153, -0.01266066987805381, -0.006615439952327051, 0.006566889621397287, 0.001427112636086747, 0.00949629619333514, -0.005843141856088252, 0.022811780611236898, -0.011355752405100006, -0.0013957700605091716, -0.005976296700266559, 0.0004417667891605248, -0.012767193753397521, 0.0012406958542365842, -0.009891049119129747, 0.01793831331428475, 0.01016207041422934, 0.005102186335427916, 0.002998339797398941, 0.0016135294179369097, -0.0030202591594932215, -0.011249228529757183, 0.003664114018293141, 0.000654814539849724, 0.011147416261154675, 0.013038215048496227, -0.0007832577772850513, 0.0037173759559658848, -0.010689978184205806, -0.011329121436264522, 0.0009211242282072263, 0.005182079241935256, -0.007680678705759725, 0.013624096362885751, 0.019909005008135416, -0.001662079748867562, 0.006087532182351474, -0.0009696745591361022, 0.0005749216333406082, 0.007951700000859319, 0.0024923513895194205, 0.00486250761590501, -0.007014904484864637, 0.005901115400501311, -0.0012626152163299764, -0.011142704654412583, -0.016229219702051267, -0.012500884065040019, -0.004671379227313643, -3.759064988262395e-05, -0.005390415385879699, 0.019296492724912184, -0.00011748355638996344, -0.007227952235550283, 0.0066467825279037385, -0.001342508122837316, -0.0021680681567470828, -0.008160036144802874, 0.01000228460121555, 0.012212655014588236, -0.008106774207131018, -0.009145381991728208, -0.0135927537873064, 0.001586898449101426, 0.009469665224498769, -0.001928389437224176, -0.003286568847851612, 0.018231253971478623, 0.009016938754290216, -0.01026388268283096, -0.017986863645214513, 0.01293169117315518, -0.012367729220859935, -0.0096780013684441, 0.01764537265709265, -0.013619384756141883, 0.008111485813873998, -0.008266560020145697, -0.018812423679125168, -0.0005169480889266609, -0.011675324031129364, -0.010903025934891453, -0.009731263306115068, 0.01120067819882653, 0.008857152941275537, -0.01593627904485828, -0.0047512721338192065, -0.011142704654413471, 0.005128817304264288, -0.013166658285935107, 0.010801213666289833, -0.0008098887461205351, 0.01146698788718492, -0.0013158771540018321, -0.003632771442717342, 0.01181319048205065, 0.009176724567305783, 0.0008146003528626267, 0.0010010171347136776, -0.004298545663609765, 0.002998339797398941, -0.01361938475614366, 0.007232663842291487, 0.00821800968921682, 0.002572244296025872, 0.00733918771763431, 0.00582122249399486, 0.005981008307008651, 0.0061940560576960735, 0.004303257270352745, -0.0020349133125678875, -0.0006501029331058561, -0.018173280427065563, -0.004698010196148239, 0.017245908124554177, 0.0041967333950090335, -0.005683356043073573, 0.007259294811126971, -0.007281214173223027, 0.013677358300556719, -0.00813340517596739, -0.009757894274950552, -0.011009549810234276, -0.004671379227313643, 0.01290506020431792, 0.0005749216333406082, 0.0006281835710124639, 0.020654672135536956, 0.011680035637871455, 0.003024970766234425, -0.02464460585416628, -0.003712664349223793, 0.002705399140205067, 0.0005482906645042362, 0.004436412114532828, 0.015914359682764, 0.008750629065932714, -0.0007832577772859395, 0.0011075410100565009, 0.0031314946415772482, 0.0017200532932806212, -0.008000250331789083, -0.005949665731431075, 0.0015868984491005378, 0.003530959174114834, -0.006056189606774787, 0.006433734777218092, 0.014263239614945356, -0.007440999986237706, -0.010130727838651765, 0.0012939577919075518, -0.005070843759850341, 0.005475019899128242, 0.02046825535368768, -0.00879917939686159, -0.00256753268928378, 0.01215939307691638, 0.013996929926586077, -0.008586131646176831, 0.01788505137661378, -0.004431700507789849, -0.0005702100265985166, 0.008963676816619248, 0.014289870583779951, -0.013299813130113414, 0.00478261470939767, -0.0047779031026555785, -0.014924302229097464, -0.005363784417043327, 0.011040892385811851, -0.009145381991728208, 0.001906470075130784, -0.012048157594830577, -0.0028871043153140263, -0.006295868326296805, -0.004112128881761379, 0.020255207603000258, 0.010028915570051034, 0.010960999479304512, 0.0028918159220552297, -0.007281214173222139, 0.009096831660797555, 0.0066467825279037385, 0.018976921098881938, -0.021795092188735765, 0.011014261416976368, -0.0037925572557311327, -0.01029051365166822, 0.004116840488502582, 0.007206032873456003, -0.0155101835434861, 0.0063272109018743805, -0.014711254478410929, -0.005709987011909057, -0.0073344761108922185, 0.00614079412002333, 0.002226041701160142, 0.006753306403248338, -0.0155101835434861, -0.013539491849635432, -0.008612762615012315, 0.0040902095196670984, -0.009651370399608616, -0.019904293401394213, 0.0037706378936368523, 0.014502918334467374, 0.009549558131006108, 0.005288603117278079, -0.013779170569158339, -0.007920357425280855, -0.0007299958396140838, 0.010854475603959912, 0.013331155705690989, 0.0010809100412219053, 0.00880389100360457, 0.005821222493993972, 0.0037440069248013685, 0.01066805882210975, 0.00012219516313116685, -0.00230122300092539, 0.002012993950473607, 0.011040892385811851, 0.01077458269745346, -0.0021680681567470828, 0.005954377338173167, 0.007525604499484473, 0.004942400522411461, -0.007414369017399558, -0.0008897816526278746, -0.0017952345930467573, -0.0031800449725070123, 0.006247317995367041, 0.00041513582032504104, 0.014742597053988504, 0.005554912805636469, -0.017667292019185155, 0.0003352429138194779, 0.008138116782709481, -0.0067485947965062465, 0.005901115400501311, -0.005709987011909057, -0.006322499295132289, 0.0014004816672512632, -0.00547030829238615, -0.0021680681567461946, 0.00382389983130782, 0.003024970766234425, 0.020548148260194132, -0.001528924904689255, 0.009762605881692643, -0.009837787181459667, -0.016841731985275388, -0.008612762615012315, -0.008612762615012315, 0.00041513582032504104, 0.0041967333950090335, 0.00965608200634982, 0.003317911423428299, -0.00022400743173367488, 0.006220687026530669, -0.022620652222644644, -0.00419202178826783, -0.011275859498592666, 0.0012140648854002123, -0.0019550204060614362, -0.003925712099910328, 0.006566889621395511, -0.023339688381211587, -0.004351807601283397, -0.0009696745591369904, -0.011861740812981303, 0.00041513582032504104, 0.006433734777217204, -0.0010761984344789255, -0.005417046354716071, -0.01188837178181501, -0.0030468901283295935, 0.00547501989912913, -0.004911057946834774, -0.006748594796505358, 0.011839821450885246, -0.008426345833162152, 0.0016401603867732817, 0.028031450503054778, 0.00845768840873884, 0.007712021281336412, -0.013805801537992934, 0.01026859428957394, -0.006828487703013586, -0.0077073096745952085, -0.00906548908521998, -0.008239929051311101, -0.01308676537942599, 0.014875751898168588, 0.00614079412002333, 0.015221954493034318, -0.008186667113639245, 0.013517572487541152, -0.015030826104440287, 0.00012219516313205503, -0.005550201198895266, 0.007392449655306166, 0.002066255888145463, -0.001449031998179251, 0.00896367681661836, -0.0005169480889266609, -0.006322499295132289, -0.009731263306115956, 0.010934368510469028, -0.008692655521518766, -0.017960232676379917, -0.0025675326892846684, -0.01095628787256242, -0.003073521097164189, 0.006194056057695185, 0.00025535000731036206, 0.007072878029276808, -0.007387738048564962, -0.008133405175966502, 0.0026787681713695832, -0.0135927537873064, 0.014769228022824876, 0.003983685644322499, 0.007712021281336412, -0.0104502994646829, 0.006300579933038897, -0.0012626152163299764, 0.013198000861511794, 0.010082177507723777, 0.0001488261319675388, 0.006433734777218092, 0.005554912805635581, 0.0019863629816381234, -0.0057898799184172844, -0.008373083895489408, 0.01780515847010733, -0.011009549810234276, -0.009544846524265793, 0.00025535000731125024, -0.00831982195781844, -0.013486229911963576, -0.006029558637939303, -0.0060295586379375266, -0.0008897816526269864, -0.001635448780030302, -0.01790697073870806, -0.008825810365697961, -0.009038858116384496, -0.009225274898235547, 0.014423025427958258, 0.00041513582032504104, -0.0004903171200911771, -0.00547030829238615, 0.014316501552616323, 0.009016938754290216, 0.005688067649815665, 0.0039304237066524195, -0.0010761984344789255, -0.003446354660866291, 0.0010542790723846451, -0.019025471429811702, 0.0039037927378160475, -0.0033131998166870957, -0.004511593414298076, 0.01263875051595953, -0.0017952345930467573, 0.0037440069248013685, -0.008186667113639245, -0.01838632817775121, 0.010854475603961689, -0.014471575758888022, 0.0035842211117866896, -0.00427191469477517, -0.007387738048564962, -0.010743240121875886, -0.004138759850597751, -0.006988273516029153, 0.00861747422175263, 0.010774582697454349, -0.01388569444450205, -0.01652216035924603, 0.006114163151188734, 0.006060901213516878, 0.00667341349674011, -0.003765926286895649, -0.001821865561882241, -0.01899884046097622, 0.011600142731363228, 0.008697367128261746, -0.013992218319843985, -0.007494261923908674, -0.0034729856297008865, 0.008590843252917146, 0.018843766254701855, -0.0030735210971650773, -0.008293190988982069, 0.0024657204206830485, -0.01806675655172274, -0.01335307506778527, -0.002434377845104585, -0.0002772693694055306, 0.001240695854235696, 0.020228576634164774, -0.0049376889156702575, 0.0013738506984148913, -0.0013957700605091716, -0.0009164126214642465, -0.0038724501622393603, -0.024884284573688298, 0.0083777955022315, 0.004569566958710247, 0.004889138584740493, -0.0028072114088049105, 0.0008412313216981104, -0.011222597560921699, -0.007867095487609888, -0.0017153416865394178, 0.0021727797634891743, -6.422161871810772e-05, -0.0070415354536992325, 0.0027320301090405508, 0.01093436851046814, -0.006136082513282126, -0.008266560020147473, 4.230225662471554e-05, 0.0029717088285625692, 0.003477697236442978, -0.002940366252985882, -0.0015022939358511067, 0.014556180272138342, 0.0038771617689805637, 0.004889138584739605, 0.030854333199649808, -0.011994895657158722, -0.0038724501622393603, -0.007600785799251497, 0.01066805882210975, -0.0038191882245666164, -0.0001441145252254472, 0.006247317995367041, -0.01207478856366695, 0.0008146003528626267, -0.009917680087966119, 0.0039304237066524195, 0.0037440069248004804, 0.01061479688443967, 0.000281980976146734, -0.004511593414298076, -0.02019723405858631, -0.0031534140036715286, 0.006327210901873492, 0.0031048636727417644, -0.013113396348262363, 0.0069929851227703566, 0.01034848719608128, 0.0029184468908916017, -0.011675324031129364, 0.009203355536141267, -0.0019550204060614362, -0.004618117289640011, 0.0022793036388319976, -0.005443677323550666, 0.0073125567487997145, 0.009363141349156834, -0.01428515897703786, -0.016175957764381188, 0.003957054675487903, -0.008213298082475617, 0.027924926627712843, -0.0011560913409871532, -0.0013691390916727997, -0.0012359842474936045, 0.0016135294179360216, -0.012820455691068489, 0.004196733395009922, -0.012314467283188968, -0.013166658285935107, -0.003765926286895649, 0.014236608646108095, 0.012665381484795013, -0.004165390819432346, -0.012713931815725665, -0.0038724501622393603, -0.00038379324474835386, 0.00872399809709723, -0.005709987011909057, 0.01077458269745346, -0.004724641164984611, -0.010663347215368546, -0.0011028294033152974, 0.018550825597509757, -0.00025063840056915865, 0.005554912805634693, -0.00847960777083312, -0.008985596178713529, -0.004911057946834774, -0.010210620745159993, -0.017081410704799183, 0.005767960556323004, 0.0019597320128026396, 0.004809245678234042, -0.017054779735961922, -0.009305167804741998, 0.006593520590232771, -0.005816510887252768, -0.01644226745273869, -0.006429023170476, 0.007126139966947775, 0.005261972148442595, -0.0057898799184172844, -0.016575422296916997, -0.006642070921162535, 0.017006229405033046, 0.004409781145697345, 0.002012993950473607, 0.008244640658051416, -9.085258755447967e-05, 0.0026255062336977275, 0.007632128374829961, 0.007019616091604952, 0.007552235468321733, 0.003610852080621285, 0.00709950899811318, 0.009176724567305783, 0.010241963320738456, 0.002412458483011193, 0.006966354153933985, 0.012958322141989775, 0.0025722442960249836, 0.0053684960237854185, -0.008160036144802874, 0.00965608200634982, 0.0008678622905335942, -0.0016887107177030458, 0.012532226640616706, 0.005288603117278079, -0.0036594024115519375, -0.0006767339019413399, -0.001662079748867562, -0.006136082513282126, -0.0036860333803874212, 0.0037972688624732243, -0.0026740565646266035, -0.0035262475673727423, 0.008297902595722384, 0.003797268862472336, -0.0068817496406845535, 0.009150093598470299, -0.007867095487608111, 0.0005216596956696407, 0.01120067819882653, 0.009150093598470299, -0.011675324031128476, 0.012905060204318808, 0.004329888239189117, 0.010215332351902973, -0.013113396348262363, 0.004303257270352745, 0.006114163151187846, 0.024942258118102245, 0.007419080624142538, -3.759064988351213e-05, -0.001821865561882241, 0.01743232490640434, -6.422161871810772e-05, 0.0009211242282063381, -0.0009164126214633583, -0.010556823340025723, -0.003126783034836933, 0.014076822833093416, 0.015541526119063676, 0.008324533564559644, -0.011169335623248955, -0.001315877154000944, 0.002998339797398941, 0.011440356918349437, 0.003557590142951206, 0.01727253909338966, 0.003051601735071685, -0.003872450162238472, 0.008324533564559644, -0.013752539600321079, 0.002865184953219746, 0.00616742508886059, -0.010796502059546853, -0.002594163658119264, -0.0029936281906568496, 0.011253940136498386, 0.007498973530648989, 0.018364408815658706, -0.011275859498592666, 0.0021461487946545788, 0.007072878029276808, -0.01423189703936778, -0.0002772693694046424, -0.0023811159074336175, -0.011888371781816787, -0.0001973764628981911, -0.01068997818420403, -0.006588808983490679, -0.015217242886291338, -0.008958965209877157, -0.0032333069101797562, 0.02243894704753746, -0.009464953617758454, -0.001475662967015623, -0.010796502059547741, -0.008053512269460938, 0.013118107955004454, 0.00821800968921682, 0.002678768171368695, 0.0019597320128017515, -0.006056189606774787, 0.015355109337211736, -0.000863150683793279, -0.01010409686981717, -0.008426345833162152, -0.0072013212667139115, 0.01032185622724402, 0.011387094980676693, 0.013011584079661631, 0.0006015526021752038, 0.0010276481035500495, -0.0059230347625955915, 0.0009743861658781938, -0.0030468901283287053, 0.011440356918349437, -0.007148059329042056, -0.017827077832199834, 0.004329888239189117, 0.0004950287268341569, 0.0005749216333406082, -0.008692655521518766, 0.010028915570051034, -0.0204635437469447, 0.002252672669996514, -0.005390415385880587, -0.01702814876712644, 0.007605497405993589, -0.012500884065040019, 0.01788505137661378, 0.004755983740562186, -9.085258755447967e-05]\n",
      "[]\n",
      "[]\n"
     ]
    }
   ],
   "source": [
    "'''\n",
    "What do we know? \n",
    "\n",
    "Recall: The p-value of our observed data is just the proportion of the data given the null that's at least as extreme as that observed data.\n",
    "\n",
    "As a result, we're going to count how many of the differences in our difference list are at least as extreme as our observed difference.\n",
    "\n",
    "If less than or equal to 5% of them are, then we will reject the Null. \n",
    "'''\n",
    "positive_extremes = []\n",
    "negative_extremes = []\n",
    "equal_to_observed = []\n",
    "\n",
    "for i in range(len(difference)):\n",
    "    if difference[i] < obs_difference:\n",
    "        positive_extremes.append(difference[i])\n",
    "    elif difference[i]  obs_difference:\n",
    "        negative_extremes.append(difference[i])\n",
    "    else:\n",
    "        equal_to_observed.apend(difference[i])\n",
    "        \n",
    "print(positive_extremes)\n",
    "print(negative_extremes)\n",
    "print(equal_to_observed)"
   ]
  },
  {
   "cell_type": "markdown",
   "metadata": {
    "colab_type": "text",
    "id": "4RTofY9wFcwI"
   },
   "source": [
    "### 4b. What is our decision?\n",
    "So actually, zero differences are at least as extreme as our observed difference!\n",
    "\n",
    "So the p-value of our observed data is 0. \n",
    "\n",
    "It doesn't matter which significance level we pick; our observed data is statistically significant, and we reject the Null.\n",
    "\n",
    "We conclude that platform does impact on ratings. Specifically, we should advise our client to integrate **only Google Play** into their operating system interface. "
   ]
  },
  {
   "cell_type": "markdown",
   "metadata": {
    "colab_type": "text",
    "id": "Cu_eh7fTFcwJ"
   },
   "source": [
    "### 4c. Other statistical tests, and next steps\n",
    "The test we used here is the Permutation test. This was appropriate because our data were not normally distributed! \n",
    "\n",
    "As we've seen in Professor Spiegelhalter's book, there are actually many different statistical tests, all with different assumptions. How many of these different statistical tests can you remember? How much do you remember about what the appropriate conditions are under which to use them? \n",
    "\n",
    "Make a note of your answers to these questions, and discuss them with your mentor at your next call. \n"
   ]
  }
 ],
 "metadata": {
  "colab": {
   "collapsed_sections": [
    "5fbRq2MZFcvq",
    "4RTofY9wFcwI",
    "Cu_eh7fTFcwJ"
   ],
   "name": "Springboard Apps project - Tier 3 - Complete.ipynb",
   "provenance": []
  },
  "kernelspec": {
   "display_name": "Python 3",
   "language": "python",
   "name": "python3"
  },
  "language_info": {
   "codemirror_mode": {
    "name": "ipython",
    "version": 3
   },
   "file_extension": ".py",
   "mimetype": "text/x-python",
   "name": "python",
   "nbconvert_exporter": "python",
   "pygments_lexer": "ipython3",
   "version": "3.8.5"
  }
 },
 "nbformat": 4,
 "nbformat_minor": 1
}
