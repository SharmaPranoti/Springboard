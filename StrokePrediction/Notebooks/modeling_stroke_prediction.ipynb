{
 "cells": [
  {
   "cell_type": "markdown",
   "metadata": {},
   "source": [
    "###                        Modelling Using 4 Different Types of Classification Algorithms"
   ]
  },
  {
   "cell_type": "code",
   "execution_count": 45,
   "metadata": {},
   "outputs": [],
   "source": [
    "#import the required libraries\n",
    "import numpy as np\n",
    "import pandas as pd\n",
    "import missingno as msno\n",
    "import matplotlib.pyplot as plt\n",
    "import seaborn as sns\n",
    "import statsmodels.api as sm\n",
    "from sklearn import linear_model, preprocessing\n",
    "from scipy.stats import spearmanr\n",
    "from sklearn.metrics import confusion_matrix\n",
    "from sklearn.metrics import classification_report\n",
    "from sklearn.metrics import plot_confusion_matrix\n",
    "from sklearn.metrics import plot_roc_curve"
   ]
  },
  {
   "cell_type": "code",
   "execution_count": 2,
   "metadata": {},
   "outputs": [],
   "source": [
    "#import data\n",
    "stroke_data = pd.read_csv('../data/stroke_data_explored.csv')"
   ]
  },
  {
   "cell_type": "code",
   "execution_count": 4,
   "metadata": {},
   "outputs": [
    {
     "data": {
      "text/plain": [
       "(5109, 11)"
      ]
     },
     "execution_count": 4,
     "metadata": {},
     "output_type": "execute_result"
    }
   ],
   "source": [
    "#Checking the number of rows and columns\n",
    "stroke_data.shape"
   ]
  },
  {
   "cell_type": "code",
   "execution_count": 8,
   "metadata": {},
   "outputs": [],
   "source": [
    "# Convert categorical data into dummy features\n",
    "stroke_data = pd.get_dummies(stroke_data)\n",
    "# Reordering the DataFrameccolumns\n",
    "reorder = list(stroke_data.columns)\n",
    "reorder.remove('stroke')\n",
    "reorder.append('stroke')\n",
    "stroke_data = stroke_data[reorder]"
   ]
  },
  {
   "cell_type": "code",
   "execution_count": 9,
   "metadata": {},
   "outputs": [
    {
     "data": {
      "text/plain": [
       "4860"
      ]
     },
     "execution_count": 9,
     "metadata": {},
     "output_type": "execute_result"
    }
   ],
   "source": [
    "# Checking for class imbalance\n",
    "stroke_data['stroke'][stroke_data['stroke']==0].count()"
   ]
  },
  {
   "cell_type": "code",
   "execution_count": 10,
   "metadata": {},
   "outputs": [
    {
     "data": {
      "text/plain": [
       "1    4860\n",
       "0    4860\n",
       "Name: stroke, dtype: int64"
      ]
     },
     "execution_count": 10,
     "metadata": {},
     "output_type": "execute_result"
    }
   ],
   "source": [
    "# Imbalance handling using up-resampling \n",
    "from sklearn.utils import resample\n",
    "\n",
    "without_stroke = stroke_data[stroke_data.stroke == 0]\n",
    "with_stroke = stroke_data[stroke_data.stroke == 1]\n",
    "\n",
    "with_stroke_upsampled = resample(with_stroke,\n",
    "                       replace=True,\n",
    "                       n_samples=4860,\n",
    "                       random_state=0)\n",
    "\n",
    "stroke_data_upsampled = pd.concat([without_stroke,with_stroke_upsampled])\n",
    "\n",
    "stroke_data_upsampled.stroke.value_counts()"
   ]
  },
  {
   "cell_type": "code",
   "execution_count": 62,
   "metadata": {},
   "outputs": [],
   "source": [
    "#Splitting data into dependent and independent features\n",
    "#y = stroke_data_upsampled['stroke']\n",
    "#X = stroke_data_upsampled.drop('stroke', axis=1)\n",
    "y = stroke_data['stroke']\n",
    "X = stroke_data.drop('stroke', axis=1)"
   ]
  },
  {
   "cell_type": "code",
   "execution_count": 64,
   "metadata": {},
   "outputs": [
    {
     "name": "stdout",
     "output_type": "stream",
     "text": [
      "(4087, 20) (1022, 20) (4087,) (1022,)\n"
     ]
    }
   ],
   "source": [
    "#Splitting the data into train set and test set \n",
    "import sklearn.model_selection #as train_test_split\n",
    "X_train, X_test, y_train, y_test = sklearn.model_selection.train_test_split(X, y, test_size=0.2, random_state=0)\n",
    "print(X_train.shape, X_test.shape, y_train.shape, y_test.shape)"
   ]
  },
  {
   "cell_type": "code",
   "execution_count": 65,
   "metadata": {},
   "outputs": [],
   "source": [
    "#Using Standard Scaler to scale the data\n",
    "from sklearn.preprocessing import StandardScaler, MinMaxScaler\n",
    "scaler = StandardScaler()\n",
    "scaler.fit(X_train)\n",
    "X_train_scaled = scaler.transform(X_train)\n",
    "X_test_scaled = scaler.transform(X_test)"
   ]
  },
  {
   "cell_type": "markdown",
   "metadata": {},
   "source": [
    "### Model1:\n",
    "### KNearestNeighbor using Grid Search CV for Hyperparameter optimization"
   ]
  },
  {
   "cell_type": "code",
   "execution_count": 66,
   "metadata": {},
   "outputs": [
    {
     "name": "stdout",
     "output_type": "stream",
     "text": [
      "Best Score:0.9520429264438744\n",
      "Best Parameters: {'n_neighbors': 8}\n"
     ]
    }
   ],
   "source": [
    "from sklearn.model_selection import GridSearchCV\n",
    "from sklearn.neighbors import KNeighborsClassifier\n",
    "\n",
    "param_grid = {'n_neighbors':np.arange(1,10)}\n",
    "knn = KNeighborsClassifier()\n",
    "knn_cv= GridSearchCV(knn,param_grid,cv=5)\n",
    "knn_cv.fit(X_train_scaled,y_train)\n",
    "print(\"Best Score:\" + str(knn_cv.best_score_))\n",
    "print(\"Best Parameters: \" + str(knn_cv.best_params_))"
   ]
  },
  {
   "cell_type": "code",
   "execution_count": 67,
   "metadata": {},
   "outputs": [
    {
     "name": "stdout",
     "output_type": "stream",
     "text": [
      "Testing Score :  0.9471624266144814\n",
      "Confusion Matrix\n"
     ]
    },
    {
     "data": {
      "image/png": "[encoded data removed]",
      "text/plain": [
       "<Figure size 432x288 with 2 Axes>"
      ]
     },
     "metadata": {
      "needs_background": "light"
     },
     "output_type": "display_data"
    },
    {
     "name": "stdout",
     "output_type": "stream",
     "text": [
      "Classification Report\n",
      "              precision    recall  f1-score   support\n",
      "\n",
      "           0       0.95      1.00      0.97       968\n",
      "           1       0.50      0.02      0.04        54\n",
      "\n",
      "    accuracy                           0.95      1022\n",
      "   macro avg       0.72      0.51      0.50      1022\n",
      "weighted avg       0.92      0.95      0.92      1022\n",
      "\n"
     ]
    }
   ],
   "source": [
    "model1 = KNeighborsClassifier(n_neighbors=8)\n",
    "model1.fit(X_train_scaled,y_train)\n",
    "y_pred1 = model1.predict(X_test_scaled)\n",
    "\n",
    "score1 = model1.score(X_test_scaled, y_test)\n",
    "print('Testing Score : ',score1)\n",
    "print('Confusion Matrix')\n",
    "plot_confusion_matrix(model1,X_test_scaled,y_test,cmap=\"Blues\")\n",
    "plt.show()\n",
    "print('Classification Report')\n",
    "print(classification_report(y_test,y_pred1))\n"
   ]
  },
  {
   "cell_type": "markdown",
   "metadata": {},
   "source": [
    "#### Observation1 :\n",
    "The best parameter obtained by implementing GridSearchCV is n_neighbors = 8.\n",
    "Training the KNeighborsClassifier model on the data yielded a test score of 94%.\n",
    "\n",
    "Out of 1020 predicted values for no stroke the: \n",
    "The model made 967 correct predictions.\n",
    "There are 53 incorrect predictions.\n",
    "\n",
    "Out of 2 predicted values for stroke:\n",
    "1 was correct prediction and one was wrong prediction.\n",
    "\n",
    "Overall, the model has 94% accuracy."
   ]
  },
  {
   "cell_type": "markdown",
   "metadata": {},
   "source": [
    "### Model2:\n",
    "### Decision Tree"
   ]
  },
  {
   "cell_type": "code",
   "execution_count": 77,
   "metadata": {},
   "outputs": [
    {
     "name": "stdout",
     "output_type": "stream",
     "text": [
      "\n",
      " The test score for DecisionTree is : 0.9099804305283757\n"
     ]
    },
    {
     "data": {
      "image/png": "[encoded data removed]",
      "text/plain": [
       "<Figure size 432x288 with 2 Axes>"
      ]
     },
     "metadata": {
      "needs_background": "light"
     },
     "output_type": "display_data"
    },
    {
     "name": "stdout",
     "output_type": "stream",
     "text": [
      "Classification Report For DecisionTree\n",
      "              precision    recall  f1-score   support\n",
      "\n",
      "           0       0.95      0.96      0.95       968\n",
      "           1       0.10      0.09      0.10        54\n",
      "\n",
      "    accuracy                           0.91      1022\n",
      "   macro avg       0.53      0.52      0.53      1022\n",
      "weighted avg       0.91      0.91      0.91      1022\n",
      "\n"
     ]
    }
   ],
   "source": [
    "#Implementing Decision Tree\n",
    "\n",
    "#import required library\n",
    "from sklearn.tree import DecisionTreeClassifier\n",
    "\n",
    "model2 = DecisionTreeClassifier(random_state = 42)\n",
    "model2.fit(X_train_scaled,y_train)\n",
    "y_pred2 = model2.predict(X_test_scaled)\n",
    "score2 = model2.score(X_test_scaled, y_test)\n",
    "print('\\n The test score for DecisionTree is :',score2)\n",
    "plot_confusion_matrix(model2,X_test_scaled,y_test,cmap=\"Blues\")\n",
    "plt.show()\n",
    "print('Classification Report For DecisionTree')\n",
    "print(classification_report(y_test,y_pred2))"
   ]
  },
  {
   "cell_type": "markdown",
   "metadata": {},
   "source": [
    "#### Observation 2:\n",
    "\n",
    "Out of 1020 predicted values for 'no stroke' the: \n",
    "The model made 925 correct predictions.\n",
    "There are 49 incorrect predictions.\n",
    "\n",
    "Out of 48 predicted values for 'stroke':\n",
    "5 were correct prediction and 43 were wrong prediction.\n",
    "\n",
    "Overall, the model has 90% accuracy and the model accuracy is very poor for predicting stroke(negative value)"
   ]
  },
  {
   "cell_type": "markdown",
   "metadata": {},
   "source": [
    "### Model3:\n",
    "### RandomForestClassifier  using RandomSearchCV for Hyperparameter optimization"
   ]
  },
  {
   "cell_type": "code",
   "execution_count": 78,
   "metadata": {},
   "outputs": [
    {
     "name": "stdout",
     "output_type": "stream",
     "text": [
      "Fitting 3 folds for each of 100 candidates, totalling 300 fits\n"
     ]
    },
    {
     "name": "stderr",
     "output_type": "stream",
     "text": [
      "[Parallel(n_jobs=-1)]: Using backend LokyBackend with 8 concurrent workers.\n",
      "[Parallel(n_jobs=-1)]: Done  25 tasks      | elapsed:   15.1s\n",
      "[Parallel(n_jobs=-1)]: Done 146 tasks      | elapsed:   56.6s\n",
      "[Parallel(n_jobs=-1)]: Done 300 out of 300 | elapsed:  2.1min finished\n"
     ]
    },
    {
     "data": {
      "text/plain": [
       "RandomizedSearchCV(cv=3, estimator=RandomForestClassifier(), n_iter=100,\n",
       "                   n_jobs=-1,\n",
       "                   param_distributions={'max_depth': [10, 19, 28, 37, 46, 55,\n",
       "                                                      64, 73, 82, 91, 100,\n",
       "                                                      None],\n",
       "                                        'max_features': ['auto', 'sqrt'],\n",
       "                                        'min_samples_leaf': [1, 2, 4],\n",
       "                                        'min_samples_split': [2, 5, 10],\n",
       "                                        'n_estimators': [200, 400, 600, 800,\n",
       "                                                         1000, 1200, 1400, 1600,\n",
       "                                                         1800, 2000]},\n",
       "                   random_state=42, verbose=2)"
      ]
     },
     "execution_count": 78,
     "metadata": {},
     "output_type": "execute_result"
    }
   ],
   "source": [
    "#Implementing RandomSearchCV for Hyperparameter optimization and selection \n",
    "\n",
    "#import required library\n",
    "from sklearn.ensemble import RandomForestClassifier \n",
    "from sklearn.model_selection import RandomizedSearchCV\n",
    "\n",
    "rfc = RandomForestClassifier()\n",
    "\n",
    "#Number of trees\n",
    "n_estimators = [int(x) for x in np.linspace(start=200, stop=2000, num=10)]\n",
    "#Number of features to consider in every split\n",
    "max_features = ['auto', 'sqrt']\n",
    "#Max number of levels\n",
    "max_depth = [int(x) for x in np.linspace(start=10, stop=100, num=11)]\n",
    "max_depth.append(None)\n",
    "#Max number of samples needed to split at a node\n",
    "min_samples_split = [2,5,10]\n",
    "#Min number of samples needed ato split at a node\n",
    "min_samples_leaf = [1,2,4]\n",
    "#Method of selecting sample to train each tree\n",
    "bootstrap = [True, False]\n",
    "\n",
    "#Creating random grid\n",
    "random_grid = {'n_estimators': n_estimators,\n",
    "               'max_features': max_features,\n",
    "               'max_depth': max_depth, \n",
    "               'min_samples_split': min_samples_split, \n",
    "               'min_samples_leaf': min_samples_leaf, \n",
    "               }\n",
    "\n",
    "#Random Search using 3 fold cross validation and random grid\n",
    "rf_random = RandomizedSearchCV(estimator = rfc, param_distributions = random_grid, n_iter = 100, cv = 3, verbose=2, random_state=42, n_jobs = -1)\n",
    "\n",
    "#Fit the model\n",
    "rf_random.fit(X_train_scaled,y_train)\n",
    "\n"
   ]
  },
  {
   "cell_type": "code",
   "execution_count": 79,
   "metadata": {},
   "outputs": [
    {
     "name": "stdout",
     "output_type": "stream",
     "text": [
      "0.9522877359083447\n",
      "RandomForestClassifier(max_depth=46, min_samples_leaf=4, n_estimators=1800)\n"
     ]
    }
   ],
   "source": [
    "print(rf_random.best_score_)\n",
    "print(rf_random.best_estimator_)"
   ]
  },
  {
   "cell_type": "code",
   "execution_count": 83,
   "metadata": {},
   "outputs": [
    {
     "name": "stdout",
     "output_type": "stream",
     "text": [
      "Confusion Matrix\n",
      "\n",
      " Test score for RandomForestClassifier is :  0.9471624266144814\n"
     ]
    },
    {
     "data": {
      "image/png": "[encoded data removed]",
      "text/plain": [
       "<Figure size 432x288 with 2 Axes>"
      ]
     },
     "metadata": {
      "needs_background": "light"
     },
     "output_type": "display_data"
    },
    {
     "name": "stdout",
     "output_type": "stream",
     "text": [
      "Classification Report For RandomForestClassifier:\n",
      "              precision    recall  f1-score   support\n",
      "\n",
      "           0       0.95      1.00      0.97       968\n",
      "           1       0.00      0.00      0.00        54\n",
      "\n",
      "    accuracy                           0.95      1022\n",
      "   macro avg       0.47      0.50      0.49      1022\n",
      "weighted avg       0.90      0.95      0.92      1022\n",
      "\n"
     ]
    },
    {
     "name": "stderr",
     "output_type": "stream",
     "text": [
      "/Users/pranoti/opt/anaconda3/lib/python3.8/site-packages/sklearn/metrics/_classification.py:1221: UndefinedMetricWarning: Precision and F-score are ill-defined and being set to 0.0 in labels with no predicted samples. Use `zero_division` parameter to control this behavior.\n",
      "  _warn_prf(average, modifier, msg_start, len(result))\n"
     ]
    }
   ],
   "source": [
    "#Creating the RandomForestClassifier model using the best parameters from RandomSearchCV\n",
    "model3 = RandomForestClassifier(max_depth=46, min_samples_leaf=4, n_estimators=1800, random_state=24)#(n_estimators=800, criterion='gini', max_depth = None, max_features='sqrt', min_samples_leaf=1,min_samples_split=2)\n",
    "model3.fit(X_train_scaled,y_train)\n",
    "\n",
    "#Model prediction on test set\n",
    "y_pred3 = model3.predict(X_test_scaled)\n",
    "print('Confusion Matrix')\n",
    "\n",
    "score3 = model3.score(X_test_scaled, y_test)\n",
    "print('\\n Test score for RandomForestClassifier is : ', score3)\n",
    "plot_confusion_matrix(model3,X_test_scaled,y_test,cmap=\"Blues\")\n",
    "plt.show()\n",
    "print('Classification Report For RandomForestClassifier:')\n",
    "print(classification_report(y_test,y_pred3))\n"
   ]
  },
  {
   "cell_type": "markdown",
   "metadata": {},
   "source": [
    "####  Observation 3:\n",
    "\n",
    "Best parameters obtained by implementing RandomSearchCV are max_depth=46, min_samples_leaf=4, n_estimators=1800.\n",
    "\n",
    "Using these parameters the trained model gave following output:\n",
    "\n",
    "Out of 1022 predicted values: \n",
    "The model made 968 correct predictions for 'no stroke'(True positives).\n",
    "There are 54 incorrect predictions(False positives).\n",
    "The model made 0 correct predictions for stroke(True negatives and False negatives)\n",
    "\n",
    "Overall, the model has 95% accuracy and the models accuracy is very poor for predicting stroke(negative value)"
   ]
  },
  {
   "cell_type": "markdown",
   "metadata": {},
   "source": [
    "### Model4:\n",
    "### LogisticRegression"
   ]
  },
  {
   "cell_type": "code",
   "execution_count": 84,
   "metadata": {},
   "outputs": [
    {
     "name": "stdout",
     "output_type": "stream",
     "text": [
      "\n",
      " Testing Score for LogisticRegression is :  0.9481409001956947\n"
     ]
    },
    {
     "data": {
      "image/png": "[encoded data removed]",
      "text/plain": [
       "<Figure size 432x288 with 2 Axes>"
      ]
     },
     "metadata": {
      "needs_background": "light"
     },
     "output_type": "display_data"
    },
    {
     "name": "stdout",
     "output_type": "stream",
     "text": [
      "Classification Report for LogisticRegression:\n",
      "              precision    recall  f1-score   support\n",
      "\n",
      "           0       0.95      1.00      0.97       968\n",
      "           1       1.00      0.02      0.04        54\n",
      "\n",
      "    accuracy                           0.95      1022\n",
      "   macro avg       0.97      0.51      0.50      1022\n",
      "weighted avg       0.95      0.95      0.92      1022\n",
      "\n"
     ]
    }
   ],
   "source": [
    "from sklearn.linear_model import LogisticRegression\n",
    "\n",
    "model4 = LogisticRegression(random_state=42)\n",
    "model4.fit(X_train_scaled,y_train)\n",
    "y_pred4 = model4.predict(X_test_scaled)\n",
    "\n",
    "score4 = model4.score(X_test_scaled, y_test)\n",
    "print('\\n Testing Score for LogisticRegression is : ',score4)\n",
    "plot_confusion_matrix(model4,X_test_scaled,y_test,cmap=\"Blues\")\n",
    "plt.show()\n",
    "print('Classification Report for LogisticRegression:')\n",
    "print(classification_report(y_test,y_pred4))"
   ]
  },
  {
   "cell_type": "markdown",
   "metadata": {},
   "source": [
    "#### Observation 4:\n",
    "\n",
    "Out of 1021 predicted values: \n",
    "\n",
    "The model made 968 correct predictions for 'no stroke'(True positives).\n",
    "There are 53 incorrect predictions(False positives).\n",
    "The model made 1 correct prediction for stroke(True negatives)\n",
    "The model made 0 prediction for False negative\n",
    "\n",
    "Overall, the model has 95% accuracy and the models accuracy is very poor for predicting stroke(negative value)"
   ]
  },
  {
   "cell_type": "markdown",
   "metadata": {},
   "source": [
    "### Summary:\n",
    "\n",
    "The stroke data was analysed and processed for machine learning model implementation to predict stroke based on history of medical conditions and lifestyle features.\n",
    "Predicition of stroke being a classification problem,four different types of classification machine learning algorithms were implemented and performance of different models were evaluated to find the best model to predict the stroke. \n",
    "The models were compared and eveluated using the confusion Matrix and classification report.\n",
    "\n",
    "\n",
    "### Conclusion:\n",
    "\n",
    "Out of all the applied models on the stroke data to predict the possiblity of a person getting stroke, KNearestNeighbor with overall prediction accuracy of 95% is the best model. The model is sesitive to positive statistical prediction. The model is likely to make acurate predictions 97% of times for a person who is less likely of getting stroke."
   ]
  },
  {
   "cell_type": "code",
   "execution_count": null,
   "metadata": {},
   "outputs": [],
   "source": []
  }
 ],
 "metadata": {
  "kernelspec": {
   "display_name": "Python 3",
   "language": "python",
   "name": "python3"
  },
  "language_info": {
   "codemirror_mode": {
    "name": "ipython",
    "version": 3
   },
   "file_extension": ".py",
   "mimetype": "text/x-python",
   "name": "python",
   "nbconvert_exporter": "python",
   "pygments_lexer": "ipython3",
   "version": "3.8.5"
  }
 },
 "nbformat": 4,
 "nbformat_minor": 4
}
