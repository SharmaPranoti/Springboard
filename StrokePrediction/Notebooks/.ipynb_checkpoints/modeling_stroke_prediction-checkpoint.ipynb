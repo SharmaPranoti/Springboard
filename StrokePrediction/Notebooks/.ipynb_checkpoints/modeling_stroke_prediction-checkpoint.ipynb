{
 "cells": [
  {
   "cell_type": "markdown",
   "metadata": {},
   "source": [
    "###                        Modelling Using 4 Different Types of Classification Algorithms"
   ]
  },
  {
   "cell_type": "code",
   "execution_count": 2,
   "metadata": {},
   "outputs": [],
   "source": [
    "#import the required libraries\n",
    "import numpy as np\n",
    "import pandas as pd\n",
    "import missingno as msno\n",
    "import matplotlib.pyplot as plt\n",
    "import seaborn as sns\n",
    "import statsmodels.api as sm\n",
    "from sklearn import linear_model, preprocessing\n",
    "from scipy.stats import spearmanr\n",
    "from sklearn.metrics import confusion_matrix\n",
    "from sklearn.metrics import classification_report\n",
    "from sklearn.metrics import plot_confusion_matrix\n",
    "from sklearn.metrics import plot_roc_curve"
   ]
  },
  {
   "cell_type": "code",
   "execution_count": 3,
   "metadata": {},
   "outputs": [],
   "source": [
    "#import data\n",
    "stroke_data = pd.read_csv('../data/stroke_data_explored.csv')"
   ]
  },
  {
   "cell_type": "code",
   "execution_count": 13,
   "metadata": {},
   "outputs": [
    {
     "data": {
      "text/html": [
       "<div>\n",
       "<style scoped>\n",
       "    .dataframe tbody tr th:only-of-type {\n",
       "        vertical-align: middle;\n",
       "    }\n",
       "\n",
       "    .dataframe tbody tr th {\n",
       "        vertical-align: top;\n",
       "    }\n",
       "\n",
       "    .dataframe thead th {\n",
       "        text-align: right;\n",
       "    }\n",
       "</style>\n",
       "<table border=\"1\" class=\"dataframe\">\n",
       "  <thead>\n",
       "    <tr style=\"text-align: right;\">\n",
       "      <th></th>\n",
       "      <th>age</th>\n",
       "      <th>hypertension</th>\n",
       "      <th>heart_disease</th>\n",
       "      <th>avg_glucose_level</th>\n",
       "      <th>bmi</th>\n",
       "      <th>gender_Female</th>\n",
       "      <th>gender_Male</th>\n",
       "      <th>ever_married_No</th>\n",
       "      <th>ever_married_Yes</th>\n",
       "      <th>work_type_Govt_job</th>\n",
       "      <th>...</th>\n",
       "      <th>work_type_Private</th>\n",
       "      <th>work_type_Self-employed</th>\n",
       "      <th>work_type_children</th>\n",
       "      <th>Residence_type_Rural</th>\n",
       "      <th>Residence_type_Urban</th>\n",
       "      <th>smoking_status_Unknown</th>\n",
       "      <th>smoking_status_formerly smoked</th>\n",
       "      <th>smoking_status_never smoked</th>\n",
       "      <th>smoking_status_smokes</th>\n",
       "      <th>stroke</th>\n",
       "    </tr>\n",
       "  </thead>\n",
       "  <tbody>\n",
       "    <tr>\n",
       "      <th>0</th>\n",
       "      <td>67.0</td>\n",
       "      <td>0</td>\n",
       "      <td>1</td>\n",
       "      <td>228.69</td>\n",
       "      <td>36.6</td>\n",
       "      <td>0</td>\n",
       "      <td>1</td>\n",
       "      <td>0</td>\n",
       "      <td>1</td>\n",
       "      <td>0</td>\n",
       "      <td>...</td>\n",
       "      <td>1</td>\n",
       "      <td>0</td>\n",
       "      <td>0</td>\n",
       "      <td>0</td>\n",
       "      <td>1</td>\n",
       "      <td>0</td>\n",
       "      <td>1</td>\n",
       "      <td>0</td>\n",
       "      <td>0</td>\n",
       "      <td>1</td>\n",
       "    </tr>\n",
       "    <tr>\n",
       "      <th>1</th>\n",
       "      <td>61.0</td>\n",
       "      <td>0</td>\n",
       "      <td>0</td>\n",
       "      <td>202.21</td>\n",
       "      <td>28.9</td>\n",
       "      <td>1</td>\n",
       "      <td>0</td>\n",
       "      <td>0</td>\n",
       "      <td>1</td>\n",
       "      <td>0</td>\n",
       "      <td>...</td>\n",
       "      <td>0</td>\n",
       "      <td>1</td>\n",
       "      <td>0</td>\n",
       "      <td>1</td>\n",
       "      <td>0</td>\n",
       "      <td>0</td>\n",
       "      <td>0</td>\n",
       "      <td>1</td>\n",
       "      <td>0</td>\n",
       "      <td>1</td>\n",
       "    </tr>\n",
       "    <tr>\n",
       "      <th>2</th>\n",
       "      <td>80.0</td>\n",
       "      <td>0</td>\n",
       "      <td>1</td>\n",
       "      <td>105.92</td>\n",
       "      <td>32.5</td>\n",
       "      <td>0</td>\n",
       "      <td>1</td>\n",
       "      <td>0</td>\n",
       "      <td>1</td>\n",
       "      <td>0</td>\n",
       "      <td>...</td>\n",
       "      <td>1</td>\n",
       "      <td>0</td>\n",
       "      <td>0</td>\n",
       "      <td>1</td>\n",
       "      <td>0</td>\n",
       "      <td>0</td>\n",
       "      <td>0</td>\n",
       "      <td>1</td>\n",
       "      <td>0</td>\n",
       "      <td>1</td>\n",
       "    </tr>\n",
       "    <tr>\n",
       "      <th>3</th>\n",
       "      <td>49.0</td>\n",
       "      <td>0</td>\n",
       "      <td>0</td>\n",
       "      <td>171.23</td>\n",
       "      <td>34.4</td>\n",
       "      <td>1</td>\n",
       "      <td>0</td>\n",
       "      <td>0</td>\n",
       "      <td>1</td>\n",
       "      <td>0</td>\n",
       "      <td>...</td>\n",
       "      <td>1</td>\n",
       "      <td>0</td>\n",
       "      <td>0</td>\n",
       "      <td>0</td>\n",
       "      <td>1</td>\n",
       "      <td>0</td>\n",
       "      <td>0</td>\n",
       "      <td>0</td>\n",
       "      <td>1</td>\n",
       "      <td>1</td>\n",
       "    </tr>\n",
       "    <tr>\n",
       "      <th>4</th>\n",
       "      <td>79.0</td>\n",
       "      <td>1</td>\n",
       "      <td>0</td>\n",
       "      <td>174.12</td>\n",
       "      <td>24.0</td>\n",
       "      <td>1</td>\n",
       "      <td>0</td>\n",
       "      <td>0</td>\n",
       "      <td>1</td>\n",
       "      <td>0</td>\n",
       "      <td>...</td>\n",
       "      <td>0</td>\n",
       "      <td>1</td>\n",
       "      <td>0</td>\n",
       "      <td>1</td>\n",
       "      <td>0</td>\n",
       "      <td>0</td>\n",
       "      <td>0</td>\n",
       "      <td>1</td>\n",
       "      <td>0</td>\n",
       "      <td>1</td>\n",
       "    </tr>\n",
       "  </tbody>\n",
       "</table>\n",
       "<p>5 rows × 21 columns</p>\n",
       "</div>"
      ],
      "text/plain": [
       "    age  hypertension  heart_disease  avg_glucose_level   bmi  gender_Female  \\\n",
       "0  67.0             0              1             228.69  36.6              0   \n",
       "1  61.0             0              0             202.21  28.9              1   \n",
       "2  80.0             0              1             105.92  32.5              0   \n",
       "3  49.0             0              0             171.23  34.4              1   \n",
       "4  79.0             1              0             174.12  24.0              1   \n",
       "\n",
       "   gender_Male  ever_married_No  ever_married_Yes  work_type_Govt_job  ...  \\\n",
       "0            1                0                 1                   0  ...   \n",
       "1            0                0                 1                   0  ...   \n",
       "2            1                0                 1                   0  ...   \n",
       "3            0                0                 1                   0  ...   \n",
       "4            0                0                 1                   0  ...   \n",
       "\n",
       "   work_type_Private  work_type_Self-employed  work_type_children  \\\n",
       "0                  1                        0                   0   \n",
       "1                  0                        1                   0   \n",
       "2                  1                        0                   0   \n",
       "3                  1                        0                   0   \n",
       "4                  0                        1                   0   \n",
       "\n",
       "   Residence_type_Rural  Residence_type_Urban  smoking_status_Unknown  \\\n",
       "0                     0                     1                       0   \n",
       "1                     1                     0                       0   \n",
       "2                     1                     0                       0   \n",
       "3                     0                     1                       0   \n",
       "4                     1                     0                       0   \n",
       "\n",
       "   smoking_status_formerly smoked  smoking_status_never smoked  \\\n",
       "0                               1                            0   \n",
       "1                               0                            1   \n",
       "2                               0                            1   \n",
       "3                               0                            0   \n",
       "4                               0                            1   \n",
       "\n",
       "   smoking_status_smokes  stroke  \n",
       "0                      0       1  \n",
       "1                      0       1  \n",
       "2                      0       1  \n",
       "3                      1       1  \n",
       "4                      0       1  \n",
       "\n",
       "[5 rows x 21 columns]"
      ]
     },
     "execution_count": 13,
     "metadata": {},
     "output_type": "execute_result"
    }
   ],
   "source": [
    "#Checking the number of rows and columns\n",
    "stroke_data.shape\n",
    "stroke_data.head()"
   ]
  },
  {
   "cell_type": "code",
   "execution_count": 5,
   "metadata": {},
   "outputs": [
    {
     "data": {
      "text/plain": [
       "0    4860\n",
       "1     249\n",
       "Name: stroke, dtype: int64"
      ]
     },
     "execution_count": 5,
     "metadata": {},
     "output_type": "execute_result"
    }
   ],
   "source": [
    "# Convert categorical data into dummy features\n",
    "stroke_data = pd.get_dummies(stroke_data)\n",
    "# Reordering the DataFrameccolumns\n",
    "reorder = list(stroke_data.columns)\n",
    "reorder.remove('stroke')\n",
    "reorder.append('stroke')\n",
    "stroke_data = stroke_data[reorder]\n",
    "stroke_data['stroke'].value_counts()"
   ]
  },
  {
   "cell_type": "code",
   "execution_count": 7,
   "metadata": {},
   "outputs": [
    {
     "data": {
      "text/plain": [
       "4860"
      ]
     },
     "execution_count": 7,
     "metadata": {},
     "output_type": "execute_result"
    }
   ],
   "source": [
    "# Checking for class imbalance\n",
    "stroke_data['stroke'][stroke_data['stroke']==0].count()"
   ]
  },
  {
   "cell_type": "code",
   "execution_count": 8,
   "metadata": {},
   "outputs": [
    {
     "data": {
      "text/plain": [
       "1    4860\n",
       "0    4860\n",
       "Name: stroke, dtype: int64"
      ]
     },
     "execution_count": 8,
     "metadata": {},
     "output_type": "execute_result"
    }
   ],
   "source": [
    "# Imbalance handling using up-resampling \n",
    "from sklearn.utils import resample\n",
    "\n",
    "without_stroke = stroke_data[stroke_data.stroke == 0]\n",
    "with_stroke = stroke_data[stroke_data.stroke == 1]\n",
    "\n",
    "with_stroke_upsampled = resample(with_stroke,\n",
    "                       replace=True,\n",
    "                       n_samples=4860,\n",
    "                       random_state=0)\n",
    "\n",
    "stroke_data_upsampled = pd.concat([without_stroke,with_stroke_upsampled])\n",
    "\n",
    "stroke_data_upsampled.stroke.value_counts()"
   ]
  },
  {
   "cell_type": "code",
   "execution_count": 17,
   "metadata": {},
   "outputs": [],
   "source": [
    "#Splitting data into dependent and independent features\n",
    "y = stroke_data_upsampled['stroke']\n",
    "X = stroke_data_upsampled.drop('stroke', axis=1)\n",
    "#y = stroke_data['stroke']\n",
    "#X = stroke_data.drop('stroke', axis=1)"
   ]
  },
  {
   "cell_type": "code",
   "execution_count": 18,
   "metadata": {},
   "outputs": [
    {
     "name": "stdout",
     "output_type": "stream",
     "text": [
      "(7776, 20) (1944, 20) (7776,) (1944,)\n"
     ]
    }
   ],
   "source": [
    "#Splitting the data into train set and test set \n",
    "import sklearn.model_selection #as train_test_split\n",
    "X_train, X_test, y_train, y_test = sklearn.model_selection.train_test_split(X, y, test_size=0.2, random_state=0)\n",
    "print(X_train.shape, X_test.shape, y_train.shape, y_test.shape)"
   ]
  },
  {
   "cell_type": "code",
   "execution_count": 19,
   "metadata": {},
   "outputs": [],
   "source": [
    "#Using Standard Scaler to scale the data\n",
    "from sklearn.preprocessing import StandardScaler, MinMaxScaler\n",
    "scaler = StandardScaler()\n",
    "#scaler.fit(X_train[['age','avg_glucose_level','bmi']])\n",
    "X_train_scaled = scaler.fit_transform(X_train[['age','avg_glucose_level','bmi']])\n",
    "X_test_scaled = scaler.transform(X_test[['age','avg_glucose_level','bmi']])"
   ]
  },
  {
   "cell_type": "markdown",
   "metadata": {},
   "source": [
    "### Model1:\n",
    "### KNeighborsClassifier using Grid Search CV for Hyperparameter optimization"
   ]
  },
  {
   "cell_type": "code",
   "execution_count": 20,
   "metadata": {},
   "outputs": [
    {
     "name": "stdout",
     "output_type": "stream",
     "text": [
      "Best Score:0.9668208532059281\n",
      "Best Parameters: {'n_neighbors': 1}\n",
      "{'mean_fit_time': array([0.00355797, 0.00224996, 0.00231061, 0.0024014 , 0.00232344,\n",
      "       0.00226769, 0.00227704, 0.00228906, 0.00228066]), 'std_fit_time': array([1.27623507e-03, 2.98017502e-05, 8.11544904e-05, 1.54150870e-04,\n",
      "       1.02814363e-04, 3.71573960e-05, 4.86875257e-05, 3.16380646e-05,\n",
      "       3.78800231e-05]), 'mean_score_time': array([0.03165846, 0.04156456, 0.02612357, 0.02681227, 0.02733274,\n",
      "       0.02682557, 0.02830901, 0.02771602, 0.02756119]), 'std_score_time': array([0.00783293, 0.0308036 , 0.00039311, 0.0006571 , 0.00041747,\n",
      "       0.00022561, 0.00101486, 0.00028471, 0.00034885]), 'param_n_neighbors': masked_array(data=[1, 2, 3, 4, 5, 6, 7, 8, 9],\n",
      "             mask=[False, False, False, False, False, False, False, False,\n",
      "                   False],\n",
      "       fill_value='?',\n",
      "            dtype=object), 'params': [{'n_neighbors': 1}, {'n_neighbors': 2}, {'n_neighbors': 3}, {'n_neighbors': 4}, {'n_neighbors': 5}, {'n_neighbors': 6}, {'n_neighbors': 7}, {'n_neighbors': 8}, {'n_neighbors': 9}], 'split0_test_score': array([0.96786632, 0.96786632, 0.9440874 , 0.94087404, 0.92416452,\n",
      "       0.92416452, 0.90424165, 0.90488432, 0.89588689]), 'split1_test_score': array([0.96270096, 0.96270096, 0.93440514, 0.93440514, 0.91318328,\n",
      "       0.91318328, 0.90096463, 0.90096463, 0.88360129]), 'split2_test_score': array([0.96784566, 0.96784566, 0.94340836, 0.94340836, 0.92154341,\n",
      "       0.92154341, 0.9022508 , 0.9022508 , 0.88938907]), 'split3_test_score': array([0.96720257, 0.96720257, 0.94790997, 0.94790997, 0.92540193,\n",
      "       0.9266881 , 0.90803859, 0.90803859, 0.8926045 ]), 'split4_test_score': array([0.96848875, 0.96848875, 0.93569132, 0.93569132, 0.91768489,\n",
      "       0.91768489, 0.90160772, 0.90160772, 0.88038585]), 'mean_test_score': array([0.96682085, 0.96682085, 0.94110044, 0.94045777, 0.92039561,\n",
      "       0.92065284, 0.90342068, 0.90354921, 0.88837352]), 'std_test_score': array([0.00209973, 0.00209973, 0.00519045, 0.0049753 , 0.00447104,\n",
      "       0.00477813, 0.00255682, 0.00261045, 0.0056914 ]), 'rank_test_score': array([1, 1, 3, 4, 6, 5, 8, 7, 9], dtype=int32)}\n"
     ]
    }
   ],
   "source": [
    "from sklearn.model_selection import GridSearchCV\n",
    "from sklearn.neighbors import KNeighborsClassifier\n",
    "\n",
    "param_grid = {'n_neighbors':np.arange(1,10)}\n",
    "knn = KNeighborsClassifier()\n",
    "knn_cv= GridSearchCV(knn,param_grid,cv=5)\n",
    "knn_cv.fit(X_train_scaled,y_train)\n",
    "print(\"Best Score:\" + str(knn_cv.best_score_))\n",
    "print(\"Best Parameters: \" + str(knn_cv.best_params_))\n",
    "print(knn_cv.cv_results_)"
   ]
  },
  {
   "cell_type": "code",
   "execution_count": 23,
   "metadata": {},
   "outputs": [
    {
     "name": "stdout",
     "output_type": "stream",
     "text": [
      "Testing Score :  0.9002057613168725\n",
      "Confusion Matrix\n"
     ]
    },
    {
     "data": {
      "image/png": "[encoded data removed]",
      "text/plain": [
       "<Figure size 432x288 with 2 Axes>"
      ]
     },
     "metadata": {
      "needs_background": "light"
     },
     "output_type": "display_data"
    },
    {
     "name": "stdout",
     "output_type": "stream",
     "text": [
      " 0 - No Risk Of Stroke(Positive)  \n",
      " 1 - High Risk Of Stroke(Negative)\n",
      "\n",
      "Classification Report\n",
      "              precision    recall  f1-score   support\n",
      "\n",
      "           0       1.00      0.80      0.89       967\n",
      "           1       0.83      1.00      0.91       977\n",
      "\n",
      "    accuracy                           0.90      1944\n",
      "   macro avg       0.92      0.90      0.90      1944\n",
      "weighted avg       0.92      0.90      0.90      1944\n",
      "\n"
     ]
    }
   ],
   "source": [
    "model1 = KNeighborsClassifier(n_neighbors=8)\n",
    "model1.fit(X_train_scaled,y_train)\n",
    "y_pred1 = model1.predict(X_test_scaled)\n",
    "\n",
    "score1 = model1.score(X_test_scaled, y_test)\n",
    "print('Testing Score : ',score1)\n",
    "print('Confusion Matrix')\n",
    "plot_confusion_matrix(model1,X_test_scaled,y_test,cmap=\"Blues\")\n",
    "plt.show()\n",
    "\n",
    "print(' 0 - No Risk Of Stroke(Positive)  \\n 1 - High Risk Of Stroke(Negative)\\n')\n",
    "\n",
    "print('Classification Report')\n",
    "print(classification_report(y_test,y_pred1))\n"
   ]
  },
  {
   "cell_type": "markdown",
   "metadata": {},
   "source": [
    "#### Observation1 :\n",
    "The best parameter obtained by implementing GridSearchCV is n_neighbors = 8.\n",
    "Training the KNeighborsClassifier model on the data yielded a test score of 90%.\n",
    "\n",
    "Out of 967 actual positive(no risk) values: \n",
    "The model made 773 correct positive(No Risk of Stroke) predictions.\n",
    "194 were inacuurately predicted as negative(High Risk Of stroke)\n",
    "\n",
    "Out of 977 actual negative(high risk) values: \n",
    "The model made 977 correct negative(high Risk of Stroke) predictions with no inaccurate predictions for (No risk of stroke)\n",
    "\n",
    "With a recall value of 100% the model is sensitive to negative predictions."
   ]
  },
  {
   "cell_type": "markdown",
   "metadata": {},
   "source": [
    "### Model2:\n",
    "### Decision Tree"
   ]
  },
  {
   "cell_type": "code",
   "execution_count": 25,
   "metadata": {},
   "outputs": [
    {
     "name": "stdout",
     "output_type": "stream",
     "text": [
      "\n",
      " The test score for DecisionTree is : 0.970679012345679\n"
     ]
    },
    {
     "data": {
      "image/png": "[encoded data removed]",
      "text/plain": [
       "<Figure size 432x288 with 2 Axes>"
      ]
     },
     "metadata": {
      "needs_background": "light"
     },
     "output_type": "display_data"
    },
    {
     "name": "stdout",
     "output_type": "stream",
     "text": [
      " 0 - No Risk Of Stroke(Positive)  \n",
      " 1 - High Risk Of Stroke(Negative)\n",
      "\n",
      "Classification Report For DecisionTree\n",
      "              precision    recall  f1-score   support\n",
      "\n",
      "           0       1.00      0.94      0.97       967\n",
      "           1       0.94      1.00      0.97       977\n",
      "\n",
      "    accuracy                           0.97      1944\n",
      "   macro avg       0.97      0.97      0.97      1944\n",
      "weighted avg       0.97      0.97      0.97      1944\n",
      "\n"
     ]
    }
   ],
   "source": [
    "#Implementing Decision Tree\n",
    "\n",
    "#import required library\n",
    "from sklearn.tree import DecisionTreeClassifier\n",
    "\n",
    "model2 = DecisionTreeClassifier(random_state = 42)\n",
    "model2.fit(X_train_scaled,y_train)\n",
    "y_pred2 = model2.predict(X_test_scaled)\n",
    "score2 = model2.score(X_test_scaled, y_test)\n",
    "print('\\n The test score for DecisionTree is :',score2)\n",
    "plot_confusion_matrix(model2,X_test_scaled,y_test,cmap=\"Blues\")\n",
    "plt.show()\n",
    "\n",
    "print(' 0 - No Risk Of Stroke(Positive)  \\n 1 - High Risk Of Stroke(Negative)\\n')\n",
    "\n",
    "print('Classification Report For DecisionTree')\n",
    "print(classification_report(y_test,y_pred2))"
   ]
  },
  {
   "cell_type": "markdown",
   "metadata": {},
   "source": [
    "#### Observation 2:\n",
    "\n",
    "Out of 967 actual positive(no risk) values: \n",
    "The model made 910 correct positive(No Risk of Stroke) predictions.\n",
    "57 were inacuurately predicted as negative(High Risk Of stroke)\n",
    "\n",
    "Out of 977 actual negative(high risk) values: \n",
    "The model made 977 correct negative(high Risk of Stroke) predictions with no inaccurate predictions for (No risk of stroke)\n",
    "\n",
    "Overall, the model2 has 97% accuracy and it has performed bettter than model1."
   ]
  },
  {
   "cell_type": "markdown",
   "metadata": {},
   "source": [
    "### Model3:\n",
    "### RandomForestClassifier  using RandomSearchCV for Hyperparameter optimization"
   ]
  },
  {
   "cell_type": "code",
   "execution_count": 28,
   "metadata": {},
   "outputs": [
    {
     "name": "stdout",
     "output_type": "stream",
     "text": [
      "Fitting 3 folds for each of 100 candidates, totalling 300 fits\n"
     ]
    },
    {
     "name": "stderr",
     "output_type": "stream",
     "text": [
      "[Parallel(n_jobs=-1)]: Using backend LokyBackend with 8 concurrent workers.\n",
      "[Parallel(n_jobs=-1)]: Done  25 tasks      | elapsed:   22.3s\n",
      "/Users/pranoti/opt/anaconda3/lib/python3.8/site-packages/joblib/externals/loky/process_executor.py:688: UserWarning: A worker stopped while some jobs were given to the executor. This can be caused by a too short worker timeout or by a memory leak.\n",
      "  warnings.warn(\n",
      "[Parallel(n_jobs=-1)]: Done 146 tasks      | elapsed:  1.6min\n",
      "[Parallel(n_jobs=-1)]: Done 300 out of 300 | elapsed:  3.4min finished\n"
     ]
    },
    {
     "data": {
      "text/plain": [
       "RandomizedSearchCV(cv=3, estimator=RandomForestClassifier(), n_iter=100,\n",
       "                   n_jobs=-1,\n",
       "                   param_distributions={'max_depth': [10, 19, 28, 37, 46, 55,\n",
       "                                                      64, 73, 82, 91, 100,\n",
       "                                                      None],\n",
       "                                        'max_features': ['auto', 'sqrt'],\n",
       "                                        'min_samples_leaf': [1, 2, 4],\n",
       "                                        'min_samples_split': [2, 5, 10],\n",
       "                                        'n_estimators': [200, 400, 600, 800,\n",
       "                                                         1000, 1200, 1400, 1600,\n",
       "                                                         1800, 2000]},\n",
       "                   random_state=42, verbose=2)"
      ]
     },
     "execution_count": 28,
     "metadata": {},
     "output_type": "execute_result"
    }
   ],
   "source": [
    "#Implementing RandomSearchCV for Hyperparameter optimization and selection \n",
    "\n",
    "#import required library\n",
    "from sklearn.ensemble import RandomForestClassifier \n",
    "from sklearn.model_selection import RandomizedSearchCV\n",
    "\n",
    "rfc = RandomForestClassifier()\n",
    "\n",
    "#Number of trees\n",
    "n_estimators = [int(x) for x in np.linspace(start=200, stop=2000, num=10)]\n",
    "#Number of features to consider in every split\n",
    "max_features = ['auto', 'sqrt']\n",
    "#Max number of levels\n",
    "max_depth = [int(x) for x in np.linspace(start=10, stop=100, num=11)]\n",
    "max_depth.append(None)\n",
    "#Max number of samples needed to split at a node\n",
    "min_samples_split = [2,5,10]\n",
    "#Min number of samples needed ato split at a node\n",
    "min_samples_leaf = [1,2,4]\n",
    "#Method of selecting sample to train each tree\n",
    "bootstrap = [True, False]\n",
    "\n",
    "#Creating random grid\n",
    "random_grid = {'n_estimators': n_estimators,\n",
    "               'max_features': max_features,\n",
    "               'max_depth': max_depth, \n",
    "               'min_samples_split': min_samples_split, \n",
    "               'min_samples_leaf': min_samples_leaf, \n",
    "               }\n",
    "\n",
    "#Random Search using 3 fold cross validation and random grid\n",
    "rf_random = RandomizedSearchCV(estimator = rfc, param_distributions = random_grid, n_iter = 100, cv = 3, verbose=2, random_state=42, n_jobs = -1)\n",
    "\n",
    "#Fit the model\n",
    "rf_random.fit(X_train_scaled,y_train)\n",
    "\n"
   ]
  },
  {
   "cell_type": "code",
   "execution_count": 29,
   "metadata": {},
   "outputs": [
    {
     "name": "stdout",
     "output_type": "stream",
     "text": [
      "0.976466049382716\n",
      "RandomForestClassifier(max_depth=91, max_features='sqrt', n_estimators=1400)\n"
     ]
    }
   ],
   "source": [
    "print(rf_random.best_score_)\n",
    "print(rf_random.best_estimator_)"
   ]
  },
  {
   "cell_type": "code",
   "execution_count": 30,
   "metadata": {},
   "outputs": [
    {
     "name": "stdout",
     "output_type": "stream",
     "text": [
      "Confusion Matrix\n",
      "\n",
      " Test score for RandomForestClassifier is :  0.9567901234567902\n"
     ]
    },
    {
     "data": {
      "image/png": "[encoded data removed]",
      "text/plain": [
       "<Figure size 432x288 with 2 Axes>"
      ]
     },
     "metadata": {
      "needs_background": "light"
     },
     "output_type": "display_data"
    },
    {
     "name": "stdout",
     "output_type": "stream",
     "text": [
      " 0 - No Risk Of Stroke(Positive)  \n",
      " 1 - High Risk Of Stroke(Negative)\n",
      "\n",
      "Classification Report For RandomForestClassifier:\n",
      "              precision    recall  f1-score   support\n",
      "\n",
      "           0       1.00      0.91      0.95       967\n",
      "           1       0.92      1.00      0.96       977\n",
      "\n",
      "    accuracy                           0.96      1944\n",
      "   macro avg       0.96      0.96      0.96      1944\n",
      "weighted avg       0.96      0.96      0.96      1944\n",
      "\n"
     ]
    }
   ],
   "source": [
    "#Creating the RandomForestClassifier model using the best parameters from RandomSearchCV\n",
    "model3 = RandomForestClassifier(max_depth=46, min_samples_leaf=4, n_estimators=1800, random_state=24)#(n_estimators=800, criterion='gini', max_depth = None, max_features='sqrt', min_samples_leaf=1,min_samples_split=2)\n",
    "model3.fit(X_train_scaled,y_train)\n",
    "\n",
    "#Model prediction on test set\n",
    "y_pred3 = model3.predict(X_test_scaled)\n",
    "print('Confusion Matrix')\n",
    "\n",
    "score3 = model3.score(X_test_scaled, y_test)\n",
    "print('\\n Test score for RandomForestClassifier is : ', score3)\n",
    "plot_confusion_matrix(model3,X_test_scaled,y_test,cmap=\"Blues\")\n",
    "plt.show()\n",
    "\n",
    "print(' 0 - No Risk Of Stroke(Positive)  \\n 1 - High Risk Of Stroke(Negative)\\n')\n",
    "\n",
    "print('Classification Report For RandomForestClassifier:')\n",
    "print(classification_report(y_test,y_pred3))\n"
   ]
  },
  {
   "cell_type": "markdown",
   "metadata": {},
   "source": [
    "####  Observation 3:\n",
    "\n",
    "Best parameters obtained by implementing RandomSearchCV are max_depth=46, min_samples_leaf=4, n_estimators=1800.\n",
    "\n",
    "Using these parameters the trained model gave following output:\n",
    "\n",
    "Out of 967 actual positive(no risk) values: \n",
    "The model made 883 correct positive(No Risk of Stroke) predictions.\n",
    "84 were inacuurately predicted as negative(High Risk Of stroke)\n",
    "\n",
    "Out of 977 actual negative(high risk) values: \n",
    "The model made 977 correct negative(high Risk of Stroke) predictions with no inaccurate predictions for (No risk of stroke)\n",
    "\n",
    "Overall, the model3 has 95% accuracy and it has better accuracy score compared to model1(KNeighborClassification) but lower as compared to model2(DecisionTree)."
   ]
  },
  {
   "cell_type": "markdown",
   "metadata": {},
   "source": [
    "### Model4:\n",
    "### LogisticRegression"
   ]
  },
  {
   "cell_type": "code",
   "execution_count": 31,
   "metadata": {},
   "outputs": [
    {
     "name": "stdout",
     "output_type": "stream",
     "text": [
      "\n",
      " Testing Score for LogisticRegression is :  0.7705761316872428\n"
     ]
    },
    {
     "data": {
      "image/png": "[encoded data removed]",
      "text/plain": [
       "<Figure size 432x288 with 2 Axes>"
      ]
     },
     "metadata": {
      "needs_background": "light"
     },
     "output_type": "display_data"
    },
    {
     "name": "stdout",
     "output_type": "stream",
     "text": [
      " 0 - No Risk Of Stroke(Positive)  \n",
      " 1 - High Risk Of Stroke(Negative)\n",
      "\n",
      "Classification Report for LogisticRegression:\n",
      "              precision    recall  f1-score   support\n",
      "\n",
      "           0       0.80      0.71      0.76       967\n",
      "           1       0.75      0.83      0.78       977\n",
      "\n",
      "    accuracy                           0.77      1944\n",
      "   macro avg       0.77      0.77      0.77      1944\n",
      "weighted avg       0.77      0.77      0.77      1944\n",
      "\n"
     ]
    }
   ],
   "source": [
    "from sklearn.linear_model import LogisticRegression\n",
    "\n",
    "model4 = LogisticRegression(random_state=42)\n",
    "model4.fit(X_train_scaled,y_train)\n",
    "y_pred4 = model4.predict(X_test_scaled)\n",
    "\n",
    "score4 = model4.score(X_test_scaled, y_test)\n",
    "print('\\n Testing Score for LogisticRegression is : ',score4)\n",
    "plot_confusion_matrix(model4,X_test_scaled,y_test,cmap=\"Blues\")\n",
    "plt.show()\n",
    "\n",
    "print(' 0 - No Risk Of Stroke(Positive)  \\n 1 - High Risk Of Stroke(Negative)\\n')\n",
    "\n",
    "print('Classification Report for LogisticRegression:')\n",
    "print(classification_report(y_test,y_pred4))"
   ]
  },
  {
   "cell_type": "markdown",
   "metadata": {},
   "source": [
    "#### Observation 4:\n",
    "\n",
    "Out of 967 actual positive(no risk) values: \n",
    "The model made 691 correct positive(No Risk of Stroke) predictions. \n",
    "276 were inacuurately predicted as negative(High Risk Of stroke)\n",
    "\n",
    "Out of 977 actual negative(high risk) values:\n",
    "The model made 807 correct negative(high Risk of Stroke) predictions. \n",
    "170 were inacuurately predicted as negative(Low Risk Of stroke)\n",
    "\n",
    "Overall, the model3 has 77% accuracy and it is the worst performing model amongst all."
   ]
  },
  {
   "cell_type": "markdown",
   "metadata": {},
   "source": [
    "### Summary:\n",
    "\n",
    "The stroke data was analyzed and processed for machine learning model implementation to predict stroke based on history of medical conditions and lifestyle features.\n",
    "Predicition of stroke is a classification problem, four different types of classification machine learning algorithms were implemented and performance of different models were evaluated to find the best model to predict the stroke. \n",
    "The models were compared and eveluated using the confusion Matrix and classification report.\n",
    "\n",
    "\n",
    "### Conclusion:\n",
    "\n",
    "Out of all of the applied models on stroke data to predict the possiblity of a person being at high risk of getting stroke, RandomForest with an overall prediction accuracy of 95% is the best model. The model is balanced and is likely to make accurate predictions for positive values (people with a low risk of getting a stroke) and not identifying 'people with high risk' falsely to not be at risk of getting a stroke. The model is sensitive to negative values for the problem at hand; having a false negative is a superior alternative to having a false positive."
   ]
  },
  {
   "cell_type": "code",
   "execution_count": null,
   "metadata": {},
   "outputs": [],
   "source": []
  }
 ],
 "metadata": {
  "kernelspec": {
   "display_name": "Python 3",
   "language": "python",
   "name": "python3"
  },
  "language_info": {
   "codemirror_mode": {
    "name": "ipython",
    "version": 3
   },
   "file_extension": ".py",
   "mimetype": "text/x-python",
   "name": "python",
   "nbconvert_exporter": "python",
   "pygments_lexer": "ipython3",
   "version": "3.8.5"
  }
 },
 "nbformat": 4,
 "nbformat_minor": 4
}
